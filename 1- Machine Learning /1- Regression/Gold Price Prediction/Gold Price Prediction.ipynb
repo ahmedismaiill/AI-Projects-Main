{
 "cells": [
  {
   "cell_type": "markdown",
   "metadata": {},
   "source": [
    "<div style=\"color:white;\n",
    "            display:fill;\n",
    "            border-radius:15px;\n",
    "            background-color:black;\n",
    "            font-size:100%;\n",
    "            font-family:Verdana;\n",
    "            letter-spacing:1px\">\n",
    "    <h1 style='padding: 20px;\n",
    "              color:white;\n",
    "              text-align:center;'>\n",
    "        Import Needed Libraries\n",
    "    </h1>\n",
    "    </div>\n",
    "    "
   ]
  },
  {
   "cell_type": "code",
   "execution_count": 230,
   "metadata": {},
   "outputs": [],
   "source": [
    "import joblib\n",
    "import pandas as pd\n",
    "import numpy as np\n",
    "import matplotlib.pyplot as plt\n",
    "import seaborn as sns\n",
    "import plotly.express as px\n",
    "from plotly.offline import iplot , plot\n",
    "from plotly.subplots import make_subplots\n",
    "from sklearn.preprocessing import MinMaxScaler , LabelEncoder\n",
    "from sklearn.model_selection import train_test_split , cross_val_score\n",
    "from sklearn.linear_model import LinearRegression\n",
    "from sklearn.ensemble import RandomForestRegressor , GradientBoostingRegressor , BaggingRegressor\n",
    "from sklearn.svm import SVR\n",
    "from sklearn.tree import DecisionTreeRegressor\n",
    "from sklearn.neighbors import KNeighborsRegressor\n",
    "from xgboost import XGBRegressor\n",
    "from sklearn.metrics import mean_squared_error , r2_score\n",
    "import warnings\n",
    "warnings.filterwarnings('ignore')"
   ]
  },
  {
   "cell_type": "markdown",
   "metadata": {},
   "source": [
    "<div style=\"color:white;\n",
    "            display:fill;\n",
    "            border-radius:15px;\n",
    "            background-color:black;\n",
    "            font-size:100%;\n",
    "            font-family:Verdana;\n",
    "            letter-spacing:1px\">\n",
    "    <h1 style='padding: 20px;\n",
    "              color:white;\n",
    "              text-align:center;'>\n",
    "        Reading Dataset And Get Info\n",
    "    </h1>\n",
    "    </div>"
   ]
  },
  {
   "cell_type": "markdown",
   "metadata": {},
   "source": [
    "## Load Data"
   ]
  },
  {
   "cell_type": "code",
   "execution_count": 231,
   "metadata": {},
   "outputs": [],
   "source": [
    "df = pd.read_csv('gld_price_data.csv')"
   ]
  },
  {
   "cell_type": "code",
   "execution_count": 232,
   "metadata": {},
   "outputs": [
    {
     "data": {
      "text/html": [
       "<div>\n",
       "<style scoped>\n",
       "    .dataframe tbody tr th:only-of-type {\n",
       "        vertical-align: middle;\n",
       "    }\n",
       "\n",
       "    .dataframe tbody tr th {\n",
       "        vertical-align: top;\n",
       "    }\n",
       "\n",
       "    .dataframe thead th {\n",
       "        text-align: right;\n",
       "    }\n",
       "</style>\n",
       "<table border=\"1\" class=\"dataframe\">\n",
       "  <thead>\n",
       "    <tr style=\"text-align: right;\">\n",
       "      <th></th>\n",
       "      <th>Date</th>\n",
       "      <th>SPX</th>\n",
       "      <th>GLD</th>\n",
       "      <th>USO</th>\n",
       "      <th>SLV</th>\n",
       "      <th>EUR/USD</th>\n",
       "    </tr>\n",
       "  </thead>\n",
       "  <tbody>\n",
       "    <tr>\n",
       "      <th>2029</th>\n",
       "      <td>3/8/2017</td>\n",
       "      <td>2362.979980</td>\n",
       "      <td>115.059998</td>\n",
       "      <td>10.670000</td>\n",
       "      <td>16.32</td>\n",
       "      <td>1.057015</td>\n",
       "    </tr>\n",
       "    <tr>\n",
       "      <th>1523</th>\n",
       "      <td>12/5/2014</td>\n",
       "      <td>2075.370117</td>\n",
       "      <td>114.430000</td>\n",
       "      <td>24.959999</td>\n",
       "      <td>15.61</td>\n",
       "      <td>1.238666</td>\n",
       "    </tr>\n",
       "    <tr>\n",
       "      <th>1617</th>\n",
       "      <td>4/28/2015</td>\n",
       "      <td>2114.760010</td>\n",
       "      <td>116.330002</td>\n",
       "      <td>19.600000</td>\n",
       "      <td>15.87</td>\n",
       "      <td>1.096912</td>\n",
       "    </tr>\n",
       "    <tr>\n",
       "      <th>1761</th>\n",
       "      <td>12/29/2015</td>\n",
       "      <td>2078.360107</td>\n",
       "      <td>102.199997</td>\n",
       "      <td>11.260000</td>\n",
       "      <td>13.27</td>\n",
       "      <td>1.097526</td>\n",
       "    </tr>\n",
       "    <tr>\n",
       "      <th>258</th>\n",
       "      <td>3/16/2009</td>\n",
       "      <td>753.890015</td>\n",
       "      <td>90.800003</td>\n",
       "      <td>28.250000</td>\n",
       "      <td>12.79</td>\n",
       "      <td>1.297606</td>\n",
       "    </tr>\n",
       "  </tbody>\n",
       "</table>\n",
       "</div>"
      ],
      "text/plain": [
       "            Date          SPX         GLD        USO    SLV   EUR/USD\n",
       "2029    3/8/2017  2362.979980  115.059998  10.670000  16.32  1.057015\n",
       "1523   12/5/2014  2075.370117  114.430000  24.959999  15.61  1.238666\n",
       "1617   4/28/2015  2114.760010  116.330002  19.600000  15.87  1.096912\n",
       "1761  12/29/2015  2078.360107  102.199997  11.260000  13.27  1.097526\n",
       "258    3/16/2009   753.890015   90.800003  28.250000  12.79  1.297606"
      ]
     },
     "execution_count": 232,
     "metadata": {},
     "output_type": "execute_result"
    }
   ],
   "source": [
    "# Show Sample of Data\n",
    "df.sample(5)"
   ]
  },
  {
   "cell_type": "code",
   "execution_count": 233,
   "metadata": {},
   "outputs": [
    {
     "name": "stdout",
     "output_type": "stream",
     "text": [
      "Number of Row : 2290\n",
      "Number of Columns : 6\n"
     ]
    }
   ],
   "source": [
    "# Show Shape of Data\n",
    "print(f\"Number of Row : {df.shape[0]}\\nNumber of Columns : {df.shape[1]}\")"
   ]
  },
  {
   "cell_type": "code",
   "execution_count": 234,
   "metadata": {},
   "outputs": [
    {
     "name": "stdout",
     "output_type": "stream",
     "text": [
      "<class 'pandas.core.frame.DataFrame'>\n",
      "RangeIndex: 2290 entries, 0 to 2289\n",
      "Data columns (total 6 columns):\n",
      " #   Column   Non-Null Count  Dtype  \n",
      "---  ------   --------------  -----  \n",
      " 0   Date     2290 non-null   object \n",
      " 1   SPX      2290 non-null   float64\n",
      " 2   GLD      2290 non-null   float64\n",
      " 3   USO      2290 non-null   float64\n",
      " 4   SLV      2290 non-null   float64\n",
      " 5   EUR/USD  2290 non-null   float64\n",
      "dtypes: float64(5), object(1)\n",
      "memory usage: 107.5+ KB\n"
     ]
    }
   ],
   "source": [
    "df.info()"
   ]
  },
  {
   "cell_type": "code",
   "execution_count": 235,
   "metadata": {},
   "outputs": [
    {
     "data": {
      "text/plain": [
       "Date       0\n",
       "SPX        0\n",
       "GLD        0\n",
       "USO        0\n",
       "SLV        0\n",
       "EUR/USD    0\n",
       "dtype: int64"
      ]
     },
     "execution_count": 235,
     "metadata": {},
     "output_type": "execute_result"
    }
   ],
   "source": [
    "# Check NaN Value\n",
    "df.isna().sum()"
   ]
  },
  {
   "cell_type": "code",
   "execution_count": 236,
   "metadata": {},
   "outputs": [
    {
     "data": {
      "text/html": [
       "<div>\n",
       "<style scoped>\n",
       "    .dataframe tbody tr th:only-of-type {\n",
       "        vertical-align: middle;\n",
       "    }\n",
       "\n",
       "    .dataframe tbody tr th {\n",
       "        vertical-align: top;\n",
       "    }\n",
       "\n",
       "    .dataframe thead th {\n",
       "        text-align: right;\n",
       "    }\n",
       "</style>\n",
       "<table border=\"1\" class=\"dataframe\">\n",
       "  <thead>\n",
       "    <tr style=\"text-align: right;\">\n",
       "      <th></th>\n",
       "      <th>SPX</th>\n",
       "      <th>GLD</th>\n",
       "      <th>USO</th>\n",
       "      <th>SLV</th>\n",
       "      <th>EUR/USD</th>\n",
       "    </tr>\n",
       "  </thead>\n",
       "  <tbody>\n",
       "    <tr>\n",
       "      <th>count</th>\n",
       "      <td>2290.000000</td>\n",
       "      <td>2290.000000</td>\n",
       "      <td>2290.000000</td>\n",
       "      <td>2290.000000</td>\n",
       "      <td>2290.000000</td>\n",
       "    </tr>\n",
       "    <tr>\n",
       "      <th>mean</th>\n",
       "      <td>1654.315776</td>\n",
       "      <td>122.732875</td>\n",
       "      <td>31.842221</td>\n",
       "      <td>20.084997</td>\n",
       "      <td>1.283653</td>\n",
       "    </tr>\n",
       "    <tr>\n",
       "      <th>std</th>\n",
       "      <td>519.111540</td>\n",
       "      <td>23.283346</td>\n",
       "      <td>19.523517</td>\n",
       "      <td>7.092566</td>\n",
       "      <td>0.131547</td>\n",
       "    </tr>\n",
       "    <tr>\n",
       "      <th>min</th>\n",
       "      <td>676.530029</td>\n",
       "      <td>70.000000</td>\n",
       "      <td>7.960000</td>\n",
       "      <td>8.850000</td>\n",
       "      <td>1.039047</td>\n",
       "    </tr>\n",
       "    <tr>\n",
       "      <th>25%</th>\n",
       "      <td>1239.874969</td>\n",
       "      <td>109.725000</td>\n",
       "      <td>14.380000</td>\n",
       "      <td>15.570000</td>\n",
       "      <td>1.171313</td>\n",
       "    </tr>\n",
       "    <tr>\n",
       "      <th>50%</th>\n",
       "      <td>1551.434998</td>\n",
       "      <td>120.580002</td>\n",
       "      <td>33.869999</td>\n",
       "      <td>17.268500</td>\n",
       "      <td>1.303297</td>\n",
       "    </tr>\n",
       "    <tr>\n",
       "      <th>75%</th>\n",
       "      <td>2073.010070</td>\n",
       "      <td>132.840004</td>\n",
       "      <td>37.827501</td>\n",
       "      <td>22.882500</td>\n",
       "      <td>1.369971</td>\n",
       "    </tr>\n",
       "    <tr>\n",
       "      <th>max</th>\n",
       "      <td>2872.870117</td>\n",
       "      <td>184.589996</td>\n",
       "      <td>117.480003</td>\n",
       "      <td>47.259998</td>\n",
       "      <td>1.598798</td>\n",
       "    </tr>\n",
       "  </tbody>\n",
       "</table>\n",
       "</div>"
      ],
      "text/plain": [
       "               SPX          GLD          USO          SLV      EUR/USD\n",
       "count  2290.000000  2290.000000  2290.000000  2290.000000  2290.000000\n",
       "mean   1654.315776   122.732875    31.842221    20.084997     1.283653\n",
       "std     519.111540    23.283346    19.523517     7.092566     0.131547\n",
       "min     676.530029    70.000000     7.960000     8.850000     1.039047\n",
       "25%    1239.874969   109.725000    14.380000    15.570000     1.171313\n",
       "50%    1551.434998   120.580002    33.869999    17.268500     1.303297\n",
       "75%    2073.010070   132.840004    37.827501    22.882500     1.369971\n",
       "max    2872.870117   184.589996   117.480003    47.259998     1.598798"
      ]
     },
     "execution_count": 236,
     "metadata": {},
     "output_type": "execute_result"
    }
   ],
   "source": [
    "# Describe Numiric Data\n",
    "df.describe()"
   ]
  },
  {
   "cell_type": "code",
   "execution_count": 237,
   "metadata": {},
   "outputs": [
    {
     "data": {
      "text/html": [
       "<div>\n",
       "<style scoped>\n",
       "    .dataframe tbody tr th:only-of-type {\n",
       "        vertical-align: middle;\n",
       "    }\n",
       "\n",
       "    .dataframe tbody tr th {\n",
       "        vertical-align: top;\n",
       "    }\n",
       "\n",
       "    .dataframe thead th {\n",
       "        text-align: right;\n",
       "    }\n",
       "</style>\n",
       "<table border=\"1\" class=\"dataframe\">\n",
       "  <thead>\n",
       "    <tr style=\"text-align: right;\">\n",
       "      <th></th>\n",
       "      <th>Count</th>\n",
       "      <th>Null</th>\n",
       "      <th>Null %</th>\n",
       "      <th>Cardinality</th>\n",
       "    </tr>\n",
       "  </thead>\n",
       "  <tbody>\n",
       "    <tr>\n",
       "      <th>Date</th>\n",
       "      <td>2290</td>\n",
       "      <td>0</td>\n",
       "      <td>0.0</td>\n",
       "      <td>2290</td>\n",
       "    </tr>\n",
       "    <tr>\n",
       "      <th>SPX</th>\n",
       "      <td>2290</td>\n",
       "      <td>0</td>\n",
       "      <td>0.0</td>\n",
       "      <td>2277</td>\n",
       "    </tr>\n",
       "    <tr>\n",
       "      <th>GLD</th>\n",
       "      <td>2290</td>\n",
       "      <td>0</td>\n",
       "      <td>0.0</td>\n",
       "      <td>1930</td>\n",
       "    </tr>\n",
       "    <tr>\n",
       "      <th>USO</th>\n",
       "      <td>2290</td>\n",
       "      <td>0</td>\n",
       "      <td>0.0</td>\n",
       "      <td>1514</td>\n",
       "    </tr>\n",
       "    <tr>\n",
       "      <th>SLV</th>\n",
       "      <td>2290</td>\n",
       "      <td>0</td>\n",
       "      <td>0.0</td>\n",
       "      <td>1331</td>\n",
       "    </tr>\n",
       "    <tr>\n",
       "      <th>EUR/USD</th>\n",
       "      <td>2290</td>\n",
       "      <td>0</td>\n",
       "      <td>0.0</td>\n",
       "      <td>2066</td>\n",
       "    </tr>\n",
       "  </tbody>\n",
       "</table>\n",
       "</div>"
      ],
      "text/plain": [
       "         Count  Null  Null %  Cardinality\n",
       "Date      2290     0     0.0         2290\n",
       "SPX       2290     0     0.0         2277\n",
       "GLD       2290     0     0.0         1930\n",
       "USO       2290     0     0.0         1514\n",
       "SLV       2290     0     0.0         1331\n",
       "EUR/USD   2290     0     0.0         2066"
      ]
     },
     "execution_count": 237,
     "metadata": {},
     "output_type": "execute_result"
    }
   ],
   "source": [
    "pd.DataFrame({'Count':df.shape[0],\n",
    "              'Null':df.isnull().sum(),\n",
    "              'Null %':df.isnull().mean() * 100,\n",
    "              'Cardinality':df.nunique()\n",
    "})"
   ]
  },
  {
   "cell_type": "markdown",
   "metadata": {},
   "source": [
    "- No Missing Value in This Data (Nulls)"
   ]
  },
  {
   "cell_type": "markdown",
   "metadata": {},
   "source": [
    "<div style=\"color:white;\n",
    "            display:fill;\n",
    "            border-radius:15px;\n",
    "            background-color:black;\n",
    "            font-size:100%;\n",
    "            font-family:Verdana;\n",
    "            letter-spacing:1px\">\n",
    "    <h1 style='padding: 20px;\n",
    "              color:white;\n",
    "              text-align:center;'>\n",
    "         EDA of Data and Get Insights\n",
    "    </h1>\n",
    "    </div>"
   ]
  },
  {
   "cell_type": "markdown",
   "metadata": {},
   "source": [
    "## Convert Column 'Date' To Years to get Insights"
   ]
  },
  {
   "cell_type": "code",
   "execution_count": 238,
   "metadata": {},
   "outputs": [],
   "source": [
    "# Convert and rename column in the data\n",
    "df['Date'] = pd.DatetimeIndex(df['Date']).year\n",
    "df.rename(columns={'Date':'Year'},inplace=True)"
   ]
  },
  {
   "cell_type": "code",
   "execution_count": 239,
   "metadata": {},
   "outputs": [
    {
     "data": {
      "text/html": [
       "<div>\n",
       "<style scoped>\n",
       "    .dataframe tbody tr th:only-of-type {\n",
       "        vertical-align: middle;\n",
       "    }\n",
       "\n",
       "    .dataframe tbody tr th {\n",
       "        vertical-align: top;\n",
       "    }\n",
       "\n",
       "    .dataframe thead th {\n",
       "        text-align: right;\n",
       "    }\n",
       "</style>\n",
       "<table border=\"1\" class=\"dataframe\">\n",
       "  <thead>\n",
       "    <tr style=\"text-align: right;\">\n",
       "      <th></th>\n",
       "      <th>Year</th>\n",
       "      <th>SPX</th>\n",
       "      <th>GLD</th>\n",
       "      <th>USO</th>\n",
       "      <th>SLV</th>\n",
       "      <th>EUR/USD</th>\n",
       "    </tr>\n",
       "  </thead>\n",
       "  <tbody>\n",
       "    <tr>\n",
       "      <th>0</th>\n",
       "      <td>2008</td>\n",
       "      <td>1447.160034</td>\n",
       "      <td>84.860001</td>\n",
       "      <td>78.470001</td>\n",
       "      <td>15.180</td>\n",
       "      <td>1.471692</td>\n",
       "    </tr>\n",
       "    <tr>\n",
       "      <th>1</th>\n",
       "      <td>2008</td>\n",
       "      <td>1447.160034</td>\n",
       "      <td>85.570000</td>\n",
       "      <td>78.370003</td>\n",
       "      <td>15.285</td>\n",
       "      <td>1.474491</td>\n",
       "    </tr>\n",
       "    <tr>\n",
       "      <th>2</th>\n",
       "      <td>2008</td>\n",
       "      <td>1411.630005</td>\n",
       "      <td>85.129997</td>\n",
       "      <td>77.309998</td>\n",
       "      <td>15.167</td>\n",
       "      <td>1.475492</td>\n",
       "    </tr>\n",
       "    <tr>\n",
       "      <th>3</th>\n",
       "      <td>2008</td>\n",
       "      <td>1416.180054</td>\n",
       "      <td>84.769997</td>\n",
       "      <td>75.500000</td>\n",
       "      <td>15.053</td>\n",
       "      <td>1.468299</td>\n",
       "    </tr>\n",
       "    <tr>\n",
       "      <th>4</th>\n",
       "      <td>2008</td>\n",
       "      <td>1390.189941</td>\n",
       "      <td>86.779999</td>\n",
       "      <td>76.059998</td>\n",
       "      <td>15.590</td>\n",
       "      <td>1.557099</td>\n",
       "    </tr>\n",
       "  </tbody>\n",
       "</table>\n",
       "</div>"
      ],
      "text/plain": [
       "   Year          SPX        GLD        USO     SLV   EUR/USD\n",
       "0  2008  1447.160034  84.860001  78.470001  15.180  1.471692\n",
       "1  2008  1447.160034  85.570000  78.370003  15.285  1.474491\n",
       "2  2008  1411.630005  85.129997  77.309998  15.167  1.475492\n",
       "3  2008  1416.180054  84.769997  75.500000  15.053  1.468299\n",
       "4  2008  1390.189941  86.779999  76.059998  15.590  1.557099"
      ]
     },
     "execution_count": 239,
     "metadata": {},
     "output_type": "execute_result"
    }
   ],
   "source": [
    "#Show Data after Changing\n",
    "df.head()"
   ]
  },
  {
   "cell_type": "code",
   "execution_count": 240,
   "metadata": {},
   "outputs": [
    {
     "name": "stdout",
     "output_type": "stream",
     "text": [
      "Number of Years in This Data '11' from 2008 to 2018\n"
     ]
    }
   ],
   "source": [
    "years_in_Data = sorted(df['Year'].unique().tolist())\n",
    "print(f\"Number of Years in This Data '{len(years_in_Data)}' from {years_in_Data[0]} to {years_in_Data[-1]}\")"
   ]
  },
  {
   "cell_type": "markdown",
   "metadata": {},
   "source": [
    "## Average Features for a Year"
   ]
  },
  {
   "cell_type": "code",
   "execution_count": 241,
   "metadata": {},
   "outputs": [
    {
     "data": {
      "application/vnd.plotly.v1+json": {
       "config": {
        "linkText": "Export to plot.ly",
        "plotlyServerURL": "https://plot.ly",
        "showLink": false
       },
       "data": [
        {
         "hovertemplate": "Year=%{x}<br>SPX=%{y}<extra></extra>",
         "legendgroup": "",
         "line": {
          "color": "red",
          "dash": "solid",
          "shape": "spline"
         },
         "marker": {
          "symbol": "circle"
         },
         "mode": "lines+markers",
         "name": "",
         "orientation": "v",
         "showlegend": false,
         "type": "scatter",
         "x": [
          2008,
          2009,
          2010,
          2011,
          2012,
          2013,
          2014,
          2015,
          2016,
          2017,
          2018
         ],
         "xaxis": "x",
         "y": [
          1208.3372744354067,
          945.6048643794642,
          1142.6006271486485,
          1268.5441878198199,
          1378.3545194931507,
          1642.1938912895928,
          1930.5893745223216,
          2061.795563394619,
          2091.121802959276,
          2447.6479402568807,
          2712.7460853333337
         ],
         "yaxis": "y"
        }
       ],
       "layout": {
        "legend": {
         "tracegroupgap": 0
        },
        "template": {
         "data": {
          "bar": [
           {
            "error_x": {
             "color": "#f2f5fa"
            },
            "error_y": {
             "color": "#f2f5fa"
            },
            "marker": {
             "line": {
              "color": "rgb(17,17,17)",
              "width": 0.5
             },
             "pattern": {
              "fillmode": "overlay",
              "size": 10,
              "solidity": 0.2
             }
            },
            "type": "bar"
           }
          ],
          "barpolar": [
           {
            "marker": {
             "line": {
              "color": "rgb(17,17,17)",
              "width": 0.5
             },
             "pattern": {
              "fillmode": "overlay",
              "size": 10,
              "solidity": 0.2
             }
            },
            "type": "barpolar"
           }
          ],
          "carpet": [
           {
            "aaxis": {
             "endlinecolor": "#A2B1C6",
             "gridcolor": "#506784",
             "linecolor": "#506784",
             "minorgridcolor": "#506784",
             "startlinecolor": "#A2B1C6"
            },
            "baxis": {
             "endlinecolor": "#A2B1C6",
             "gridcolor": "#506784",
             "linecolor": "#506784",
             "minorgridcolor": "#506784",
             "startlinecolor": "#A2B1C6"
            },
            "type": "carpet"
           }
          ],
          "choropleth": [
           {
            "colorbar": {
             "outlinewidth": 0,
             "ticks": ""
            },
            "type": "choropleth"
           }
          ],
          "contour": [
           {
            "colorbar": {
             "outlinewidth": 0,
             "ticks": ""
            },
            "colorscale": [
             [
              0,
              "#0d0887"
             ],
             [
              0.1111111111111111,
              "#46039f"
             ],
             [
              0.2222222222222222,
              "#7201a8"
             ],
             [
              0.3333333333333333,
              "#9c179e"
             ],
             [
              0.4444444444444444,
              "#bd3786"
             ],
             [
              0.5555555555555556,
              "#d8576b"
             ],
             [
              0.6666666666666666,
              "#ed7953"
             ],
             [
              0.7777777777777778,
              "#fb9f3a"
             ],
             [
              0.8888888888888888,
              "#fdca26"
             ],
             [
              1,
              "#f0f921"
             ]
            ],
            "type": "contour"
           }
          ],
          "contourcarpet": [
           {
            "colorbar": {
             "outlinewidth": 0,
             "ticks": ""
            },
            "type": "contourcarpet"
           }
          ],
          "heatmap": [
           {
            "colorbar": {
             "outlinewidth": 0,
             "ticks": ""
            },
            "colorscale": [
             [
              0,
              "#0d0887"
             ],
             [
              0.1111111111111111,
              "#46039f"
             ],
             [
              0.2222222222222222,
              "#7201a8"
             ],
             [
              0.3333333333333333,
              "#9c179e"
             ],
             [
              0.4444444444444444,
              "#bd3786"
             ],
             [
              0.5555555555555556,
              "#d8576b"
             ],
             [
              0.6666666666666666,
              "#ed7953"
             ],
             [
              0.7777777777777778,
              "#fb9f3a"
             ],
             [
              0.8888888888888888,
              "#fdca26"
             ],
             [
              1,
              "#f0f921"
             ]
            ],
            "type": "heatmap"
           }
          ],
          "heatmapgl": [
           {
            "colorbar": {
             "outlinewidth": 0,
             "ticks": ""
            },
            "colorscale": [
             [
              0,
              "#0d0887"
             ],
             [
              0.1111111111111111,
              "#46039f"
             ],
             [
              0.2222222222222222,
              "#7201a8"
             ],
             [
              0.3333333333333333,
              "#9c179e"
             ],
             [
              0.4444444444444444,
              "#bd3786"
             ],
             [
              0.5555555555555556,
              "#d8576b"
             ],
             [
              0.6666666666666666,
              "#ed7953"
             ],
             [
              0.7777777777777778,
              "#fb9f3a"
             ],
             [
              0.8888888888888888,
              "#fdca26"
             ],
             [
              1,
              "#f0f921"
             ]
            ],
            "type": "heatmapgl"
           }
          ],
          "histogram": [
           {
            "marker": {
             "pattern": {
              "fillmode": "overlay",
              "size": 10,
              "solidity": 0.2
             }
            },
            "type": "histogram"
           }
          ],
          "histogram2d": [
           {
            "colorbar": {
             "outlinewidth": 0,
             "ticks": ""
            },
            "colorscale": [
             [
              0,
              "#0d0887"
             ],
             [
              0.1111111111111111,
              "#46039f"
             ],
             [
              0.2222222222222222,
              "#7201a8"
             ],
             [
              0.3333333333333333,
              "#9c179e"
             ],
             [
              0.4444444444444444,
              "#bd3786"
             ],
             [
              0.5555555555555556,
              "#d8576b"
             ],
             [
              0.6666666666666666,
              "#ed7953"
             ],
             [
              0.7777777777777778,
              "#fb9f3a"
             ],
             [
              0.8888888888888888,
              "#fdca26"
             ],
             [
              1,
              "#f0f921"
             ]
            ],
            "type": "histogram2d"
           }
          ],
          "histogram2dcontour": [
           {
            "colorbar": {
             "outlinewidth": 0,
             "ticks": ""
            },
            "colorscale": [
             [
              0,
              "#0d0887"
             ],
             [
              0.1111111111111111,
              "#46039f"
             ],
             [
              0.2222222222222222,
              "#7201a8"
             ],
             [
              0.3333333333333333,
              "#9c179e"
             ],
             [
              0.4444444444444444,
              "#bd3786"
             ],
             [
              0.5555555555555556,
              "#d8576b"
             ],
             [
              0.6666666666666666,
              "#ed7953"
             ],
             [
              0.7777777777777778,
              "#fb9f3a"
             ],
             [
              0.8888888888888888,
              "#fdca26"
             ],
             [
              1,
              "#f0f921"
             ]
            ],
            "type": "histogram2dcontour"
           }
          ],
          "mesh3d": [
           {
            "colorbar": {
             "outlinewidth": 0,
             "ticks": ""
            },
            "type": "mesh3d"
           }
          ],
          "parcoords": [
           {
            "line": {
             "colorbar": {
              "outlinewidth": 0,
              "ticks": ""
             }
            },
            "type": "parcoords"
           }
          ],
          "pie": [
           {
            "automargin": true,
            "type": "pie"
           }
          ],
          "scatter": [
           {
            "marker": {
             "line": {
              "color": "#283442"
             }
            },
            "type": "scatter"
           }
          ],
          "scatter3d": [
           {
            "line": {
             "colorbar": {
              "outlinewidth": 0,
              "ticks": ""
             }
            },
            "marker": {
             "colorbar": {
              "outlinewidth": 0,
              "ticks": ""
             }
            },
            "type": "scatter3d"
           }
          ],
          "scattercarpet": [
           {
            "marker": {
             "colorbar": {
              "outlinewidth": 0,
              "ticks": ""
             }
            },
            "type": "scattercarpet"
           }
          ],
          "scattergeo": [
           {
            "marker": {
             "colorbar": {
              "outlinewidth": 0,
              "ticks": ""
             }
            },
            "type": "scattergeo"
           }
          ],
          "scattergl": [
           {
            "marker": {
             "line": {
              "color": "#283442"
             }
            },
            "type": "scattergl"
           }
          ],
          "scattermapbox": [
           {
            "marker": {
             "colorbar": {
              "outlinewidth": 0,
              "ticks": ""
             }
            },
            "type": "scattermapbox"
           }
          ],
          "scatterpolar": [
           {
            "marker": {
             "colorbar": {
              "outlinewidth": 0,
              "ticks": ""
             }
            },
            "type": "scatterpolar"
           }
          ],
          "scatterpolargl": [
           {
            "marker": {
             "colorbar": {
              "outlinewidth": 0,
              "ticks": ""
             }
            },
            "type": "scatterpolargl"
           }
          ],
          "scatterternary": [
           {
            "marker": {
             "colorbar": {
              "outlinewidth": 0,
              "ticks": ""
             }
            },
            "type": "scatterternary"
           }
          ],
          "surface": [
           {
            "colorbar": {
             "outlinewidth": 0,
             "ticks": ""
            },
            "colorscale": [
             [
              0,
              "#0d0887"
             ],
             [
              0.1111111111111111,
              "#46039f"
             ],
             [
              0.2222222222222222,
              "#7201a8"
             ],
             [
              0.3333333333333333,
              "#9c179e"
             ],
             [
              0.4444444444444444,
              "#bd3786"
             ],
             [
              0.5555555555555556,
              "#d8576b"
             ],
             [
              0.6666666666666666,
              "#ed7953"
             ],
             [
              0.7777777777777778,
              "#fb9f3a"
             ],
             [
              0.8888888888888888,
              "#fdca26"
             ],
             [
              1,
              "#f0f921"
             ]
            ],
            "type": "surface"
           }
          ],
          "table": [
           {
            "cells": {
             "fill": {
              "color": "#506784"
             },
             "line": {
              "color": "rgb(17,17,17)"
             }
            },
            "header": {
             "fill": {
              "color": "#2a3f5f"
             },
             "line": {
              "color": "rgb(17,17,17)"
             }
            },
            "type": "table"
           }
          ]
         },
         "layout": {
          "annotationdefaults": {
           "arrowcolor": "#f2f5fa",
           "arrowhead": 0,
           "arrowwidth": 1
          },
          "autotypenumbers": "strict",
          "coloraxis": {
           "colorbar": {
            "outlinewidth": 0,
            "ticks": ""
           }
          },
          "colorscale": {
           "diverging": [
            [
             0,
             "#8e0152"
            ],
            [
             0.1,
             "#c51b7d"
            ],
            [
             0.2,
             "#de77ae"
            ],
            [
             0.3,
             "#f1b6da"
            ],
            [
             0.4,
             "#fde0ef"
            ],
            [
             0.5,
             "#f7f7f7"
            ],
            [
             0.6,
             "#e6f5d0"
            ],
            [
             0.7,
             "#b8e186"
            ],
            [
             0.8,
             "#7fbc41"
            ],
            [
             0.9,
             "#4d9221"
            ],
            [
             1,
             "#276419"
            ]
           ],
           "sequential": [
            [
             0,
             "#0d0887"
            ],
            [
             0.1111111111111111,
             "#46039f"
            ],
            [
             0.2222222222222222,
             "#7201a8"
            ],
            [
             0.3333333333333333,
             "#9c179e"
            ],
            [
             0.4444444444444444,
             "#bd3786"
            ],
            [
             0.5555555555555556,
             "#d8576b"
            ],
            [
             0.6666666666666666,
             "#ed7953"
            ],
            [
             0.7777777777777778,
             "#fb9f3a"
            ],
            [
             0.8888888888888888,
             "#fdca26"
            ],
            [
             1,
             "#f0f921"
            ]
           ],
           "sequentialminus": [
            [
             0,
             "#0d0887"
            ],
            [
             0.1111111111111111,
             "#46039f"
            ],
            [
             0.2222222222222222,
             "#7201a8"
            ],
            [
             0.3333333333333333,
             "#9c179e"
            ],
            [
             0.4444444444444444,
             "#bd3786"
            ],
            [
             0.5555555555555556,
             "#d8576b"
            ],
            [
             0.6666666666666666,
             "#ed7953"
            ],
            [
             0.7777777777777778,
             "#fb9f3a"
            ],
            [
             0.8888888888888888,
             "#fdca26"
            ],
            [
             1,
             "#f0f921"
            ]
           ]
          },
          "colorway": [
           "#636efa",
           "#EF553B",
           "#00cc96",
           "#ab63fa",
           "#FFA15A",
           "#19d3f3",
           "#FF6692",
           "#B6E880",
           "#FF97FF",
           "#FECB52"
          ],
          "font": {
           "color": "#f2f5fa"
          },
          "geo": {
           "bgcolor": "rgb(17,17,17)",
           "lakecolor": "rgb(17,17,17)",
           "landcolor": "rgb(17,17,17)",
           "showlakes": true,
           "showland": true,
           "subunitcolor": "#506784"
          },
          "hoverlabel": {
           "align": "left"
          },
          "hovermode": "closest",
          "mapbox": {
           "style": "dark"
          },
          "paper_bgcolor": "rgb(17,17,17)",
          "plot_bgcolor": "rgb(17,17,17)",
          "polar": {
           "angularaxis": {
            "gridcolor": "#506784",
            "linecolor": "#506784",
            "ticks": ""
           },
           "bgcolor": "rgb(17,17,17)",
           "radialaxis": {
            "gridcolor": "#506784",
            "linecolor": "#506784",
            "ticks": ""
           }
          },
          "scene": {
           "xaxis": {
            "backgroundcolor": "rgb(17,17,17)",
            "gridcolor": "#506784",
            "gridwidth": 2,
            "linecolor": "#506784",
            "showbackground": true,
            "ticks": "",
            "zerolinecolor": "#C8D4E3"
           },
           "yaxis": {
            "backgroundcolor": "rgb(17,17,17)",
            "gridcolor": "#506784",
            "gridwidth": 2,
            "linecolor": "#506784",
            "showbackground": true,
            "ticks": "",
            "zerolinecolor": "#C8D4E3"
           },
           "zaxis": {
            "backgroundcolor": "rgb(17,17,17)",
            "gridcolor": "#506784",
            "gridwidth": 2,
            "linecolor": "#506784",
            "showbackground": true,
            "ticks": "",
            "zerolinecolor": "#C8D4E3"
           }
          },
          "shapedefaults": {
           "line": {
            "color": "#f2f5fa"
           }
          },
          "sliderdefaults": {
           "bgcolor": "#C8D4E3",
           "bordercolor": "rgb(17,17,17)",
           "borderwidth": 1,
           "tickwidth": 0
          },
          "ternary": {
           "aaxis": {
            "gridcolor": "#506784",
            "linecolor": "#506784",
            "ticks": ""
           },
           "baxis": {
            "gridcolor": "#506784",
            "linecolor": "#506784",
            "ticks": ""
           },
           "bgcolor": "rgb(17,17,17)",
           "caxis": {
            "gridcolor": "#506784",
            "linecolor": "#506784",
            "ticks": ""
           }
          },
          "title": {
           "x": 0.05
          },
          "updatemenudefaults": {
           "bgcolor": "#506784",
           "borderwidth": 0
          },
          "xaxis": {
           "automargin": true,
           "gridcolor": "#283442",
           "linecolor": "#506784",
           "ticks": "",
           "title": {
            "standoff": 15
           },
           "zerolinecolor": "#283442",
           "zerolinewidth": 2
          },
          "yaxis": {
           "automargin": true,
           "gridcolor": "#283442",
           "linecolor": "#506784",
           "ticks": "",
           "title": {
            "standoff": 15
           },
           "zerolinecolor": "#283442",
           "zerolinewidth": 2
          }
         }
        },
        "title": {
         "text": "Average SPX for a Year"
        },
        "xaxis": {
         "anchor": "y",
         "domain": [
          0,
          1
         ],
         "title": {
          "text": "Year"
         },
         "type": "log"
        },
        "yaxis": {
         "anchor": "x",
         "domain": [
          0,
          1
         ],
         "title": {
          "text": "SPX"
         }
        }
       }
      }
     },
     "metadata": {},
     "output_type": "display_data"
    },
    {
     "data": {
      "application/vnd.plotly.v1+json": {
       "config": {
        "linkText": "Export to plot.ly",
        "plotlyServerURL": "https://plot.ly",
        "showLink": false
       },
       "data": [
        {
         "hovertemplate": "Year=%{x}<br>GLD=%{y}<extra></extra>",
         "legendgroup": "",
         "line": {
          "color": "gold",
          "dash": "solid",
          "shape": "spline"
         },
         "marker": {
          "symbol": "circle"
         },
         "mode": "lines+markers",
         "name": "",
         "orientation": "v",
         "showlegend": false,
         "type": "scatter",
         "x": [
          2008,
          2009,
          2010,
          2011,
          2012,
          2013,
          2014,
          2015,
          2016,
          2017,
          2018
         ],
         "xaxis": "x",
         "y": [
          86.11114802870813,
          95.83446407142857,
          119.96639661711711,
          152.5914864954955,
          162.15150735159818,
          136.8532126244344,
          121.72129439285713,
          111.16556060986547,
          118.78063372398191,
          119.54610105504587,
          126.01705555172414
         ],
         "yaxis": "y"
        }
       ],
       "layout": {
        "legend": {
         "tracegroupgap": 0
        },
        "template": {
         "data": {
          "bar": [
           {
            "error_x": {
             "color": "#f2f5fa"
            },
            "error_y": {
             "color": "#f2f5fa"
            },
            "marker": {
             "line": {
              "color": "rgb(17,17,17)",
              "width": 0.5
             },
             "pattern": {
              "fillmode": "overlay",
              "size": 10,
              "solidity": 0.2
             }
            },
            "type": "bar"
           }
          ],
          "barpolar": [
           {
            "marker": {
             "line": {
              "color": "rgb(17,17,17)",
              "width": 0.5
             },
             "pattern": {
              "fillmode": "overlay",
              "size": 10,
              "solidity": 0.2
             }
            },
            "type": "barpolar"
           }
          ],
          "carpet": [
           {
            "aaxis": {
             "endlinecolor": "#A2B1C6",
             "gridcolor": "#506784",
             "linecolor": "#506784",
             "minorgridcolor": "#506784",
             "startlinecolor": "#A2B1C6"
            },
            "baxis": {
             "endlinecolor": "#A2B1C6",
             "gridcolor": "#506784",
             "linecolor": "#506784",
             "minorgridcolor": "#506784",
             "startlinecolor": "#A2B1C6"
            },
            "type": "carpet"
           }
          ],
          "choropleth": [
           {
            "colorbar": {
             "outlinewidth": 0,
             "ticks": ""
            },
            "type": "choropleth"
           }
          ],
          "contour": [
           {
            "colorbar": {
             "outlinewidth": 0,
             "ticks": ""
            },
            "colorscale": [
             [
              0,
              "#0d0887"
             ],
             [
              0.1111111111111111,
              "#46039f"
             ],
             [
              0.2222222222222222,
              "#7201a8"
             ],
             [
              0.3333333333333333,
              "#9c179e"
             ],
             [
              0.4444444444444444,
              "#bd3786"
             ],
             [
              0.5555555555555556,
              "#d8576b"
             ],
             [
              0.6666666666666666,
              "#ed7953"
             ],
             [
              0.7777777777777778,
              "#fb9f3a"
             ],
             [
              0.8888888888888888,
              "#fdca26"
             ],
             [
              1,
              "#f0f921"
             ]
            ],
            "type": "contour"
           }
          ],
          "contourcarpet": [
           {
            "colorbar": {
             "outlinewidth": 0,
             "ticks": ""
            },
            "type": "contourcarpet"
           }
          ],
          "heatmap": [
           {
            "colorbar": {
             "outlinewidth": 0,
             "ticks": ""
            },
            "colorscale": [
             [
              0,
              "#0d0887"
             ],
             [
              0.1111111111111111,
              "#46039f"
             ],
             [
              0.2222222222222222,
              "#7201a8"
             ],
             [
              0.3333333333333333,
              "#9c179e"
             ],
             [
              0.4444444444444444,
              "#bd3786"
             ],
             [
              0.5555555555555556,
              "#d8576b"
             ],
             [
              0.6666666666666666,
              "#ed7953"
             ],
             [
              0.7777777777777778,
              "#fb9f3a"
             ],
             [
              0.8888888888888888,
              "#fdca26"
             ],
             [
              1,
              "#f0f921"
             ]
            ],
            "type": "heatmap"
           }
          ],
          "heatmapgl": [
           {
            "colorbar": {
             "outlinewidth": 0,
             "ticks": ""
            },
            "colorscale": [
             [
              0,
              "#0d0887"
             ],
             [
              0.1111111111111111,
              "#46039f"
             ],
             [
              0.2222222222222222,
              "#7201a8"
             ],
             [
              0.3333333333333333,
              "#9c179e"
             ],
             [
              0.4444444444444444,
              "#bd3786"
             ],
             [
              0.5555555555555556,
              "#d8576b"
             ],
             [
              0.6666666666666666,
              "#ed7953"
             ],
             [
              0.7777777777777778,
              "#fb9f3a"
             ],
             [
              0.8888888888888888,
              "#fdca26"
             ],
             [
              1,
              "#f0f921"
             ]
            ],
            "type": "heatmapgl"
           }
          ],
          "histogram": [
           {
            "marker": {
             "pattern": {
              "fillmode": "overlay",
              "size": 10,
              "solidity": 0.2
             }
            },
            "type": "histogram"
           }
          ],
          "histogram2d": [
           {
            "colorbar": {
             "outlinewidth": 0,
             "ticks": ""
            },
            "colorscale": [
             [
              0,
              "#0d0887"
             ],
             [
              0.1111111111111111,
              "#46039f"
             ],
             [
              0.2222222222222222,
              "#7201a8"
             ],
             [
              0.3333333333333333,
              "#9c179e"
             ],
             [
              0.4444444444444444,
              "#bd3786"
             ],
             [
              0.5555555555555556,
              "#d8576b"
             ],
             [
              0.6666666666666666,
              "#ed7953"
             ],
             [
              0.7777777777777778,
              "#fb9f3a"
             ],
             [
              0.8888888888888888,
              "#fdca26"
             ],
             [
              1,
              "#f0f921"
             ]
            ],
            "type": "histogram2d"
           }
          ],
          "histogram2dcontour": [
           {
            "colorbar": {
             "outlinewidth": 0,
             "ticks": ""
            },
            "colorscale": [
             [
              0,
              "#0d0887"
             ],
             [
              0.1111111111111111,
              "#46039f"
             ],
             [
              0.2222222222222222,
              "#7201a8"
             ],
             [
              0.3333333333333333,
              "#9c179e"
             ],
             [
              0.4444444444444444,
              "#bd3786"
             ],
             [
              0.5555555555555556,
              "#d8576b"
             ],
             [
              0.6666666666666666,
              "#ed7953"
             ],
             [
              0.7777777777777778,
              "#fb9f3a"
             ],
             [
              0.8888888888888888,
              "#fdca26"
             ],
             [
              1,
              "#f0f921"
             ]
            ],
            "type": "histogram2dcontour"
           }
          ],
          "mesh3d": [
           {
            "colorbar": {
             "outlinewidth": 0,
             "ticks": ""
            },
            "type": "mesh3d"
           }
          ],
          "parcoords": [
           {
            "line": {
             "colorbar": {
              "outlinewidth": 0,
              "ticks": ""
             }
            },
            "type": "parcoords"
           }
          ],
          "pie": [
           {
            "automargin": true,
            "type": "pie"
           }
          ],
          "scatter": [
           {
            "marker": {
             "line": {
              "color": "#283442"
             }
            },
            "type": "scatter"
           }
          ],
          "scatter3d": [
           {
            "line": {
             "colorbar": {
              "outlinewidth": 0,
              "ticks": ""
             }
            },
            "marker": {
             "colorbar": {
              "outlinewidth": 0,
              "ticks": ""
             }
            },
            "type": "scatter3d"
           }
          ],
          "scattercarpet": [
           {
            "marker": {
             "colorbar": {
              "outlinewidth": 0,
              "ticks": ""
             }
            },
            "type": "scattercarpet"
           }
          ],
          "scattergeo": [
           {
            "marker": {
             "colorbar": {
              "outlinewidth": 0,
              "ticks": ""
             }
            },
            "type": "scattergeo"
           }
          ],
          "scattergl": [
           {
            "marker": {
             "line": {
              "color": "#283442"
             }
            },
            "type": "scattergl"
           }
          ],
          "scattermapbox": [
           {
            "marker": {
             "colorbar": {
              "outlinewidth": 0,
              "ticks": ""
             }
            },
            "type": "scattermapbox"
           }
          ],
          "scatterpolar": [
           {
            "marker": {
             "colorbar": {
              "outlinewidth": 0,
              "ticks": ""
             }
            },
            "type": "scatterpolar"
           }
          ],
          "scatterpolargl": [
           {
            "marker": {
             "colorbar": {
              "outlinewidth": 0,
              "ticks": ""
             }
            },
            "type": "scatterpolargl"
           }
          ],
          "scatterternary": [
           {
            "marker": {
             "colorbar": {
              "outlinewidth": 0,
              "ticks": ""
             }
            },
            "type": "scatterternary"
           }
          ],
          "surface": [
           {
            "colorbar": {
             "outlinewidth": 0,
             "ticks": ""
            },
            "colorscale": [
             [
              0,
              "#0d0887"
             ],
             [
              0.1111111111111111,
              "#46039f"
             ],
             [
              0.2222222222222222,
              "#7201a8"
             ],
             [
              0.3333333333333333,
              "#9c179e"
             ],
             [
              0.4444444444444444,
              "#bd3786"
             ],
             [
              0.5555555555555556,
              "#d8576b"
             ],
             [
              0.6666666666666666,
              "#ed7953"
             ],
             [
              0.7777777777777778,
              "#fb9f3a"
             ],
             [
              0.8888888888888888,
              "#fdca26"
             ],
             [
              1,
              "#f0f921"
             ]
            ],
            "type": "surface"
           }
          ],
          "table": [
           {
            "cells": {
             "fill": {
              "color": "#506784"
             },
             "line": {
              "color": "rgb(17,17,17)"
             }
            },
            "header": {
             "fill": {
              "color": "#2a3f5f"
             },
             "line": {
              "color": "rgb(17,17,17)"
             }
            },
            "type": "table"
           }
          ]
         },
         "layout": {
          "annotationdefaults": {
           "arrowcolor": "#f2f5fa",
           "arrowhead": 0,
           "arrowwidth": 1
          },
          "autotypenumbers": "strict",
          "coloraxis": {
           "colorbar": {
            "outlinewidth": 0,
            "ticks": ""
           }
          },
          "colorscale": {
           "diverging": [
            [
             0,
             "#8e0152"
            ],
            [
             0.1,
             "#c51b7d"
            ],
            [
             0.2,
             "#de77ae"
            ],
            [
             0.3,
             "#f1b6da"
            ],
            [
             0.4,
             "#fde0ef"
            ],
            [
             0.5,
             "#f7f7f7"
            ],
            [
             0.6,
             "#e6f5d0"
            ],
            [
             0.7,
             "#b8e186"
            ],
            [
             0.8,
             "#7fbc41"
            ],
            [
             0.9,
             "#4d9221"
            ],
            [
             1,
             "#276419"
            ]
           ],
           "sequential": [
            [
             0,
             "#0d0887"
            ],
            [
             0.1111111111111111,
             "#46039f"
            ],
            [
             0.2222222222222222,
             "#7201a8"
            ],
            [
             0.3333333333333333,
             "#9c179e"
            ],
            [
             0.4444444444444444,
             "#bd3786"
            ],
            [
             0.5555555555555556,
             "#d8576b"
            ],
            [
             0.6666666666666666,
             "#ed7953"
            ],
            [
             0.7777777777777778,
             "#fb9f3a"
            ],
            [
             0.8888888888888888,
             "#fdca26"
            ],
            [
             1,
             "#f0f921"
            ]
           ],
           "sequentialminus": [
            [
             0,
             "#0d0887"
            ],
            [
             0.1111111111111111,
             "#46039f"
            ],
            [
             0.2222222222222222,
             "#7201a8"
            ],
            [
             0.3333333333333333,
             "#9c179e"
            ],
            [
             0.4444444444444444,
             "#bd3786"
            ],
            [
             0.5555555555555556,
             "#d8576b"
            ],
            [
             0.6666666666666666,
             "#ed7953"
            ],
            [
             0.7777777777777778,
             "#fb9f3a"
            ],
            [
             0.8888888888888888,
             "#fdca26"
            ],
            [
             1,
             "#f0f921"
            ]
           ]
          },
          "colorway": [
           "#636efa",
           "#EF553B",
           "#00cc96",
           "#ab63fa",
           "#FFA15A",
           "#19d3f3",
           "#FF6692",
           "#B6E880",
           "#FF97FF",
           "#FECB52"
          ],
          "font": {
           "color": "#f2f5fa"
          },
          "geo": {
           "bgcolor": "rgb(17,17,17)",
           "lakecolor": "rgb(17,17,17)",
           "landcolor": "rgb(17,17,17)",
           "showlakes": true,
           "showland": true,
           "subunitcolor": "#506784"
          },
          "hoverlabel": {
           "align": "left"
          },
          "hovermode": "closest",
          "mapbox": {
           "style": "dark"
          },
          "paper_bgcolor": "rgb(17,17,17)",
          "plot_bgcolor": "rgb(17,17,17)",
          "polar": {
           "angularaxis": {
            "gridcolor": "#506784",
            "linecolor": "#506784",
            "ticks": ""
           },
           "bgcolor": "rgb(17,17,17)",
           "radialaxis": {
            "gridcolor": "#506784",
            "linecolor": "#506784",
            "ticks": ""
           }
          },
          "scene": {
           "xaxis": {
            "backgroundcolor": "rgb(17,17,17)",
            "gridcolor": "#506784",
            "gridwidth": 2,
            "linecolor": "#506784",
            "showbackground": true,
            "ticks": "",
            "zerolinecolor": "#C8D4E3"
           },
           "yaxis": {
            "backgroundcolor": "rgb(17,17,17)",
            "gridcolor": "#506784",
            "gridwidth": 2,
            "linecolor": "#506784",
            "showbackground": true,
            "ticks": "",
            "zerolinecolor": "#C8D4E3"
           },
           "zaxis": {
            "backgroundcolor": "rgb(17,17,17)",
            "gridcolor": "#506784",
            "gridwidth": 2,
            "linecolor": "#506784",
            "showbackground": true,
            "ticks": "",
            "zerolinecolor": "#C8D4E3"
           }
          },
          "shapedefaults": {
           "line": {
            "color": "#f2f5fa"
           }
          },
          "sliderdefaults": {
           "bgcolor": "#C8D4E3",
           "bordercolor": "rgb(17,17,17)",
           "borderwidth": 1,
           "tickwidth": 0
          },
          "ternary": {
           "aaxis": {
            "gridcolor": "#506784",
            "linecolor": "#506784",
            "ticks": ""
           },
           "baxis": {
            "gridcolor": "#506784",
            "linecolor": "#506784",
            "ticks": ""
           },
           "bgcolor": "rgb(17,17,17)",
           "caxis": {
            "gridcolor": "#506784",
            "linecolor": "#506784",
            "ticks": ""
           }
          },
          "title": {
           "x": 0.05
          },
          "updatemenudefaults": {
           "bgcolor": "#506784",
           "borderwidth": 0
          },
          "xaxis": {
           "automargin": true,
           "gridcolor": "#283442",
           "linecolor": "#506784",
           "ticks": "",
           "title": {
            "standoff": 15
           },
           "zerolinecolor": "#283442",
           "zerolinewidth": 2
          },
          "yaxis": {
           "automargin": true,
           "gridcolor": "#283442",
           "linecolor": "#506784",
           "ticks": "",
           "title": {
            "standoff": 15
           },
           "zerolinecolor": "#283442",
           "zerolinewidth": 2
          }
         }
        },
        "title": {
         "text": "Average GLD for a Year"
        },
        "xaxis": {
         "anchor": "y",
         "domain": [
          0,
          1
         ],
         "title": {
          "text": "Year"
         },
         "type": "log"
        },
        "yaxis": {
         "anchor": "x",
         "domain": [
          0,
          1
         ],
         "title": {
          "text": "GLD"
         }
        }
       }
      }
     },
     "metadata": {},
     "output_type": "display_data"
    },
    {
     "data": {
      "application/vnd.plotly.v1+json": {
       "config": {
        "linkText": "Export to plot.ly",
        "plotlyServerURL": "https://plot.ly",
        "showLink": false
       },
       "data": [
        {
         "hovertemplate": "Year=%{x}<br>USO=%{y}<extra></extra>",
         "legendgroup": "",
         "line": {
          "color": "snow",
          "dash": "solid",
          "shape": "spline"
         },
         "marker": {
          "symbol": "circle"
         },
         "mode": "lines+markers",
         "name": "",
         "orientation": "v",
         "showlegend": false,
         "type": "scatter",
         "x": [
          2008,
          2009,
          2010,
          2011,
          2012,
          2013,
          2014,
          2015,
          2016,
          2017,
          2018
         ],
         "xaxis": "x",
         "y": [
          77.5287559617225,
          34.14544646428571,
          36.65184691891892,
          37.7814864009009,
          35.5415980456621,
          35.01475099547511,
          33.88727683482143,
          16.52762335426009,
          10.474524886877827,
          10.572798165137614,
          12.923859770114943
         ],
         "yaxis": "y"
        }
       ],
       "layout": {
        "legend": {
         "tracegroupgap": 0
        },
        "template": {
         "data": {
          "bar": [
           {
            "error_x": {
             "color": "#f2f5fa"
            },
            "error_y": {
             "color": "#f2f5fa"
            },
            "marker": {
             "line": {
              "color": "rgb(17,17,17)",
              "width": 0.5
             },
             "pattern": {
              "fillmode": "overlay",
              "size": 10,
              "solidity": 0.2
             }
            },
            "type": "bar"
           }
          ],
          "barpolar": [
           {
            "marker": {
             "line": {
              "color": "rgb(17,17,17)",
              "width": 0.5
             },
             "pattern": {
              "fillmode": "overlay",
              "size": 10,
              "solidity": 0.2
             }
            },
            "type": "barpolar"
           }
          ],
          "carpet": [
           {
            "aaxis": {
             "endlinecolor": "#A2B1C6",
             "gridcolor": "#506784",
             "linecolor": "#506784",
             "minorgridcolor": "#506784",
             "startlinecolor": "#A2B1C6"
            },
            "baxis": {
             "endlinecolor": "#A2B1C6",
             "gridcolor": "#506784",
             "linecolor": "#506784",
             "minorgridcolor": "#506784",
             "startlinecolor": "#A2B1C6"
            },
            "type": "carpet"
           }
          ],
          "choropleth": [
           {
            "colorbar": {
             "outlinewidth": 0,
             "ticks": ""
            },
            "type": "choropleth"
           }
          ],
          "contour": [
           {
            "colorbar": {
             "outlinewidth": 0,
             "ticks": ""
            },
            "colorscale": [
             [
              0,
              "#0d0887"
             ],
             [
              0.1111111111111111,
              "#46039f"
             ],
             [
              0.2222222222222222,
              "#7201a8"
             ],
             [
              0.3333333333333333,
              "#9c179e"
             ],
             [
              0.4444444444444444,
              "#bd3786"
             ],
             [
              0.5555555555555556,
              "#d8576b"
             ],
             [
              0.6666666666666666,
              "#ed7953"
             ],
             [
              0.7777777777777778,
              "#fb9f3a"
             ],
             [
              0.8888888888888888,
              "#fdca26"
             ],
             [
              1,
              "#f0f921"
             ]
            ],
            "type": "contour"
           }
          ],
          "contourcarpet": [
           {
            "colorbar": {
             "outlinewidth": 0,
             "ticks": ""
            },
            "type": "contourcarpet"
           }
          ],
          "heatmap": [
           {
            "colorbar": {
             "outlinewidth": 0,
             "ticks": ""
            },
            "colorscale": [
             [
              0,
              "#0d0887"
             ],
             [
              0.1111111111111111,
              "#46039f"
             ],
             [
              0.2222222222222222,
              "#7201a8"
             ],
             [
              0.3333333333333333,
              "#9c179e"
             ],
             [
              0.4444444444444444,
              "#bd3786"
             ],
             [
              0.5555555555555556,
              "#d8576b"
             ],
             [
              0.6666666666666666,
              "#ed7953"
             ],
             [
              0.7777777777777778,
              "#fb9f3a"
             ],
             [
              0.8888888888888888,
              "#fdca26"
             ],
             [
              1,
              "#f0f921"
             ]
            ],
            "type": "heatmap"
           }
          ],
          "heatmapgl": [
           {
            "colorbar": {
             "outlinewidth": 0,
             "ticks": ""
            },
            "colorscale": [
             [
              0,
              "#0d0887"
             ],
             [
              0.1111111111111111,
              "#46039f"
             ],
             [
              0.2222222222222222,
              "#7201a8"
             ],
             [
              0.3333333333333333,
              "#9c179e"
             ],
             [
              0.4444444444444444,
              "#bd3786"
             ],
             [
              0.5555555555555556,
              "#d8576b"
             ],
             [
              0.6666666666666666,
              "#ed7953"
             ],
             [
              0.7777777777777778,
              "#fb9f3a"
             ],
             [
              0.8888888888888888,
              "#fdca26"
             ],
             [
              1,
              "#f0f921"
             ]
            ],
            "type": "heatmapgl"
           }
          ],
          "histogram": [
           {
            "marker": {
             "pattern": {
              "fillmode": "overlay",
              "size": 10,
              "solidity": 0.2
             }
            },
            "type": "histogram"
           }
          ],
          "histogram2d": [
           {
            "colorbar": {
             "outlinewidth": 0,
             "ticks": ""
            },
            "colorscale": [
             [
              0,
              "#0d0887"
             ],
             [
              0.1111111111111111,
              "#46039f"
             ],
             [
              0.2222222222222222,
              "#7201a8"
             ],
             [
              0.3333333333333333,
              "#9c179e"
             ],
             [
              0.4444444444444444,
              "#bd3786"
             ],
             [
              0.5555555555555556,
              "#d8576b"
             ],
             [
              0.6666666666666666,
              "#ed7953"
             ],
             [
              0.7777777777777778,
              "#fb9f3a"
             ],
             [
              0.8888888888888888,
              "#fdca26"
             ],
             [
              1,
              "#f0f921"
             ]
            ],
            "type": "histogram2d"
           }
          ],
          "histogram2dcontour": [
           {
            "colorbar": {
             "outlinewidth": 0,
             "ticks": ""
            },
            "colorscale": [
             [
              0,
              "#0d0887"
             ],
             [
              0.1111111111111111,
              "#46039f"
             ],
             [
              0.2222222222222222,
              "#7201a8"
             ],
             [
              0.3333333333333333,
              "#9c179e"
             ],
             [
              0.4444444444444444,
              "#bd3786"
             ],
             [
              0.5555555555555556,
              "#d8576b"
             ],
             [
              0.6666666666666666,
              "#ed7953"
             ],
             [
              0.7777777777777778,
              "#fb9f3a"
             ],
             [
              0.8888888888888888,
              "#fdca26"
             ],
             [
              1,
              "#f0f921"
             ]
            ],
            "type": "histogram2dcontour"
           }
          ],
          "mesh3d": [
           {
            "colorbar": {
             "outlinewidth": 0,
             "ticks": ""
            },
            "type": "mesh3d"
           }
          ],
          "parcoords": [
           {
            "line": {
             "colorbar": {
              "outlinewidth": 0,
              "ticks": ""
             }
            },
            "type": "parcoords"
           }
          ],
          "pie": [
           {
            "automargin": true,
            "type": "pie"
           }
          ],
          "scatter": [
           {
            "marker": {
             "line": {
              "color": "#283442"
             }
            },
            "type": "scatter"
           }
          ],
          "scatter3d": [
           {
            "line": {
             "colorbar": {
              "outlinewidth": 0,
              "ticks": ""
             }
            },
            "marker": {
             "colorbar": {
              "outlinewidth": 0,
              "ticks": ""
             }
            },
            "type": "scatter3d"
           }
          ],
          "scattercarpet": [
           {
            "marker": {
             "colorbar": {
              "outlinewidth": 0,
              "ticks": ""
             }
            },
            "type": "scattercarpet"
           }
          ],
          "scattergeo": [
           {
            "marker": {
             "colorbar": {
              "outlinewidth": 0,
              "ticks": ""
             }
            },
            "type": "scattergeo"
           }
          ],
          "scattergl": [
           {
            "marker": {
             "line": {
              "color": "#283442"
             }
            },
            "type": "scattergl"
           }
          ],
          "scattermapbox": [
           {
            "marker": {
             "colorbar": {
              "outlinewidth": 0,
              "ticks": ""
             }
            },
            "type": "scattermapbox"
           }
          ],
          "scatterpolar": [
           {
            "marker": {
             "colorbar": {
              "outlinewidth": 0,
              "ticks": ""
             }
            },
            "type": "scatterpolar"
           }
          ],
          "scatterpolargl": [
           {
            "marker": {
             "colorbar": {
              "outlinewidth": 0,
              "ticks": ""
             }
            },
            "type": "scatterpolargl"
           }
          ],
          "scatterternary": [
           {
            "marker": {
             "colorbar": {
              "outlinewidth": 0,
              "ticks": ""
             }
            },
            "type": "scatterternary"
           }
          ],
          "surface": [
           {
            "colorbar": {
             "outlinewidth": 0,
             "ticks": ""
            },
            "colorscale": [
             [
              0,
              "#0d0887"
             ],
             [
              0.1111111111111111,
              "#46039f"
             ],
             [
              0.2222222222222222,
              "#7201a8"
             ],
             [
              0.3333333333333333,
              "#9c179e"
             ],
             [
              0.4444444444444444,
              "#bd3786"
             ],
             [
              0.5555555555555556,
              "#d8576b"
             ],
             [
              0.6666666666666666,
              "#ed7953"
             ],
             [
              0.7777777777777778,
              "#fb9f3a"
             ],
             [
              0.8888888888888888,
              "#fdca26"
             ],
             [
              1,
              "#f0f921"
             ]
            ],
            "type": "surface"
           }
          ],
          "table": [
           {
            "cells": {
             "fill": {
              "color": "#506784"
             },
             "line": {
              "color": "rgb(17,17,17)"
             }
            },
            "header": {
             "fill": {
              "color": "#2a3f5f"
             },
             "line": {
              "color": "rgb(17,17,17)"
             }
            },
            "type": "table"
           }
          ]
         },
         "layout": {
          "annotationdefaults": {
           "arrowcolor": "#f2f5fa",
           "arrowhead": 0,
           "arrowwidth": 1
          },
          "autotypenumbers": "strict",
          "coloraxis": {
           "colorbar": {
            "outlinewidth": 0,
            "ticks": ""
           }
          },
          "colorscale": {
           "diverging": [
            [
             0,
             "#8e0152"
            ],
            [
             0.1,
             "#c51b7d"
            ],
            [
             0.2,
             "#de77ae"
            ],
            [
             0.3,
             "#f1b6da"
            ],
            [
             0.4,
             "#fde0ef"
            ],
            [
             0.5,
             "#f7f7f7"
            ],
            [
             0.6,
             "#e6f5d0"
            ],
            [
             0.7,
             "#b8e186"
            ],
            [
             0.8,
             "#7fbc41"
            ],
            [
             0.9,
             "#4d9221"
            ],
            [
             1,
             "#276419"
            ]
           ],
           "sequential": [
            [
             0,
             "#0d0887"
            ],
            [
             0.1111111111111111,
             "#46039f"
            ],
            [
             0.2222222222222222,
             "#7201a8"
            ],
            [
             0.3333333333333333,
             "#9c179e"
            ],
            [
             0.4444444444444444,
             "#bd3786"
            ],
            [
             0.5555555555555556,
             "#d8576b"
            ],
            [
             0.6666666666666666,
             "#ed7953"
            ],
            [
             0.7777777777777778,
             "#fb9f3a"
            ],
            [
             0.8888888888888888,
             "#fdca26"
            ],
            [
             1,
             "#f0f921"
            ]
           ],
           "sequentialminus": [
            [
             0,
             "#0d0887"
            ],
            [
             0.1111111111111111,
             "#46039f"
            ],
            [
             0.2222222222222222,
             "#7201a8"
            ],
            [
             0.3333333333333333,
             "#9c179e"
            ],
            [
             0.4444444444444444,
             "#bd3786"
            ],
            [
             0.5555555555555556,
             "#d8576b"
            ],
            [
             0.6666666666666666,
             "#ed7953"
            ],
            [
             0.7777777777777778,
             "#fb9f3a"
            ],
            [
             0.8888888888888888,
             "#fdca26"
            ],
            [
             1,
             "#f0f921"
            ]
           ]
          },
          "colorway": [
           "#636efa",
           "#EF553B",
           "#00cc96",
           "#ab63fa",
           "#FFA15A",
           "#19d3f3",
           "#FF6692",
           "#B6E880",
           "#FF97FF",
           "#FECB52"
          ],
          "font": {
           "color": "#f2f5fa"
          },
          "geo": {
           "bgcolor": "rgb(17,17,17)",
           "lakecolor": "rgb(17,17,17)",
           "landcolor": "rgb(17,17,17)",
           "showlakes": true,
           "showland": true,
           "subunitcolor": "#506784"
          },
          "hoverlabel": {
           "align": "left"
          },
          "hovermode": "closest",
          "mapbox": {
           "style": "dark"
          },
          "paper_bgcolor": "rgb(17,17,17)",
          "plot_bgcolor": "rgb(17,17,17)",
          "polar": {
           "angularaxis": {
            "gridcolor": "#506784",
            "linecolor": "#506784",
            "ticks": ""
           },
           "bgcolor": "rgb(17,17,17)",
           "radialaxis": {
            "gridcolor": "#506784",
            "linecolor": "#506784",
            "ticks": ""
           }
          },
          "scene": {
           "xaxis": {
            "backgroundcolor": "rgb(17,17,17)",
            "gridcolor": "#506784",
            "gridwidth": 2,
            "linecolor": "#506784",
            "showbackground": true,
            "ticks": "",
            "zerolinecolor": "#C8D4E3"
           },
           "yaxis": {
            "backgroundcolor": "rgb(17,17,17)",
            "gridcolor": "#506784",
            "gridwidth": 2,
            "linecolor": "#506784",
            "showbackground": true,
            "ticks": "",
            "zerolinecolor": "#C8D4E3"
           },
           "zaxis": {
            "backgroundcolor": "rgb(17,17,17)",
            "gridcolor": "#506784",
            "gridwidth": 2,
            "linecolor": "#506784",
            "showbackground": true,
            "ticks": "",
            "zerolinecolor": "#C8D4E3"
           }
          },
          "shapedefaults": {
           "line": {
            "color": "#f2f5fa"
           }
          },
          "sliderdefaults": {
           "bgcolor": "#C8D4E3",
           "bordercolor": "rgb(17,17,17)",
           "borderwidth": 1,
           "tickwidth": 0
          },
          "ternary": {
           "aaxis": {
            "gridcolor": "#506784",
            "linecolor": "#506784",
            "ticks": ""
           },
           "baxis": {
            "gridcolor": "#506784",
            "linecolor": "#506784",
            "ticks": ""
           },
           "bgcolor": "rgb(17,17,17)",
           "caxis": {
            "gridcolor": "#506784",
            "linecolor": "#506784",
            "ticks": ""
           }
          },
          "title": {
           "x": 0.05
          },
          "updatemenudefaults": {
           "bgcolor": "#506784",
           "borderwidth": 0
          },
          "xaxis": {
           "automargin": true,
           "gridcolor": "#283442",
           "linecolor": "#506784",
           "ticks": "",
           "title": {
            "standoff": 15
           },
           "zerolinecolor": "#283442",
           "zerolinewidth": 2
          },
          "yaxis": {
           "automargin": true,
           "gridcolor": "#283442",
           "linecolor": "#506784",
           "ticks": "",
           "title": {
            "standoff": 15
           },
           "zerolinecolor": "#283442",
           "zerolinewidth": 2
          }
         }
        },
        "title": {
         "text": "Average USO for a Year"
        },
        "xaxis": {
         "anchor": "y",
         "domain": [
          0,
          1
         ],
         "title": {
          "text": "Year"
         },
         "type": "log"
        },
        "yaxis": {
         "anchor": "x",
         "domain": [
          0,
          1
         ],
         "title": {
          "text": "USO"
         }
        }
       }
      }
     },
     "metadata": {},
     "output_type": "display_data"
    },
    {
     "data": {
      "application/vnd.plotly.v1+json": {
       "config": {
        "linkText": "Export to plot.ly",
        "plotlyServerURL": "https://plot.ly",
        "showLink": false
       },
       "data": [
        {
         "hovertemplate": "Year=%{x}<br>SLV=%{y}<extra></extra>",
         "legendgroup": "",
         "line": {
          "color": "seagreen",
          "dash": "solid",
          "shape": "spline"
         },
         "marker": {
          "symbol": "circle"
         },
         "mode": "lines+markers",
         "name": "",
         "orientation": "v",
         "showlegend": false,
         "type": "scatter",
         "x": [
          2008,
          2009,
          2010,
          2011,
          2012,
          2013,
          2014,
          2015,
          2016,
          2017,
          2018
         ],
         "xaxis": "x",
         "y": [
          14.760708162679427,
          14.478526812499998,
          19.92288291891892,
          34.118062981981986,
          30.349771675799087,
          23.17990949321267,
          18.276294598214285,
          14.99959640807175,
          16.16117646606335,
          16.150091743119265,
          15.73418614942529
         ],
         "yaxis": "y"
        }
       ],
       "layout": {
        "legend": {
         "tracegroupgap": 0
        },
        "template": {
         "data": {
          "bar": [
           {
            "error_x": {
             "color": "#f2f5fa"
            },
            "error_y": {
             "color": "#f2f5fa"
            },
            "marker": {
             "line": {
              "color": "rgb(17,17,17)",
              "width": 0.5
             },
             "pattern": {
              "fillmode": "overlay",
              "size": 10,
              "solidity": 0.2
             }
            },
            "type": "bar"
           }
          ],
          "barpolar": [
           {
            "marker": {
             "line": {
              "color": "rgb(17,17,17)",
              "width": 0.5
             },
             "pattern": {
              "fillmode": "overlay",
              "size": 10,
              "solidity": 0.2
             }
            },
            "type": "barpolar"
           }
          ],
          "carpet": [
           {
            "aaxis": {
             "endlinecolor": "#A2B1C6",
             "gridcolor": "#506784",
             "linecolor": "#506784",
             "minorgridcolor": "#506784",
             "startlinecolor": "#A2B1C6"
            },
            "baxis": {
             "endlinecolor": "#A2B1C6",
             "gridcolor": "#506784",
             "linecolor": "#506784",
             "minorgridcolor": "#506784",
             "startlinecolor": "#A2B1C6"
            },
            "type": "carpet"
           }
          ],
          "choropleth": [
           {
            "colorbar": {
             "outlinewidth": 0,
             "ticks": ""
            },
            "type": "choropleth"
           }
          ],
          "contour": [
           {
            "colorbar": {
             "outlinewidth": 0,
             "ticks": ""
            },
            "colorscale": [
             [
              0,
              "#0d0887"
             ],
             [
              0.1111111111111111,
              "#46039f"
             ],
             [
              0.2222222222222222,
              "#7201a8"
             ],
             [
              0.3333333333333333,
              "#9c179e"
             ],
             [
              0.4444444444444444,
              "#bd3786"
             ],
             [
              0.5555555555555556,
              "#d8576b"
             ],
             [
              0.6666666666666666,
              "#ed7953"
             ],
             [
              0.7777777777777778,
              "#fb9f3a"
             ],
             [
              0.8888888888888888,
              "#fdca26"
             ],
             [
              1,
              "#f0f921"
             ]
            ],
            "type": "contour"
           }
          ],
          "contourcarpet": [
           {
            "colorbar": {
             "outlinewidth": 0,
             "ticks": ""
            },
            "type": "contourcarpet"
           }
          ],
          "heatmap": [
           {
            "colorbar": {
             "outlinewidth": 0,
             "ticks": ""
            },
            "colorscale": [
             [
              0,
              "#0d0887"
             ],
             [
              0.1111111111111111,
              "#46039f"
             ],
             [
              0.2222222222222222,
              "#7201a8"
             ],
             [
              0.3333333333333333,
              "#9c179e"
             ],
             [
              0.4444444444444444,
              "#bd3786"
             ],
             [
              0.5555555555555556,
              "#d8576b"
             ],
             [
              0.6666666666666666,
              "#ed7953"
             ],
             [
              0.7777777777777778,
              "#fb9f3a"
             ],
             [
              0.8888888888888888,
              "#fdca26"
             ],
             [
              1,
              "#f0f921"
             ]
            ],
            "type": "heatmap"
           }
          ],
          "heatmapgl": [
           {
            "colorbar": {
             "outlinewidth": 0,
             "ticks": ""
            },
            "colorscale": [
             [
              0,
              "#0d0887"
             ],
             [
              0.1111111111111111,
              "#46039f"
             ],
             [
              0.2222222222222222,
              "#7201a8"
             ],
             [
              0.3333333333333333,
              "#9c179e"
             ],
             [
              0.4444444444444444,
              "#bd3786"
             ],
             [
              0.5555555555555556,
              "#d8576b"
             ],
             [
              0.6666666666666666,
              "#ed7953"
             ],
             [
              0.7777777777777778,
              "#fb9f3a"
             ],
             [
              0.8888888888888888,
              "#fdca26"
             ],
             [
              1,
              "#f0f921"
             ]
            ],
            "type": "heatmapgl"
           }
          ],
          "histogram": [
           {
            "marker": {
             "pattern": {
              "fillmode": "overlay",
              "size": 10,
              "solidity": 0.2
             }
            },
            "type": "histogram"
           }
          ],
          "histogram2d": [
           {
            "colorbar": {
             "outlinewidth": 0,
             "ticks": ""
            },
            "colorscale": [
             [
              0,
              "#0d0887"
             ],
             [
              0.1111111111111111,
              "#46039f"
             ],
             [
              0.2222222222222222,
              "#7201a8"
             ],
             [
              0.3333333333333333,
              "#9c179e"
             ],
             [
              0.4444444444444444,
              "#bd3786"
             ],
             [
              0.5555555555555556,
              "#d8576b"
             ],
             [
              0.6666666666666666,
              "#ed7953"
             ],
             [
              0.7777777777777778,
              "#fb9f3a"
             ],
             [
              0.8888888888888888,
              "#fdca26"
             ],
             [
              1,
              "#f0f921"
             ]
            ],
            "type": "histogram2d"
           }
          ],
          "histogram2dcontour": [
           {
            "colorbar": {
             "outlinewidth": 0,
             "ticks": ""
            },
            "colorscale": [
             [
              0,
              "#0d0887"
             ],
             [
              0.1111111111111111,
              "#46039f"
             ],
             [
              0.2222222222222222,
              "#7201a8"
             ],
             [
              0.3333333333333333,
              "#9c179e"
             ],
             [
              0.4444444444444444,
              "#bd3786"
             ],
             [
              0.5555555555555556,
              "#d8576b"
             ],
             [
              0.6666666666666666,
              "#ed7953"
             ],
             [
              0.7777777777777778,
              "#fb9f3a"
             ],
             [
              0.8888888888888888,
              "#fdca26"
             ],
             [
              1,
              "#f0f921"
             ]
            ],
            "type": "histogram2dcontour"
           }
          ],
          "mesh3d": [
           {
            "colorbar": {
             "outlinewidth": 0,
             "ticks": ""
            },
            "type": "mesh3d"
           }
          ],
          "parcoords": [
           {
            "line": {
             "colorbar": {
              "outlinewidth": 0,
              "ticks": ""
             }
            },
            "type": "parcoords"
           }
          ],
          "pie": [
           {
            "automargin": true,
            "type": "pie"
           }
          ],
          "scatter": [
           {
            "marker": {
             "line": {
              "color": "#283442"
             }
            },
            "type": "scatter"
           }
          ],
          "scatter3d": [
           {
            "line": {
             "colorbar": {
              "outlinewidth": 0,
              "ticks": ""
             }
            },
            "marker": {
             "colorbar": {
              "outlinewidth": 0,
              "ticks": ""
             }
            },
            "type": "scatter3d"
           }
          ],
          "scattercarpet": [
           {
            "marker": {
             "colorbar": {
              "outlinewidth": 0,
              "ticks": ""
             }
            },
            "type": "scattercarpet"
           }
          ],
          "scattergeo": [
           {
            "marker": {
             "colorbar": {
              "outlinewidth": 0,
              "ticks": ""
             }
            },
            "type": "scattergeo"
           }
          ],
          "scattergl": [
           {
            "marker": {
             "line": {
              "color": "#283442"
             }
            },
            "type": "scattergl"
           }
          ],
          "scattermapbox": [
           {
            "marker": {
             "colorbar": {
              "outlinewidth": 0,
              "ticks": ""
             }
            },
            "type": "scattermapbox"
           }
          ],
          "scatterpolar": [
           {
            "marker": {
             "colorbar": {
              "outlinewidth": 0,
              "ticks": ""
             }
            },
            "type": "scatterpolar"
           }
          ],
          "scatterpolargl": [
           {
            "marker": {
             "colorbar": {
              "outlinewidth": 0,
              "ticks": ""
             }
            },
            "type": "scatterpolargl"
           }
          ],
          "scatterternary": [
           {
            "marker": {
             "colorbar": {
              "outlinewidth": 0,
              "ticks": ""
             }
            },
            "type": "scatterternary"
           }
          ],
          "surface": [
           {
            "colorbar": {
             "outlinewidth": 0,
             "ticks": ""
            },
            "colorscale": [
             [
              0,
              "#0d0887"
             ],
             [
              0.1111111111111111,
              "#46039f"
             ],
             [
              0.2222222222222222,
              "#7201a8"
             ],
             [
              0.3333333333333333,
              "#9c179e"
             ],
             [
              0.4444444444444444,
              "#bd3786"
             ],
             [
              0.5555555555555556,
              "#d8576b"
             ],
             [
              0.6666666666666666,
              "#ed7953"
             ],
             [
              0.7777777777777778,
              "#fb9f3a"
             ],
             [
              0.8888888888888888,
              "#fdca26"
             ],
             [
              1,
              "#f0f921"
             ]
            ],
            "type": "surface"
           }
          ],
          "table": [
           {
            "cells": {
             "fill": {
              "color": "#506784"
             },
             "line": {
              "color": "rgb(17,17,17)"
             }
            },
            "header": {
             "fill": {
              "color": "#2a3f5f"
             },
             "line": {
              "color": "rgb(17,17,17)"
             }
            },
            "type": "table"
           }
          ]
         },
         "layout": {
          "annotationdefaults": {
           "arrowcolor": "#f2f5fa",
           "arrowhead": 0,
           "arrowwidth": 1
          },
          "autotypenumbers": "strict",
          "coloraxis": {
           "colorbar": {
            "outlinewidth": 0,
            "ticks": ""
           }
          },
          "colorscale": {
           "diverging": [
            [
             0,
             "#8e0152"
            ],
            [
             0.1,
             "#c51b7d"
            ],
            [
             0.2,
             "#de77ae"
            ],
            [
             0.3,
             "#f1b6da"
            ],
            [
             0.4,
             "#fde0ef"
            ],
            [
             0.5,
             "#f7f7f7"
            ],
            [
             0.6,
             "#e6f5d0"
            ],
            [
             0.7,
             "#b8e186"
            ],
            [
             0.8,
             "#7fbc41"
            ],
            [
             0.9,
             "#4d9221"
            ],
            [
             1,
             "#276419"
            ]
           ],
           "sequential": [
            [
             0,
             "#0d0887"
            ],
            [
             0.1111111111111111,
             "#46039f"
            ],
            [
             0.2222222222222222,
             "#7201a8"
            ],
            [
             0.3333333333333333,
             "#9c179e"
            ],
            [
             0.4444444444444444,
             "#bd3786"
            ],
            [
             0.5555555555555556,
             "#d8576b"
            ],
            [
             0.6666666666666666,
             "#ed7953"
            ],
            [
             0.7777777777777778,
             "#fb9f3a"
            ],
            [
             0.8888888888888888,
             "#fdca26"
            ],
            [
             1,
             "#f0f921"
            ]
           ],
           "sequentialminus": [
            [
             0,
             "#0d0887"
            ],
            [
             0.1111111111111111,
             "#46039f"
            ],
            [
             0.2222222222222222,
             "#7201a8"
            ],
            [
             0.3333333333333333,
             "#9c179e"
            ],
            [
             0.4444444444444444,
             "#bd3786"
            ],
            [
             0.5555555555555556,
             "#d8576b"
            ],
            [
             0.6666666666666666,
             "#ed7953"
            ],
            [
             0.7777777777777778,
             "#fb9f3a"
            ],
            [
             0.8888888888888888,
             "#fdca26"
            ],
            [
             1,
             "#f0f921"
            ]
           ]
          },
          "colorway": [
           "#636efa",
           "#EF553B",
           "#00cc96",
           "#ab63fa",
           "#FFA15A",
           "#19d3f3",
           "#FF6692",
           "#B6E880",
           "#FF97FF",
           "#FECB52"
          ],
          "font": {
           "color": "#f2f5fa"
          },
          "geo": {
           "bgcolor": "rgb(17,17,17)",
           "lakecolor": "rgb(17,17,17)",
           "landcolor": "rgb(17,17,17)",
           "showlakes": true,
           "showland": true,
           "subunitcolor": "#506784"
          },
          "hoverlabel": {
           "align": "left"
          },
          "hovermode": "closest",
          "mapbox": {
           "style": "dark"
          },
          "paper_bgcolor": "rgb(17,17,17)",
          "plot_bgcolor": "rgb(17,17,17)",
          "polar": {
           "angularaxis": {
            "gridcolor": "#506784",
            "linecolor": "#506784",
            "ticks": ""
           },
           "bgcolor": "rgb(17,17,17)",
           "radialaxis": {
            "gridcolor": "#506784",
            "linecolor": "#506784",
            "ticks": ""
           }
          },
          "scene": {
           "xaxis": {
            "backgroundcolor": "rgb(17,17,17)",
            "gridcolor": "#506784",
            "gridwidth": 2,
            "linecolor": "#506784",
            "showbackground": true,
            "ticks": "",
            "zerolinecolor": "#C8D4E3"
           },
           "yaxis": {
            "backgroundcolor": "rgb(17,17,17)",
            "gridcolor": "#506784",
            "gridwidth": 2,
            "linecolor": "#506784",
            "showbackground": true,
            "ticks": "",
            "zerolinecolor": "#C8D4E3"
           },
           "zaxis": {
            "backgroundcolor": "rgb(17,17,17)",
            "gridcolor": "#506784",
            "gridwidth": 2,
            "linecolor": "#506784",
            "showbackground": true,
            "ticks": "",
            "zerolinecolor": "#C8D4E3"
           }
          },
          "shapedefaults": {
           "line": {
            "color": "#f2f5fa"
           }
          },
          "sliderdefaults": {
           "bgcolor": "#C8D4E3",
           "bordercolor": "rgb(17,17,17)",
           "borderwidth": 1,
           "tickwidth": 0
          },
          "ternary": {
           "aaxis": {
            "gridcolor": "#506784",
            "linecolor": "#506784",
            "ticks": ""
           },
           "baxis": {
            "gridcolor": "#506784",
            "linecolor": "#506784",
            "ticks": ""
           },
           "bgcolor": "rgb(17,17,17)",
           "caxis": {
            "gridcolor": "#506784",
            "linecolor": "#506784",
            "ticks": ""
           }
          },
          "title": {
           "x": 0.05
          },
          "updatemenudefaults": {
           "bgcolor": "#506784",
           "borderwidth": 0
          },
          "xaxis": {
           "automargin": true,
           "gridcolor": "#283442",
           "linecolor": "#506784",
           "ticks": "",
           "title": {
            "standoff": 15
           },
           "zerolinecolor": "#283442",
           "zerolinewidth": 2
          },
          "yaxis": {
           "automargin": true,
           "gridcolor": "#283442",
           "linecolor": "#506784",
           "ticks": "",
           "title": {
            "standoff": 15
           },
           "zerolinecolor": "#283442",
           "zerolinewidth": 2
          }
         }
        },
        "title": {
         "text": "Average SLV for a Year"
        },
        "xaxis": {
         "anchor": "y",
         "domain": [
          0,
          1
         ],
         "title": {
          "text": "Year"
         },
         "type": "log"
        },
        "yaxis": {
         "anchor": "x",
         "domain": [
          0,
          1
         ],
         "title": {
          "text": "SLV"
         }
        }
       }
      }
     },
     "metadata": {},
     "output_type": "display_data"
    },
    {
     "data": {
      "application/vnd.plotly.v1+json": {
       "config": {
        "linkText": "Export to plot.ly",
        "plotlyServerURL": "https://plot.ly",
        "showLink": false
       },
       "data": [
        {
         "hovertemplate": "Year=%{x}<br>EUR/USD=%{y}<extra></extra>",
         "legendgroup": "",
         "line": {
          "color": "blue",
          "dash": "solid",
          "shape": "spline"
         },
         "marker": {
          "symbol": "circle"
         },
         "mode": "lines+markers",
         "name": "",
         "orientation": "v",
         "showlegend": false,
         "type": "scatter",
         "x": [
          2008,
          2009,
          2010,
          2011,
          2012,
          2013,
          2014,
          2015,
          2016,
          2017,
          2018
         ],
         "xaxis": "x",
         "y": [
          1.4644807607655503,
          1.3939001294642857,
          1.3300502792792792,
          1.3894795225225225,
          1.2874490228310504,
          1.3295586561085975,
          1.3278943169642858,
          1.1098670269058297,
          1.1057784932126697,
          1.1277420183486238,
          1.2248561494252872
         ],
         "yaxis": "y"
        }
       ],
       "layout": {
        "legend": {
         "tracegroupgap": 0
        },
        "template": {
         "data": {
          "bar": [
           {
            "error_x": {
             "color": "#f2f5fa"
            },
            "error_y": {
             "color": "#f2f5fa"
            },
            "marker": {
             "line": {
              "color": "rgb(17,17,17)",
              "width": 0.5
             },
             "pattern": {
              "fillmode": "overlay",
              "size": 10,
              "solidity": 0.2
             }
            },
            "type": "bar"
           }
          ],
          "barpolar": [
           {
            "marker": {
             "line": {
              "color": "rgb(17,17,17)",
              "width": 0.5
             },
             "pattern": {
              "fillmode": "overlay",
              "size": 10,
              "solidity": 0.2
             }
            },
            "type": "barpolar"
           }
          ],
          "carpet": [
           {
            "aaxis": {
             "endlinecolor": "#A2B1C6",
             "gridcolor": "#506784",
             "linecolor": "#506784",
             "minorgridcolor": "#506784",
             "startlinecolor": "#A2B1C6"
            },
            "baxis": {
             "endlinecolor": "#A2B1C6",
             "gridcolor": "#506784",
             "linecolor": "#506784",
             "minorgridcolor": "#506784",
             "startlinecolor": "#A2B1C6"
            },
            "type": "carpet"
           }
          ],
          "choropleth": [
           {
            "colorbar": {
             "outlinewidth": 0,
             "ticks": ""
            },
            "type": "choropleth"
           }
          ],
          "contour": [
           {
            "colorbar": {
             "outlinewidth": 0,
             "ticks": ""
            },
            "colorscale": [
             [
              0,
              "#0d0887"
             ],
             [
              0.1111111111111111,
              "#46039f"
             ],
             [
              0.2222222222222222,
              "#7201a8"
             ],
             [
              0.3333333333333333,
              "#9c179e"
             ],
             [
              0.4444444444444444,
              "#bd3786"
             ],
             [
              0.5555555555555556,
              "#d8576b"
             ],
             [
              0.6666666666666666,
              "#ed7953"
             ],
             [
              0.7777777777777778,
              "#fb9f3a"
             ],
             [
              0.8888888888888888,
              "#fdca26"
             ],
             [
              1,
              "#f0f921"
             ]
            ],
            "type": "contour"
           }
          ],
          "contourcarpet": [
           {
            "colorbar": {
             "outlinewidth": 0,
             "ticks": ""
            },
            "type": "contourcarpet"
           }
          ],
          "heatmap": [
           {
            "colorbar": {
             "outlinewidth": 0,
             "ticks": ""
            },
            "colorscale": [
             [
              0,
              "#0d0887"
             ],
             [
              0.1111111111111111,
              "#46039f"
             ],
             [
              0.2222222222222222,
              "#7201a8"
             ],
             [
              0.3333333333333333,
              "#9c179e"
             ],
             [
              0.4444444444444444,
              "#bd3786"
             ],
             [
              0.5555555555555556,
              "#d8576b"
             ],
             [
              0.6666666666666666,
              "#ed7953"
             ],
             [
              0.7777777777777778,
              "#fb9f3a"
             ],
             [
              0.8888888888888888,
              "#fdca26"
             ],
             [
              1,
              "#f0f921"
             ]
            ],
            "type": "heatmap"
           }
          ],
          "heatmapgl": [
           {
            "colorbar": {
             "outlinewidth": 0,
             "ticks": ""
            },
            "colorscale": [
             [
              0,
              "#0d0887"
             ],
             [
              0.1111111111111111,
              "#46039f"
             ],
             [
              0.2222222222222222,
              "#7201a8"
             ],
             [
              0.3333333333333333,
              "#9c179e"
             ],
             [
              0.4444444444444444,
              "#bd3786"
             ],
             [
              0.5555555555555556,
              "#d8576b"
             ],
             [
              0.6666666666666666,
              "#ed7953"
             ],
             [
              0.7777777777777778,
              "#fb9f3a"
             ],
             [
              0.8888888888888888,
              "#fdca26"
             ],
             [
              1,
              "#f0f921"
             ]
            ],
            "type": "heatmapgl"
           }
          ],
          "histogram": [
           {
            "marker": {
             "pattern": {
              "fillmode": "overlay",
              "size": 10,
              "solidity": 0.2
             }
            },
            "type": "histogram"
           }
          ],
          "histogram2d": [
           {
            "colorbar": {
             "outlinewidth": 0,
             "ticks": ""
            },
            "colorscale": [
             [
              0,
              "#0d0887"
             ],
             [
              0.1111111111111111,
              "#46039f"
             ],
             [
              0.2222222222222222,
              "#7201a8"
             ],
             [
              0.3333333333333333,
              "#9c179e"
             ],
             [
              0.4444444444444444,
              "#bd3786"
             ],
             [
              0.5555555555555556,
              "#d8576b"
             ],
             [
              0.6666666666666666,
              "#ed7953"
             ],
             [
              0.7777777777777778,
              "#fb9f3a"
             ],
             [
              0.8888888888888888,
              "#fdca26"
             ],
             [
              1,
              "#f0f921"
             ]
            ],
            "type": "histogram2d"
           }
          ],
          "histogram2dcontour": [
           {
            "colorbar": {
             "outlinewidth": 0,
             "ticks": ""
            },
            "colorscale": [
             [
              0,
              "#0d0887"
             ],
             [
              0.1111111111111111,
              "#46039f"
             ],
             [
              0.2222222222222222,
              "#7201a8"
             ],
             [
              0.3333333333333333,
              "#9c179e"
             ],
             [
              0.4444444444444444,
              "#bd3786"
             ],
             [
              0.5555555555555556,
              "#d8576b"
             ],
             [
              0.6666666666666666,
              "#ed7953"
             ],
             [
              0.7777777777777778,
              "#fb9f3a"
             ],
             [
              0.8888888888888888,
              "#fdca26"
             ],
             [
              1,
              "#f0f921"
             ]
            ],
            "type": "histogram2dcontour"
           }
          ],
          "mesh3d": [
           {
            "colorbar": {
             "outlinewidth": 0,
             "ticks": ""
            },
            "type": "mesh3d"
           }
          ],
          "parcoords": [
           {
            "line": {
             "colorbar": {
              "outlinewidth": 0,
              "ticks": ""
             }
            },
            "type": "parcoords"
           }
          ],
          "pie": [
           {
            "automargin": true,
            "type": "pie"
           }
          ],
          "scatter": [
           {
            "marker": {
             "line": {
              "color": "#283442"
             }
            },
            "type": "scatter"
           }
          ],
          "scatter3d": [
           {
            "line": {
             "colorbar": {
              "outlinewidth": 0,
              "ticks": ""
             }
            },
            "marker": {
             "colorbar": {
              "outlinewidth": 0,
              "ticks": ""
             }
            },
            "type": "scatter3d"
           }
          ],
          "scattercarpet": [
           {
            "marker": {
             "colorbar": {
              "outlinewidth": 0,
              "ticks": ""
             }
            },
            "type": "scattercarpet"
           }
          ],
          "scattergeo": [
           {
            "marker": {
             "colorbar": {
              "outlinewidth": 0,
              "ticks": ""
             }
            },
            "type": "scattergeo"
           }
          ],
          "scattergl": [
           {
            "marker": {
             "line": {
              "color": "#283442"
             }
            },
            "type": "scattergl"
           }
          ],
          "scattermapbox": [
           {
            "marker": {
             "colorbar": {
              "outlinewidth": 0,
              "ticks": ""
             }
            },
            "type": "scattermapbox"
           }
          ],
          "scatterpolar": [
           {
            "marker": {
             "colorbar": {
              "outlinewidth": 0,
              "ticks": ""
             }
            },
            "type": "scatterpolar"
           }
          ],
          "scatterpolargl": [
           {
            "marker": {
             "colorbar": {
              "outlinewidth": 0,
              "ticks": ""
             }
            },
            "type": "scatterpolargl"
           }
          ],
          "scatterternary": [
           {
            "marker": {
             "colorbar": {
              "outlinewidth": 0,
              "ticks": ""
             }
            },
            "type": "scatterternary"
           }
          ],
          "surface": [
           {
            "colorbar": {
             "outlinewidth": 0,
             "ticks": ""
            },
            "colorscale": [
             [
              0,
              "#0d0887"
             ],
             [
              0.1111111111111111,
              "#46039f"
             ],
             [
              0.2222222222222222,
              "#7201a8"
             ],
             [
              0.3333333333333333,
              "#9c179e"
             ],
             [
              0.4444444444444444,
              "#bd3786"
             ],
             [
              0.5555555555555556,
              "#d8576b"
             ],
             [
              0.6666666666666666,
              "#ed7953"
             ],
             [
              0.7777777777777778,
              "#fb9f3a"
             ],
             [
              0.8888888888888888,
              "#fdca26"
             ],
             [
              1,
              "#f0f921"
             ]
            ],
            "type": "surface"
           }
          ],
          "table": [
           {
            "cells": {
             "fill": {
              "color": "#506784"
             },
             "line": {
              "color": "rgb(17,17,17)"
             }
            },
            "header": {
             "fill": {
              "color": "#2a3f5f"
             },
             "line": {
              "color": "rgb(17,17,17)"
             }
            },
            "type": "table"
           }
          ]
         },
         "layout": {
          "annotationdefaults": {
           "arrowcolor": "#f2f5fa",
           "arrowhead": 0,
           "arrowwidth": 1
          },
          "autotypenumbers": "strict",
          "coloraxis": {
           "colorbar": {
            "outlinewidth": 0,
            "ticks": ""
           }
          },
          "colorscale": {
           "diverging": [
            [
             0,
             "#8e0152"
            ],
            [
             0.1,
             "#c51b7d"
            ],
            [
             0.2,
             "#de77ae"
            ],
            [
             0.3,
             "#f1b6da"
            ],
            [
             0.4,
             "#fde0ef"
            ],
            [
             0.5,
             "#f7f7f7"
            ],
            [
             0.6,
             "#e6f5d0"
            ],
            [
             0.7,
             "#b8e186"
            ],
            [
             0.8,
             "#7fbc41"
            ],
            [
             0.9,
             "#4d9221"
            ],
            [
             1,
             "#276419"
            ]
           ],
           "sequential": [
            [
             0,
             "#0d0887"
            ],
            [
             0.1111111111111111,
             "#46039f"
            ],
            [
             0.2222222222222222,
             "#7201a8"
            ],
            [
             0.3333333333333333,
             "#9c179e"
            ],
            [
             0.4444444444444444,
             "#bd3786"
            ],
            [
             0.5555555555555556,
             "#d8576b"
            ],
            [
             0.6666666666666666,
             "#ed7953"
            ],
            [
             0.7777777777777778,
             "#fb9f3a"
            ],
            [
             0.8888888888888888,
             "#fdca26"
            ],
            [
             1,
             "#f0f921"
            ]
           ],
           "sequentialminus": [
            [
             0,
             "#0d0887"
            ],
            [
             0.1111111111111111,
             "#46039f"
            ],
            [
             0.2222222222222222,
             "#7201a8"
            ],
            [
             0.3333333333333333,
             "#9c179e"
            ],
            [
             0.4444444444444444,
             "#bd3786"
            ],
            [
             0.5555555555555556,
             "#d8576b"
            ],
            [
             0.6666666666666666,
             "#ed7953"
            ],
            [
             0.7777777777777778,
             "#fb9f3a"
            ],
            [
             0.8888888888888888,
             "#fdca26"
            ],
            [
             1,
             "#f0f921"
            ]
           ]
          },
          "colorway": [
           "#636efa",
           "#EF553B",
           "#00cc96",
           "#ab63fa",
           "#FFA15A",
           "#19d3f3",
           "#FF6692",
           "#B6E880",
           "#FF97FF",
           "#FECB52"
          ],
          "font": {
           "color": "#f2f5fa"
          },
          "geo": {
           "bgcolor": "rgb(17,17,17)",
           "lakecolor": "rgb(17,17,17)",
           "landcolor": "rgb(17,17,17)",
           "showlakes": true,
           "showland": true,
           "subunitcolor": "#506784"
          },
          "hoverlabel": {
           "align": "left"
          },
          "hovermode": "closest",
          "mapbox": {
           "style": "dark"
          },
          "paper_bgcolor": "rgb(17,17,17)",
          "plot_bgcolor": "rgb(17,17,17)",
          "polar": {
           "angularaxis": {
            "gridcolor": "#506784",
            "linecolor": "#506784",
            "ticks": ""
           },
           "bgcolor": "rgb(17,17,17)",
           "radialaxis": {
            "gridcolor": "#506784",
            "linecolor": "#506784",
            "ticks": ""
           }
          },
          "scene": {
           "xaxis": {
            "backgroundcolor": "rgb(17,17,17)",
            "gridcolor": "#506784",
            "gridwidth": 2,
            "linecolor": "#506784",
            "showbackground": true,
            "ticks": "",
            "zerolinecolor": "#C8D4E3"
           },
           "yaxis": {
            "backgroundcolor": "rgb(17,17,17)",
            "gridcolor": "#506784",
            "gridwidth": 2,
            "linecolor": "#506784",
            "showbackground": true,
            "ticks": "",
            "zerolinecolor": "#C8D4E3"
           },
           "zaxis": {
            "backgroundcolor": "rgb(17,17,17)",
            "gridcolor": "#506784",
            "gridwidth": 2,
            "linecolor": "#506784",
            "showbackground": true,
            "ticks": "",
            "zerolinecolor": "#C8D4E3"
           }
          },
          "shapedefaults": {
           "line": {
            "color": "#f2f5fa"
           }
          },
          "sliderdefaults": {
           "bgcolor": "#C8D4E3",
           "bordercolor": "rgb(17,17,17)",
           "borderwidth": 1,
           "tickwidth": 0
          },
          "ternary": {
           "aaxis": {
            "gridcolor": "#506784",
            "linecolor": "#506784",
            "ticks": ""
           },
           "baxis": {
            "gridcolor": "#506784",
            "linecolor": "#506784",
            "ticks": ""
           },
           "bgcolor": "rgb(17,17,17)",
           "caxis": {
            "gridcolor": "#506784",
            "linecolor": "#506784",
            "ticks": ""
           }
          },
          "title": {
           "x": 0.05
          },
          "updatemenudefaults": {
           "bgcolor": "#506784",
           "borderwidth": 0
          },
          "xaxis": {
           "automargin": true,
           "gridcolor": "#283442",
           "linecolor": "#506784",
           "ticks": "",
           "title": {
            "standoff": 15
           },
           "zerolinecolor": "#283442",
           "zerolinewidth": 2
          },
          "yaxis": {
           "automargin": true,
           "gridcolor": "#283442",
           "linecolor": "#506784",
           "ticks": "",
           "title": {
            "standoff": 15
           },
           "zerolinecolor": "#283442",
           "zerolinewidth": 2
          }
         }
        },
        "title": {
         "text": "Average EUR/USD for a Year"
        },
        "xaxis": {
         "anchor": "y",
         "domain": [
          0,
          1
         ],
         "title": {
          "text": "Year"
         },
         "type": "log"
        },
        "yaxis": {
         "anchor": "x",
         "domain": [
          0,
          1
         ],
         "title": {
          "text": "EUR/USD"
         }
        }
       }
      }
     },
     "metadata": {},
     "output_type": "display_data"
    }
   ],
   "source": [
    "Year_Avg_all = df.groupby('Year').mean()\n",
    "colors = [\"red\", \"gold\", \"snow\", \"seagreen\", \"blue\"]\n",
    "columns = list(Year_Avg_all.columns)\n",
    "for column ,color in zip(columns,colors):\n",
    "  iplot(px.line(Year_Avg_all,\n",
    "                title=f'Average {column} for a Year',\n",
    "                x = Year_Avg_all.index,\n",
    "                y = Year_Avg_all[column],\n",
    "                log_x = True,\n",
    "                template = 'plotly_dark',\n",
    "                markers = '*',\n",
    "                line_shape = 'spline',\n",
    "                color_discrete_sequence=[color]\n",
    "        ))"
   ]
  },
  {
   "cell_type": "markdown",
   "metadata": {},
   "source": [
    "## Correlation Matrix"
   ]
  },
  {
   "cell_type": "code",
   "execution_count": 242,
   "metadata": {},
   "outputs": [
    {
     "data": {
      "application/vnd.plotly.v1+json": {
       "config": {
        "plotlyServerURL": "https://plot.ly"
       },
       "data": [
        {
         "coloraxis": "coloraxis",
         "hovertemplate": "x: %{x}<br>y: %{y}<br>color: %{z}<extra></extra>",
         "name": "0",
         "texttemplate": "%{z}",
         "type": "heatmap",
         "x": [
          "Year",
          "SPX",
          "GLD",
          "USO",
          "SLV",
          "EUR/USD"
         ],
         "xaxis": "x",
         "y": [
          "Year",
          "SPX",
          "GLD",
          "USO",
          "SLV",
          "EUR/USD"
         ],
         "yaxis": "y",
         "z": [
          [
           1,
           0.9444032629069,
           0.20665358722263358,
           -0.7757649720598897,
           -0.17248527669858008,
           -0.7916553092384543
          ],
          [
           0.9444032629069,
           1,
           0.04934504087062633,
           -0.5915726046590082,
           -0.2740547313274675,
           -0.6720174249755966
          ],
          [
           0.20665358722263358,
           0.04934504087062633,
           1,
           -0.18636016050323168,
           0.86663188126344,
           -0.024375466130593975
          ],
          [
           -0.7757649720598897,
           -0.5915726046590082,
           -0.18636016050323168,
           1,
           0.16754707072332675,
           0.829317454476358
          ],
          [
           -0.17248527669858008,
           -0.2740547313274675,
           0.86663188126344,
           0.16754707072332675,
           1,
           0.3216312713168978
          ],
          [
           -0.7916553092384543,
           -0.6720174249755966,
           -0.024375466130593975,
           0.829317454476358,
           0.3216312713168978,
           1
          ]
         ]
        }
       ],
       "layout": {
        "coloraxis": {
         "colorscale": [
          [
           0,
           "rgb(254, 245, 244)"
          ],
          [
           0.09090909090909091,
           "rgb(222, 224, 210)"
          ],
          [
           0.18181818181818182,
           "rgb(189, 206, 181)"
          ],
          [
           0.2727272727272727,
           "rgb(153, 189, 156)"
          ],
          [
           0.36363636363636365,
           "rgb(110, 173, 138)"
          ],
          [
           0.45454545454545453,
           "rgb(65, 157, 129)"
          ],
          [
           0.5454545454545454,
           "rgb(25, 137, 125)"
          ],
          [
           0.6363636363636364,
           "rgb(18, 116, 117)"
          ],
          [
           0.7272727272727273,
           "rgb(25, 94, 106)"
          ],
          [
           0.8181818181818182,
           "rgb(28, 72, 93)"
          ],
          [
           0.9090909090909091,
           "rgb(25, 51, 80)"
          ],
          [
           1,
           "rgb(20, 29, 67)"
          ]
         ]
        },
        "height": 500,
        "template": {
         "data": {
          "bar": [
           {
            "error_x": {
             "color": "#f2f5fa"
            },
            "error_y": {
             "color": "#f2f5fa"
            },
            "marker": {
             "line": {
              "color": "rgb(17,17,17)",
              "width": 0.5
             },
             "pattern": {
              "fillmode": "overlay",
              "size": 10,
              "solidity": 0.2
             }
            },
            "type": "bar"
           }
          ],
          "barpolar": [
           {
            "marker": {
             "line": {
              "color": "rgb(17,17,17)",
              "width": 0.5
             },
             "pattern": {
              "fillmode": "overlay",
              "size": 10,
              "solidity": 0.2
             }
            },
            "type": "barpolar"
           }
          ],
          "carpet": [
           {
            "aaxis": {
             "endlinecolor": "#A2B1C6",
             "gridcolor": "#506784",
             "linecolor": "#506784",
             "minorgridcolor": "#506784",
             "startlinecolor": "#A2B1C6"
            },
            "baxis": {
             "endlinecolor": "#A2B1C6",
             "gridcolor": "#506784",
             "linecolor": "#506784",
             "minorgridcolor": "#506784",
             "startlinecolor": "#A2B1C6"
            },
            "type": "carpet"
           }
          ],
          "choropleth": [
           {
            "colorbar": {
             "outlinewidth": 0,
             "ticks": ""
            },
            "type": "choropleth"
           }
          ],
          "contour": [
           {
            "colorbar": {
             "outlinewidth": 0,
             "ticks": ""
            },
            "colorscale": [
             [
              0,
              "#0d0887"
             ],
             [
              0.1111111111111111,
              "#46039f"
             ],
             [
              0.2222222222222222,
              "#7201a8"
             ],
             [
              0.3333333333333333,
              "#9c179e"
             ],
             [
              0.4444444444444444,
              "#bd3786"
             ],
             [
              0.5555555555555556,
              "#d8576b"
             ],
             [
              0.6666666666666666,
              "#ed7953"
             ],
             [
              0.7777777777777778,
              "#fb9f3a"
             ],
             [
              0.8888888888888888,
              "#fdca26"
             ],
             [
              1,
              "#f0f921"
             ]
            ],
            "type": "contour"
           }
          ],
          "contourcarpet": [
           {
            "colorbar": {
             "outlinewidth": 0,
             "ticks": ""
            },
            "type": "contourcarpet"
           }
          ],
          "heatmap": [
           {
            "colorbar": {
             "outlinewidth": 0,
             "ticks": ""
            },
            "colorscale": [
             [
              0,
              "#0d0887"
             ],
             [
              0.1111111111111111,
              "#46039f"
             ],
             [
              0.2222222222222222,
              "#7201a8"
             ],
             [
              0.3333333333333333,
              "#9c179e"
             ],
             [
              0.4444444444444444,
              "#bd3786"
             ],
             [
              0.5555555555555556,
              "#d8576b"
             ],
             [
              0.6666666666666666,
              "#ed7953"
             ],
             [
              0.7777777777777778,
              "#fb9f3a"
             ],
             [
              0.8888888888888888,
              "#fdca26"
             ],
             [
              1,
              "#f0f921"
             ]
            ],
            "type": "heatmap"
           }
          ],
          "heatmapgl": [
           {
            "colorbar": {
             "outlinewidth": 0,
             "ticks": ""
            },
            "colorscale": [
             [
              0,
              "#0d0887"
             ],
             [
              0.1111111111111111,
              "#46039f"
             ],
             [
              0.2222222222222222,
              "#7201a8"
             ],
             [
              0.3333333333333333,
              "#9c179e"
             ],
             [
              0.4444444444444444,
              "#bd3786"
             ],
             [
              0.5555555555555556,
              "#d8576b"
             ],
             [
              0.6666666666666666,
              "#ed7953"
             ],
             [
              0.7777777777777778,
              "#fb9f3a"
             ],
             [
              0.8888888888888888,
              "#fdca26"
             ],
             [
              1,
              "#f0f921"
             ]
            ],
            "type": "heatmapgl"
           }
          ],
          "histogram": [
           {
            "marker": {
             "pattern": {
              "fillmode": "overlay",
              "size": 10,
              "solidity": 0.2
             }
            },
            "type": "histogram"
           }
          ],
          "histogram2d": [
           {
            "colorbar": {
             "outlinewidth": 0,
             "ticks": ""
            },
            "colorscale": [
             [
              0,
              "#0d0887"
             ],
             [
              0.1111111111111111,
              "#46039f"
             ],
             [
              0.2222222222222222,
              "#7201a8"
             ],
             [
              0.3333333333333333,
              "#9c179e"
             ],
             [
              0.4444444444444444,
              "#bd3786"
             ],
             [
              0.5555555555555556,
              "#d8576b"
             ],
             [
              0.6666666666666666,
              "#ed7953"
             ],
             [
              0.7777777777777778,
              "#fb9f3a"
             ],
             [
              0.8888888888888888,
              "#fdca26"
             ],
             [
              1,
              "#f0f921"
             ]
            ],
            "type": "histogram2d"
           }
          ],
          "histogram2dcontour": [
           {
            "colorbar": {
             "outlinewidth": 0,
             "ticks": ""
            },
            "colorscale": [
             [
              0,
              "#0d0887"
             ],
             [
              0.1111111111111111,
              "#46039f"
             ],
             [
              0.2222222222222222,
              "#7201a8"
             ],
             [
              0.3333333333333333,
              "#9c179e"
             ],
             [
              0.4444444444444444,
              "#bd3786"
             ],
             [
              0.5555555555555556,
              "#d8576b"
             ],
             [
              0.6666666666666666,
              "#ed7953"
             ],
             [
              0.7777777777777778,
              "#fb9f3a"
             ],
             [
              0.8888888888888888,
              "#fdca26"
             ],
             [
              1,
              "#f0f921"
             ]
            ],
            "type": "histogram2dcontour"
           }
          ],
          "mesh3d": [
           {
            "colorbar": {
             "outlinewidth": 0,
             "ticks": ""
            },
            "type": "mesh3d"
           }
          ],
          "parcoords": [
           {
            "line": {
             "colorbar": {
              "outlinewidth": 0,
              "ticks": ""
             }
            },
            "type": "parcoords"
           }
          ],
          "pie": [
           {
            "automargin": true,
            "type": "pie"
           }
          ],
          "scatter": [
           {
            "marker": {
             "line": {
              "color": "#283442"
             }
            },
            "type": "scatter"
           }
          ],
          "scatter3d": [
           {
            "line": {
             "colorbar": {
              "outlinewidth": 0,
              "ticks": ""
             }
            },
            "marker": {
             "colorbar": {
              "outlinewidth": 0,
              "ticks": ""
             }
            },
            "type": "scatter3d"
           }
          ],
          "scattercarpet": [
           {
            "marker": {
             "colorbar": {
              "outlinewidth": 0,
              "ticks": ""
             }
            },
            "type": "scattercarpet"
           }
          ],
          "scattergeo": [
           {
            "marker": {
             "colorbar": {
              "outlinewidth": 0,
              "ticks": ""
             }
            },
            "type": "scattergeo"
           }
          ],
          "scattergl": [
           {
            "marker": {
             "line": {
              "color": "#283442"
             }
            },
            "type": "scattergl"
           }
          ],
          "scattermapbox": [
           {
            "marker": {
             "colorbar": {
              "outlinewidth": 0,
              "ticks": ""
             }
            },
            "type": "scattermapbox"
           }
          ],
          "scatterpolar": [
           {
            "marker": {
             "colorbar": {
              "outlinewidth": 0,
              "ticks": ""
             }
            },
            "type": "scatterpolar"
           }
          ],
          "scatterpolargl": [
           {
            "marker": {
             "colorbar": {
              "outlinewidth": 0,
              "ticks": ""
             }
            },
            "type": "scatterpolargl"
           }
          ],
          "scatterternary": [
           {
            "marker": {
             "colorbar": {
              "outlinewidth": 0,
              "ticks": ""
             }
            },
            "type": "scatterternary"
           }
          ],
          "surface": [
           {
            "colorbar": {
             "outlinewidth": 0,
             "ticks": ""
            },
            "colorscale": [
             [
              0,
              "#0d0887"
             ],
             [
              0.1111111111111111,
              "#46039f"
             ],
             [
              0.2222222222222222,
              "#7201a8"
             ],
             [
              0.3333333333333333,
              "#9c179e"
             ],
             [
              0.4444444444444444,
              "#bd3786"
             ],
             [
              0.5555555555555556,
              "#d8576b"
             ],
             [
              0.6666666666666666,
              "#ed7953"
             ],
             [
              0.7777777777777778,
              "#fb9f3a"
             ],
             [
              0.8888888888888888,
              "#fdca26"
             ],
             [
              1,
              "#f0f921"
             ]
            ],
            "type": "surface"
           }
          ],
          "table": [
           {
            "cells": {
             "fill": {
              "color": "#506784"
             },
             "line": {
              "color": "rgb(17,17,17)"
             }
            },
            "header": {
             "fill": {
              "color": "#2a3f5f"
             },
             "line": {
              "color": "rgb(17,17,17)"
             }
            },
            "type": "table"
           }
          ]
         },
         "layout": {
          "annotationdefaults": {
           "arrowcolor": "#f2f5fa",
           "arrowhead": 0,
           "arrowwidth": 1
          },
          "autotypenumbers": "strict",
          "coloraxis": {
           "colorbar": {
            "outlinewidth": 0,
            "ticks": ""
           }
          },
          "colorscale": {
           "diverging": [
            [
             0,
             "#8e0152"
            ],
            [
             0.1,
             "#c51b7d"
            ],
            [
             0.2,
             "#de77ae"
            ],
            [
             0.3,
             "#f1b6da"
            ],
            [
             0.4,
             "#fde0ef"
            ],
            [
             0.5,
             "#f7f7f7"
            ],
            [
             0.6,
             "#e6f5d0"
            ],
            [
             0.7,
             "#b8e186"
            ],
            [
             0.8,
             "#7fbc41"
            ],
            [
             0.9,
             "#4d9221"
            ],
            [
             1,
             "#276419"
            ]
           ],
           "sequential": [
            [
             0,
             "#0d0887"
            ],
            [
             0.1111111111111111,
             "#46039f"
            ],
            [
             0.2222222222222222,
             "#7201a8"
            ],
            [
             0.3333333333333333,
             "#9c179e"
            ],
            [
             0.4444444444444444,
             "#bd3786"
            ],
            [
             0.5555555555555556,
             "#d8576b"
            ],
            [
             0.6666666666666666,
             "#ed7953"
            ],
            [
             0.7777777777777778,
             "#fb9f3a"
            ],
            [
             0.8888888888888888,
             "#fdca26"
            ],
            [
             1,
             "#f0f921"
            ]
           ],
           "sequentialminus": [
            [
             0,
             "#0d0887"
            ],
            [
             0.1111111111111111,
             "#46039f"
            ],
            [
             0.2222222222222222,
             "#7201a8"
            ],
            [
             0.3333333333333333,
             "#9c179e"
            ],
            [
             0.4444444444444444,
             "#bd3786"
            ],
            [
             0.5555555555555556,
             "#d8576b"
            ],
            [
             0.6666666666666666,
             "#ed7953"
            ],
            [
             0.7777777777777778,
             "#fb9f3a"
            ],
            [
             0.8888888888888888,
             "#fdca26"
            ],
            [
             1,
             "#f0f921"
            ]
           ]
          },
          "colorway": [
           "#636efa",
           "#EF553B",
           "#00cc96",
           "#ab63fa",
           "#FFA15A",
           "#19d3f3",
           "#FF6692",
           "#B6E880",
           "#FF97FF",
           "#FECB52"
          ],
          "font": {
           "color": "#f2f5fa"
          },
          "geo": {
           "bgcolor": "rgb(17,17,17)",
           "lakecolor": "rgb(17,17,17)",
           "landcolor": "rgb(17,17,17)",
           "showlakes": true,
           "showland": true,
           "subunitcolor": "#506784"
          },
          "hoverlabel": {
           "align": "left"
          },
          "hovermode": "closest",
          "mapbox": {
           "style": "dark"
          },
          "paper_bgcolor": "rgb(17,17,17)",
          "plot_bgcolor": "rgb(17,17,17)",
          "polar": {
           "angularaxis": {
            "gridcolor": "#506784",
            "linecolor": "#506784",
            "ticks": ""
           },
           "bgcolor": "rgb(17,17,17)",
           "radialaxis": {
            "gridcolor": "#506784",
            "linecolor": "#506784",
            "ticks": ""
           }
          },
          "scene": {
           "xaxis": {
            "backgroundcolor": "rgb(17,17,17)",
            "gridcolor": "#506784",
            "gridwidth": 2,
            "linecolor": "#506784",
            "showbackground": true,
            "ticks": "",
            "zerolinecolor": "#C8D4E3"
           },
           "yaxis": {
            "backgroundcolor": "rgb(17,17,17)",
            "gridcolor": "#506784",
            "gridwidth": 2,
            "linecolor": "#506784",
            "showbackground": true,
            "ticks": "",
            "zerolinecolor": "#C8D4E3"
           },
           "zaxis": {
            "backgroundcolor": "rgb(17,17,17)",
            "gridcolor": "#506784",
            "gridwidth": 2,
            "linecolor": "#506784",
            "showbackground": true,
            "ticks": "",
            "zerolinecolor": "#C8D4E3"
           }
          },
          "shapedefaults": {
           "line": {
            "color": "#f2f5fa"
           }
          },
          "sliderdefaults": {
           "bgcolor": "#C8D4E3",
           "bordercolor": "rgb(17,17,17)",
           "borderwidth": 1,
           "tickwidth": 0
          },
          "ternary": {
           "aaxis": {
            "gridcolor": "#506784",
            "linecolor": "#506784",
            "ticks": ""
           },
           "baxis": {
            "gridcolor": "#506784",
            "linecolor": "#506784",
            "ticks": ""
           },
           "bgcolor": "rgb(17,17,17)",
           "caxis": {
            "gridcolor": "#506784",
            "linecolor": "#506784",
            "ticks": ""
           }
          },
          "title": {
           "x": 0.05
          },
          "updatemenudefaults": {
           "bgcolor": "#506784",
           "borderwidth": 0
          },
          "xaxis": {
           "automargin": true,
           "gridcolor": "#283442",
           "linecolor": "#506784",
           "ticks": "",
           "title": {
            "standoff": 15
           },
           "zerolinecolor": "#283442",
           "zerolinewidth": 2
          },
          "yaxis": {
           "automargin": true,
           "gridcolor": "#283442",
           "linecolor": "#506784",
           "ticks": "",
           "title": {
            "standoff": 15
           },
           "zerolinecolor": "#283442",
           "zerolinewidth": 2
          }
         }
        },
        "title": {
         "text": "Correlation Heatmap"
        },
        "width": 800,
        "xaxis": {
         "anchor": "y",
         "constrain": "domain",
         "domain": [
          0,
          1
         ],
         "scaleanchor": "y"
        },
        "yaxis": {
         "anchor": "x",
         "autorange": "reversed",
         "constrain": "domain",
         "domain": [
          0,
          1
         ]
        }
       }
      }
     },
     "metadata": {},
     "output_type": "display_data"
    }
   ],
   "source": [
    "fig = px.imshow(df.corr(), \n",
    "                text_auto=True, \n",
    "                color_continuous_scale = \"tempo\",  \n",
    "                template='plotly_dark',\n",
    "                title=\"Correlation Heatmap\")\n",
    "fig.update_layout(\n",
    "    width=800, \n",
    "    height=500  \n",
    ")"
   ]
  },
  {
   "cell_type": "markdown",
   "metadata": {},
   "source": [
    "- GLD is highly Postivily correlated with SLV (87%)"
   ]
  },
  {
   "cell_type": "code",
   "execution_count": 243,
   "metadata": {},
   "outputs": [
    {
     "data": {
      "application/vnd.plotly.v1+json": {
       "config": {
        "plotlyServerURL": "https://plot.ly"
       },
       "data": [
        {
         "hovertemplate": "GLD=%{x}<br>SLV=%{y}<extra></extra>",
         "legendgroup": "",
         "marker": {
          "color": "red",
          "symbol": "circle"
         },
         "mode": "markers",
         "name": "",
         "showlegend": false,
         "type": "scattergl",
         "x": [
          84.860001,
          85.57,
          85.129997,
          84.769997,
          86.779999,
          86.550003,
          88.25,
          88.580002,
          89.540001,
          87.989998,
          86.699997,
          86.5,
          87.419998,
          88.169998,
          87.889999,
          90.080002,
          90.300003,
          91.75,
          91.150002,
          92.059998,
          91.400002,
          89.349998,
          89.099998,
          87.68,
          88.949997,
          89.849998,
          91,
          91.330002,
          89.330002,
          89.440002,
          89.709999,
          89.150002,
          91.580002,
          93.239998,
          93.25,
          93.389999,
          92.739998,
          93.709999,
          94.779999,
          95.989998,
          96.18,
          97.239998,
          95.18,
          97.720001,
          96.5,
          96.089996,
          95.870003,
          95.989998,
          97.010002,
          98.339996,
          98.709999,
          99.169998,
          96.5,
          93.040001,
          89.910004,
          90.099998,
          92.730003,
          93.800003,
          93.459999,
          91.879997,
          86.860001,
          89.269997,
          89.419998,
          91.169998,
          90.349998,
          92.290001,
          91.769997,
          91.110001,
          91.660004,
          93.269997,
          92.559998,
          90.25,
          90.269997,
          89.220001,
          87.220001,
          87.690002,
          85.809998,
          83.989998,
          86.269997,
          86.629997,
          85.82,
          87.239998,
          86.989998,
          85.389999,
          85.199997,
          87,
          89.389999,
          90.900002,
          91.959999,
          90.980003,
          89.360001,
          89.139999,
          86.510002,
          87.959999,
          86.879997,
          86.650002,
          86.449997,
          87.989998,
          85.550003,
          87.019997,
          85.599998,
          87.010002,
          87.25,
          88.279999,
          88.419998,
          87.089996,
          87.470001,
          87.419998,
          90.610001,
          92.660004,
          93.169998,
          92.059998,
          91.230003,
          90.860001,
          91.5,
          93.529999,
          95.910004,
          96.169998,
          94.440002,
          94.220001,
          95.120003,
          93.059998,
          90.57,
          91.330002,
          91.730003,
          90.589996,
          89.519997,
          86.089996,
          80.93,
          81.230003,
          81.360001,
          82.18,
          79.199997,
          78.889999,
          78.389999,
          78.860001,
          76.489998,
          74.220001,
          73.080002,
          77.559998,
          76.790001,
          85.459999,
          82.800003,
          89.18,
          88.32,
          86.709999,
          86.449997,
          89.57,
          85.07,
          85.970001,
          82.330002,
          84.279999,
          87.269997,
          89.419998,
          89.900002,
          81.989998,
          82.199997,
          83.309998,
          79.290001,
          78.5,
          76.029999,
          71.709999,
          70.650002,
          72.18,
          73.790001,
          74,
          72.709999,
          71.339996,
          71.099998,
          75.480003,
          72.800003,
          72.220001,
          72.5,
          73.580002,
          72.050003,
          70,
          72.150002,
          73.300003,
          72.650002,
          72.510002,
          72.260002,
          73.449997,
          78.849998,
          80.910004,
          80.870003,
          80.379997,
          80.309998,
          75.650002,
          76.949997,
          76.18,
          75.5,
          74.519997,
          76.199997,
          76.330002,
          79.75,
          80.650002,
          80.809998,
          82.599998,
          84.459999,
          85.43,
          83.870003,
          82.629997,
          83.459999,
          82.629997,
          83.459999,
          85.599998,
          86.349998,
          85.900002,
          86.519997,
          86.230003,
          84.480003,
          85.129997,
          82.75,
          84.459999,
          83.919998,
          80.760002,
          80.879997,
          79.790001,
          80.389999,
          82.709999,
          84.519997,
          84.150002,
          84.580002,
          88.529999,
          88.949997,
          88.379997,
          87.419998,
          89.5,
          91.309998,
          88.839996,
          88.470001,
          89.18,
          90.120003,
          89.589996,
          88.32,
          90.209999,
          92.290001,
          93.169998,
          92.550003,
          95.449997,
          96.910004,
          95.769997,
          97.800003,
          97.730003,
          94.730003,
          93.150002,
          93.059998,
          92.629997,
          90.93,
          90.040001,
          88.989998,
          91.989998,
          92.290001,
          90.57,
          88.139999,
          89.220001,
          91.099998,
          91.300003,
          90.800003,
          90.040001,
          93.089996,
          94.349998,
          93.589996,
          92.080002,
          90.949997,
          91.980003,
          91.93,
          90.690002,
          89.980003,
          90.279999,
          91.029999,
          88.800003,
          85.269997,
          86.739998,
          86.610001,
          86.309998,
          87.879997,
          87.370003,
          87.5,
          85.809998,
          86.949997,
          86.889999,
          87.379997,
          88.800003,
          89.010002,
          87.75,
          88.330002,
          87.269997,
          88.639999,
          88.25,
          89.540001,
          89.440002,
          89.690002,
          90.699997,
          91.089996,
          91.029999,
          90.360001,
          90.959999,
          92.25,
          93.849998,
          93.760002,
          93.449997,
          94.239998,
          95.730003,
          96.360001,
          94.410004,
          96.230003,
          93.559998,
          93.830002,
          93.860001,
          93.699997,
          91.099998,
          91.93,
          92.349998,
          91.610001,
          90.540001,
          90.919998,
          91.449997,
          92.309998,
          92.040001,
          91.18,
          92.389999,
          91.25,
          90.760002,
          90.709999,
          89.269997,
          89.510002,
          90.190002,
          90.809998,
          92.239998,
          91.980003,
          93.279999,
          93.129997,
          93.440002,
          93.260002,
          93.709999,
          92.110001,
          91.199997,
          91.620003,
          93.870003,
          94.68,
          94.779999,
          94.599998,
          92.93,
          92.790001,
          92.949997,
          93.720001,
          91.610001,
          92.059998,
          92.529999,
          92.269997,
          92.339996,
          92.760002,
          92.790001,
          93.190002,
          93.400002,
          93.900002,
          96.190002,
          97.459999,
          97.43,
          97.080002,
          97.699997,
          97.959999,
          98.900002,
          99.910004,
          99.339996,
          98.360001,
          99.669998,
          98.830002,
          97.550003,
          97.050003,
          97.43,
          98.849998,
          97.889999,
          99.82,
          102.279999,
          102.360001,
          103.639999,
          103.559998,
          104.260002,
          104.18,
          102.860001,
          104.230003,
          103.419998,
          103.75,
          103.919998,
          101.860001,
          101.849998,
          100.730003,
          102.690002,
          102.529999,
          103.949997,
          106.459999,
          107.099998,
          106.980003,
          107.43,
          108.190002,
          108.389999,
          109.599998,
          108.209999,
          109.739998,
          111.629997,
          111.970001,
          112.25,
          112.300003,
          112.940002,
          114.290001,
          114.730003,
          116.620003,
          115.059998,
          115.639999,
          117.379997,
          119.18,
          118.699997,
          113.75,
          113.110001,
          110.949997,
          110.839996,
          110.82,
          109.32,
          110.239998,
          110.209999,
          111.589996,
          107.339996,
          108.949997,
          106.949997,
          106.169998,
          106.550003,
          108.360001,
          108.550003,
          107.470001,
          106.93,
          107.309998,
          109.800003,
          109.699997,
          111.510002,
          110.82,
          111.370003,
          112.849998,
          110.489998,
          111.540001,
          112.029999,
          110.860001,
          111.519997,
          108.940002,
          107.370003,
          107.169998,
          107.480003,
          107.559998,
          106.529999,
          106.480003,
          105.959999,
          108.349998,
          109.129997,
          108.699997,
          104.370003,
          104.68,
          104.040001,
          105.410004,
          105.120003,
          107.129997,
          107.040001,
          109.620003,
          109.25,
          109.980003,
          109.470001,
          109.07,
          107.889999,
          107.360001,
          108.309998,
          109.43,
          109.43,
          111.019997,
          111.629997,
          110.830002,
          110.809998,
          109.879997,
          109.720001,
          108.470001,
          108.599998,
          107.949997,
          108.360001,
          110.400002,
          109.589996,
          110.339996,
          108.279999,
          107.75,
          108.32,
          106.300003,
          106.779999,
          108.589996,
          108.75,
          107.970001,
          108.949997,
          110.260002,
          110.889999,
          111.029999,
          112.489998,
          112.650002,
          113.010002,
          112.690002,
          113.029999,
          113.650002,
          111.150002,
          111.459999,
          112.309998,
          111.839996,
          112.75,
          114.629997,
          114.309998,
          114.279999,
          115.730003,
          114.870003,
          115.089996,
          118.489998,
          117.57,
          120.660004,
          121.400002,
          120.559998,
          119.360001,
          119.489998,
          116.629997,
          115.839996,
          116.839996,
          117.360001,
          118.470001,
          118.690002,
          119.910004,
          119.779999,
          117.959999,
          121.489998,
          121,
          120.559998,
          118.970001,
          119.599998,
          120.989998,
          120.330002,
          121.900002,
          120.389999,
          121.449997,
          120.949997,
          121.300003,
          121.089996,
          121.269997,
          121.68,
          117.040001,
          116.510002,
          117.730003,
          117.209999,
          117.339996,
          118.360001,
          118.300003,
          118.230003,
          115.730003,
          116.650002,
          115.849998,
          116.860001,
          115.519997,
          113.510002,
          113.779999,
          114.290001,
          115.540001,
          115.989998,
          116.720001,
          116.980003,
          117.400002,
          117.730003,
          117.339996,
          118.769997,
          119.730003,
          119.75,
          120.220001,
          120.389999,
          119.779999,
          120.360001,
          121.360001,
          120.959999,
          120.910004,
          122.080002,
          121.690002,
          122.290001,
          122.699997,
          122.709999,
          121.559998,
          121.620003,
          124.019997,
          123.940002,
          124.629997,
          124.870003,
          126.010002,
          126.199997,
          126.300003,
          126.720001,
          127.849998,
          127.949997,
          127.910004,
          128.460007,
          130.990005,
          131.809998,
          130.369995,
          132.289993,
          131.960007,
          134.070007,
          134.75,
          134.279999,
          130.110001,
          131.320007,
          129.470001,
          130.850006,
          130.880005,
          129.520004,
          131.240005,
          131.919998,
          132.490005,
          131.570007,
          136.029999,
          136.380005,
          137.779999,
          135.589996,
          137.240005,
          137.660004,
          133.690002,
          132.419998,
          130.970001,
          130.380005,
          132.089996,
          132.199997,
          133.479996,
          134.410004,
          134.179993,
          133.110001,
          133.509995,
          135.419998,
          135.380005,
          135.199997,
          138.070007,
          139.110001,
          136.5,
          134.789993,
          135.369995,
          135.410004,
          136.050003,
          136.179993,
          134.699997,
          133.809998,
          134.199997,
          135.110001,
          135.320007,
          135.050003,
          134.660004,
          135.020004,
          137.220001,
          137.710007,
          137.029999,
          138.720001,
          138,
          134.75,
          134.369995,
          133.830002,
          133.580002,
          134.119995,
          134.910004,
          135.460007,
          134.050003,
          132.690002,
          133.429993,
          133.720001,
          131.199997,
          131.029999,
          130.360001,
          130.100006,
          131.160004,
          127.93,
          130.279999,
          129.869995,
          130.800003,
          130.449997,
          132.199997,
          131.660004,
          131.679993,
          133.139999,
          133.070007,
          132.850006,
          132.320007,
          132.949997,
          133.970001,
          134.100006,
          135.039993,
          135.410004,
          136.289993,
          137.509995,
          136.479996,
          137.380005,
          137.660004,
          140.029999,
          139.919998,
          138.089996,
          139.350006,
          139.720001,
          139.360001,
          139.410004,
          137.770004,
          138.220001,
          138.860001,
          136.270004,
          136.240005,
          136.970001,
          138.369995,
          139.139999,
          139.050003,
          140.339996,
          139.220001,
          139.259995,
          138.539993,
          138.210007,
          138.669998,
          139.860001,
          139.839996,
          142.050003,
          142.380005,
          142.509995,
          142.639999,
          141.610001,
          141.899994,
          143.809998,
          145.929993,
          145.929993,
          146.5,
          146.740005,
          146.869995,
          146.380005,
          149.199997,
          149.820007,
          150.410004,
          149.880005,
          147.729996,
          143.470001,
          147.380005,
          147.899994,
          146.539993,
          146.589996,
          145.369995,
          144.740005,
          145.600006,
          145.649994,
          147.830002,
          148.589996,
          148.580002,
          148.220001,
          149.639999,
          149.910004,
          149.5,
          150.479996,
          150.419998,
          149.809998,
          150.559998,
          147.770004,
          148.669998,
          149.119995,
          148.970001,
          150.029999,
          150.759995,
          150.990005,
          148.339996,
          145.729996,
          146.240005,
          147.179993,
          146,
          147.630005,
          148.910004,
          149.149994,
          151.589996,
          152.770004,
          154.139999,
          154.539993,
          156.570007,
          154.660004,
          156.020004,
          154.830002,
          157.339996,
          157.770004,
          157.190002,
          157.320007,
          157.720001,
          161.520004,
          161.490005,
          160.639999,
          167.119995,
          168.610001,
          174.580002,
          170.75,
          171.800003,
          173.919998,
          174.419998,
          177.720001,
          184.589996,
          177.669998,
          171.649994,
          172.360001,
          173.889999,
          179.100006,
          177.720001,
          177.869995,
          182.899994,
          177.080002,
          181.809998,
          176.669998,
          178.539993,
          177.210007,
          174.399994,
          173.309998,
          175.779999,
          173.589996,
          169.050003,
          157.580002,
          160.630005,
          156.220001,
          157.699997,
          160.960007,
          157.639999,
          159.460007,
          160.490005,
          163.270004,
          162.100006,
          163.259995,
          162.300003,
          162.619995,
          161.839996,
          159.869995,
          157.770004,
          161.020004,
          165.589996,
          167.399994,
          169.550003,
          167.339996,
          167.380005,
          169.059998,
          171.720001,
          170.850006,
          174.979996,
          173.529999,
          172.070007,
          171.139999,
          173.960007,
          173.199997,
          173.360001,
          171.509995,
          167.100006,
          167.619995,
          163.5,
          165.309998,
          164.830002,
          163.399994,
          166.630005,
          166.880005,
          170.130005,
          169.630005,
          169.820007,
          167.320007,
          168.179993,
          169.399994,
          165.979996,
          166.399994,
          161.990005,
          158.449997,
          152.889999,
          152.330002,
          155.229996,
          154.869995,
          156.979996,
          157.160004,
          156.039993,
          156.309998,
          154.910004,
          151.029999,
          150.339996,
          151.990005,
          155.919998,
          156.710007,
          157.779999,
          157.199997,
          156.5,
          158.639999,
          159.669998,
          160.380005,
          159.259995,
          160.5,
          161.600006,
          161.220001,
          162.070007,
          163.160004,
          162.009995,
          166.419998,
          167.270004,
          168.970001,
          168.029999,
          169.309998,
          169.559998,
          171.050003,
          167.639999,
          167.179993,
          169.699997,
          168.5,
          168.020004,
          167.139999,
          167.509995,
          167.119995,
          168.110001,
          168,
          167.350006,
          171.020004,
          172.940002,
          173.020004,
          172.229996,
          171.699997,
          173.490005,
          164.289993,
          166.610001,
          166.339996,
          165.649994,
          162.699997,
          163.630005,
          165.279999,
          166.380005,
          165.070007,
          162.300003,
          159.570007,
          161.080002,
          161.300003,
          161.589996,
          160.130005,
          160.210007,
          159.570007,
          161.529999,
          164.399994,
          163.240005,
          161.509995,
          161.279999,
          162.940002,
          159.889999,
          157.210007,
          158.309998,
          159.369995,
          161.100006,
          161.070007,
          162.699997,
          160.460007,
          160.25,
          159.309998,
          159.429993,
          159.070007,
          159.300003,
          159.619995,
          161.029999,
          161.880005,
          161.320007,
          160.589996,
          158.970001,
          159.080002,
          156,
          154.470001,
          154.770004,
          151.330002,
          149.740005,
          149.460007,
          152.800003,
          154.649994,
          152.080002,
          151.619995,
          151.410004,
          151.020004,
          151.910004,
          151.619995,
          157.320007,
          157.139999,
          157.210007,
          154.5,
          155.360001,
          156.460007,
          157.119995,
          157.75,
          157.929993,
          157.160004,
          155.970001,
          152.020004,
          153.759995,
          152.619995,
          152.830002,
          151.050003,
          155.089996,
          157.460007,
          155.679993,
          154.039993,
          152.149994,
          152.990005,
          152.589996,
          154.210007,
          153.470001,
          153.050003,
          153.380005,
          153.029999,
          153.520004,
          155.669998,
          156.770004,
          157.429993,
          156.490005,
          155.139999,
          154.130005,
          156.300003,
          156.279999,
          156.479996,
          156.990005,
          155.990005,
          155.130005,
          155.630005,
          156.559998,
          157.259995,
          158.830002,
          160.539993,
          161.889999,
          161.360001,
          161.639999,
          160.589996,
          160.520004,
          164.479996,
          164.309998,
          164.889999,
          167.289993,
          167.899994,
          167.919998,
          171.309998,
          170.399994,
          171.720001,
          171.740005,
          171.470001,
          171.050003,
          170.770004,
          169.809998,
          172.339996,
          172.289993,
          172.100006,
          172.410004,
          173.610001,
          172.050003,
          170.990005,
          170.839996,
          171.320007,
          168.350006,
          169.419998,
          169.539993,
          168.789993,
          167.580002,
          165.429993,
          164.860001,
          166.020004,
          166.830002,
          166.070007,
          162.600006,
          163.229996,
          166.300003,
          166.490005,
          167.990005,
          167.820007,
          167.449997,
          167.100006,
          167.139999,
          166.089996,
          165.880005,
          167.869995,
          167.389999,
          167.559998,
          169.610001,
          169.429993,
          168.710007,
          166.550003,
          167.179993,
          166.050003,
          166.130005,
          164.119995,
          164.5,
          165.160004,
          165.800003,
          165.649994,
          165.770004,
          164.369995,
          164.130005,
          164.440002,
          162.080002,
          161.690002,
          159.729996,
          160.330002,
          160.619995,
          160.779999,
          161.160004,
          160.539993,
          162.020004,
          163.169998,
          161.199997,
          160.440002,
          159.429993,
          160.559998,
          160.490005,
          161.979996,
          161.059998,
          161.539993,
          162.559998,
          162.649994,
          163.350006,
          163.089996,
          163.669998,
          163.210007,
          161.419998,
          160.649994,
          160.289993,
          160.990005,
          162.190002,
          161.199997,
          161.449997,
          162,
          161.960007,
          162.389999,
          161.839996,
          161.570007,
          159.699997,
          159.889999,
          159.050003,
          158.350006,
          155.759995,
          155.330002,
          151.440002,
          152.619995,
          152.970001,
          154.339996,
          156.220001,
          154.570007,
          153,
          152.440002,
          152.300003,
          152.380005,
          153.229996,
          152.690002,
          152.710007,
          152.990005,
          154.190002,
          153.660004,
          153.679993,
          154,
          155.380005,
          156.080002,
          155.369995,
          156.25,
          155.550003,
          155.240005,
          154.720001,
          155.360001,
          154.449997,
          154.669998,
          152.429993,
          150.729996,
          150.289993,
          152.160004,
          153.339996,
          150.75,
          151.050003,
          131.309998,
          132.800003,
          132.869995,
          134.300003,
          137.899994,
          136.880005,
          138.369995,
          141.630005,
          142.300003,
          142.770004,
          141.110001,
          141.919998,
          142.149994,
          140.380005,
          142.460007,
          140.809998,
          138.429993,
          137.809998,
          134.630005,
          134.089996,
          135.119995,
          132.880005,
          131.940002,
          134.610001,
          133.490005,
          134.830002,
          136.699997,
          136.509995,
          135.229996,
          135.520004,
          136.529999,
          133.940002,
          133.25,
          134.25,
          133.740005,
          133.770004,
          132.130005,
          130.589996,
          123.599998,
          123.93,
          123.470001,
          118.279999,
          115.940002,
          121.129997,
          120.050003,
          120.739998,
          119.510002,
          120.620003,
          120.949997,
          124.239998,
          124.18,
          124.889999,
          123.32,
          124.010002,
          128.839996,
          129.710007,
          127.480003,
          128.669998,
          128.470001,
          128.119995,
          127.959999,
          126.610001,
          125.699997,
          123.970001,
          124.150002,
          126.860001,
          129.130005,
          127.739998,
          129,
          131.690002,
          132.009995,
          132.449997,
          132.070007,
          132.809998,
          135.449997,
          136.75,
          136.710007,
          135.869995,
          136.419998,
          134.660004,
          132.199997,
          133.910004,
          131.740005,
          131.699997,
          127.669998,
          126.449997,
          126.5,
          132.009995,
          131.75,
          127.550003,
          127.660004,
          128.789993,
          127.790001,
          128.179993,
          124.589996,
          127.059998,
          127.18,
          127.400002,
          126.110001,
          124.269997,
          122.830002,
          123.730003,
          123.540001,
          127.419998,
          126.980003,
          129.339996,
          128.690002,
          129.899994,
          130.559998,
          129.770004,
          129.600006,
          127.739998,
          126.949997,
          126.809998,
          126.559998,
          127.199997,
          126.160004,
          124.279999,
          123.870003,
          122.449997,
          122.849998,
          124.269997,
          124.32,
          122.900002,
          122.949997,
          120.120003,
          119.940002,
          119.919998,
          120.459999,
          119.82,
          119.459999,
          120.699997,
          117.580002,
          117.959999,
          119.959999,
          118.300003,
          118.550003,
          119.720001,
          121.82,
          120.860001,
          118.290001,
          119.379997,
          119.690002,
          118.650002,
          117.610001,
          114.82,
          115.940002,
          115.57,
          116.099998,
          116.739998,
          117.120003,
          115.389999,
          116.120003,
          118,
          119.290001,
          119.5,
          118.82,
          118.120003,
          118.459999,
          120.260002,
          121.019997,
          119.889999,
          119.660004,
          119.790001,
          120.93,
          119.699997,
          119.190002,
          121.790001,
          122.290001,
          120.959999,
          120.949997,
          122.470001,
          119.769997,
          120.089996,
          121.32,
          120.989998,
          121.290001,
          121.239998,
          122.169998,
          122.919998,
          124.360001,
          124.43,
          125.489998,
          127.150002,
          127.400002,
          126.269997,
          127.599998,
          127.580002,
          128.990005,
          129.210007,
          128.110001,
          128.199997,
          127.620003,
          130.289993,
          128.679993,
          128.889999,
          130.169998,
          129.089996,
          129.130005,
          129.860001,
          131.759995,
          132.210007,
          133.100006,
          131.639999,
          130.619995,
          128.089996,
          127.860001,
          128.470001,
          126.18,
          126.410004,
          125.410004,
          124.589996,
          124.559998,
          123.610001,
          123.389999,
          124.32,
          123.919998,
          124.910004,
          126.089996,
          126.32,
          127.010002,
          127.849998,
          125.489998,
          125.540001,
          124.75,
          124.239998,
          123.779999,
          123.760002,
          124.559998,
          124.879997,
          124.860001,
          124.220001,
          123.800003,
          126.220001,
          125.980003,
          124.169998,
          124.169998,
          124.940002,
          124.599998,
          125.809998,
          124.769997,
          124.580002,
          124.690002,
          124.389999,
          124.669998,
          121.849998,
          121.199997,
          120.940002,
          119.699997,
          120.010002,
          119.760002,
          120.660004,
          120.650002,
          121.389999,
          121.410004,
          122.639999,
          122.419998,
          122.279999,
          122.669998,
          126.940002,
          126.849998,
          126.980003,
          126.989998,
          126.730003,
          128.039993,
          127.699997,
          127.699997,
          127.160004,
          127.019997,
          127.07,
          127.839996,
          128.539993,
          125.720001,
          124.529999,
          124.970001,
          127.089996,
          126.339996,
          125.739998,
          125.620003,
          124.349998,
          125.580002,
          125.199997,
          124.830002,
          123.389999,
          123.989998,
          123.870003,
          125.669998,
          126.18,
          125.959999,
          125.989998,
          126.199997,
          126.309998,
          124.959999,
          124.68,
          124.220001,
          122.879997,
          122.739998,
          123.349998,
          123.32,
          124,
          121.650002,
          122.150002,
          121.480003,
          120.730003,
          120.870003,
          120.260002,
          119.470001,
          118.639999,
          118.830002,
          117.540001,
          117.779999,
          116.849998,
          117.599998,
          117.050003,
          117.389999,
          117.029999,
          116.209999,
          116.769997,
          116.739998,
          116.029999,
          116.360001,
          117.470001,
          117.639999,
          118.519997,
          118.589996,
          118.989998,
          119.220001,
          119.800003,
          120.019997,
          119.339996,
          118.519997,
          118.059998,
          118.099998,
          116.410004,
          115.190002,
          112.660004,
          112.150002,
          112.220001,
          109.790001,
          109.879997,
          112.970001,
          110.459999,
          112.040001,
          111.5,
          111.669998,
          114.470001,
          114.050003,
          115.050003,
          113.68,
          114.860001,
          115.389999,
          115.110001,
          115.379997,
          115.160004,
          112.110001,
          116.580002,
          115.139999,
          116.330002,
          115.879997,
          114.43,
          115.779999,
          118.190002,
          117.959999,
          117.690002,
          117.410004,
          114.389999,
          114.949997,
          114.269997,
          115.150002,
          114.769997,
          112.550003,
          112.739998,
          112.769997,
          114.830002,
          113.669998,
          115.199997,
          113.580002,
          114.080002,
          115.800003,
          117.120003,
          116.43,
          115.940002,
          117.260002,
          118.559998,
          118.160004,
          117.970001,
          120.940002,
          122.519997,
          124.199997,
          124.230003,
          125.230003,
          124.230003,
          122.989998,
          124.400002,
          123.419998,
          120.760002,
          123.449997,
          122.419998,
          121.050003,
          121.580002,
          121.790001,
          118.639999,
          119.169998,
          118.470001,
          117.07,
          117.339996,
          117.980003,
          116.010002,
          116.339996,
          115.940002,
          115.279999,
          115.43,
          115.260002,
          115.699997,
          116.07,
          116.160004,
          115.68,
          115.470001,
          115.110001,
          115,
          111.860001,
          111.970001,
          111.419998,
          110.75,
          110.720001,
          110.879997,
          110.809998,
          110.209999,
          112.370003,
          112.290001,
          113.57,
          114.290001,
          114.57,
          114.730003,
          115.480003,
          115.059998,
          113.75,
          113.660004,
          115.599998,
          115.279999,
          116.690002,
          116.110001,
          115.470001,
          114.669998,
          115.139999,
          114.440002,
          115.43,
          115.029999,
          114.720001,
          115.379997,
          113.830002,
          114.660004,
          115.330002,
          116.330002,
          115.510002,
          113.470001,
          114.099998,
          114.419998,
          114.360001,
          113.419998,
          113.529999,
          114.5,
          116.550003,
          117.18,
          117.519997,
          115.889999,
          116.080002,
          115.690002,
          113.910004,
          113.889999,
          114.019997,
          114,
          114.459999,
          113.639999,
          112.839996,
          112.57,
          112.82,
          113.779999,
          113.260002,
          113.730003,
          113.32,
          113.849998,
          115.32,
          113.639999,
          112.889999,
          112.589996,
          112.440002,
          113.07,
          112.370003,
          111.980003,
          111.760002,
          112.059998,
          110.760002,
          111.089996,
          111.360001,
          110.989998,
          110.739998,
          110.160004,
          109.760002,
          105.699997,
          105.370003,
          104.800003,
          104.330002,
          104.860001,
          105.019997,
          105.169998,
          104.269997,
          104.099998,
          104.309998,
          103.93,
          104.389999,
          105.720001,
          106.260002,
          107.75,
          106.860001,
          107.129997,
          107.110001,
          108.550003,
          110.440002,
          110.529999,
          109.160004,
          107.669998,
          107.730003,
          108.82,
          109.199997,
          108.620003,
          107.839996,
          107.519997,
          106.129997,
          106.379997,
          106.220001,
          105.900002,
          107.309998,
          108.410004,
          107.790001,
          108.220001,
          110.489998,
          108.419998,
          107.980003,
          106.860001,
          106.730003,
          108.769997,
          109.860001,
          109.699997,
          109.139999,
          111.309998,
          111.860001,
          113.809998,
          113.290001,
          112.019997,
          112.730003,
          111.730003,
          111.690002,
          111.43,
          111.68,
          110.75,
          109.720001,
          109.300003,
          108.589996,
          106.980003,
          105.970001,
          105.639999,
          104.099998,
          104.400002,
          104.18,
          103.830002,
          103.849998,
          103.559998,
          103.709999,
          102.339996,
          102.43,
          103.559998,
          103.089996,
          102.260002,
          102.940002,
          102.459999,
          101.25,
          101.919998,
          102.279999,
          100.690002,
          101.760002,
          104.019997,
          102.669998,
          102.839996,
          102.639999,
          102.550003,
          103.110001,
          101.790001,
          101.519997,
          102.75,
          100.5,
          102.040001,
          103.150002,
          102.610001,
          102.309998,
          103.050003,
          102.269997,
          102.199997,
          101.419998,
          101.459999,
          102.889999,
          103.18,
          104.669998,
          106.150002,
          105.68,
          104.739998,
          104.209999,
          104.720001,
          103.019997,
          104.080002,
          103.980003,
          105.370003,
          105.489998,
          105,
          106.080002,
          107.290001,
          107.690002,
          106.540001,
          106.949997,
          108.050003,
          108.089996,
          109.25,
          110.57,
          112.32,
          113.830002,
          113.580002,
          114.459999,
          119.059998,
          118.360001,
          114.769997,
          115.480003,
          118.290001,
          117.580002,
          115.489998,
          117.220001,
          117.610001,
          117.919998,
          117.110001,
          118.639999,
          117.769997,
          118.68,
          120.730003,
          120.540001,
          121.139999,
          120.580002,
          119.580002,
          121.5,
          119.410004,
          117.870003,
          117.959999,
          120.589996,
          120.129997,
          119.800003,
          118.959999,
          119.309998,
          116.610001,
          116.330002,
          116.599998,
          118.760002,
          117.099998,
          117.639999,
          116.150002,
          117.660004,
          116.940002,
          118.610001,
          120.029999,
          120.050003,
          118.769997,
          117.110001,
          117.739998,
          119.580002,
          118.970001,
          119.419998,
          118.230003,
          118.699997,
          119.040001,
          121.290001,
          123.239998,
          122.959999,
          122.209999,
          122.07,
          120.650002,
          120.980003,
          122.120003,
          121.160004,
          121.800003,
          122.220001,
          120.099998,
          119.870003,
          119.370003,
          117.300003,
          116.980003,
          116.580002,
          116.059998,
          115.940002,
          115.669998,
          118.919998,
          118.82,
          120.580002,
          121.25,
          122.639999,
          122.769997,
          123.68,
          122.379997,
          123.209999,
          120.839996,
          120.900002,
          120.110001,
          126.68,
          125.32,
          125.839996,
          126.470001,
          129.470001,
          130.229996,
          129.740005,
          129.289993,
          127.150002,
          128.320007,
          127.330002,
          127.040001,
          127.209999,
          125.389999,
          127.300003,
          125.470001,
          126,
          128.029999,
          127.660004,
          129.220001,
          130.270004,
          129.649994,
          129.869995,
          127.440002,
          127.959999,
          128.559998,
          127.669998,
          127.839996,
          128.470001,
          128.5,
          129.110001,
          127.779999,
          127.760002,
          126.339996,
          126.230003,
          126.300003,
          125.029999,
          124.779999,
          125.290001,
          128.710007,
          128.270004,
          127.589996,
          126.589996,
          125.75,
          126.18,
          125.370003,
          125.32,
          125.440002,
          127.269997,
          127.57,
          127.550003,
          126.620003,
          126.220001,
          126.07,
          125.32,
          120.970001,
          120.779999,
          119.660004,
          120.160004,
          119.550003,
          119.739998,
          120.029999,
          119.68,
          120.419998,
          121.110001,
          120.739998,
          120.559998,
          121.470001,
          120.790001,
          121.010002,
          121.940002,
          122.730003,
          123.639999,
          124.300003,
          124.389999,
          122.150002,
          121.639999,
          121.559998,
          119.75,
          117.099998,
          116.110001,
          117.120003,
          116.769997,
          116.169998,
          115.150002,
          115.580002,
          115.540001,
          113.25,
          112.610001,
          113.800003,
          113.269997,
          111.75,
          111.540001,
          112.139999,
          111.540001,
          111.43,
          111.830002,
          111.57,
          110.400002,
          110.82,
          110.449997,
          108.830002,
          107.339996,
          108.050003,
          108.589996,
          107.790001,
          107.849998,
          107.589996,
          107.93,
          108.559998,
          108.860001,
          110.290001,
          109.610001,
          110.470001,
          110.860001,
          112.580002,
          111.75,
          112.669998,
          113.150002,
          113.5,
          113.910004,
          114.209999,
          115.849998,
          114.870003,
          114.769997,
          115.050003,
          115.790001,
          115.269997,
          114.32,
          113.260002,
          113.489998,
          113.970001,
          115.550003,
          115.199997,
          115.839996,
          116.129997,
          117.699997,
          117.459999,
          118.190002,
          117.290001,
          117.599998,
          116.800003,
          116.93,
          117.449997,
          118.080002,
          117.68,
          117.75,
          117.910004,
          118.940002,
          119.699997,
          119.120003,
          119.230003,
          119.059998,
          117.580002,
          117.510002,
          116.720001,
          115.779999,
          115.059998,
          114.470001,
          114.720001,
          114.739998,
          114.120003,
          116.25,
          116.730003,
          116.989998,
          117.510002,
          118.540001,
          118.830002,
          118.669998,
          118.860001,
          119.529999,
          119.040001,
          119.330002,
          118.470001,
          119.349998,
          119.620003,
          119.620003,
          119.18,
          119.459999,
          121.190002,
          122.019997,
          122.599998,
          122.239998,
          122.82,
          121.730003,
          121.959999,
          121.480003,
          120.25,
          120.839996,
          120.389999,
          119.669998,
          119.650002,
          117.980003,
          116.790001,
          116.75,
          116.050003,
          116.040001,
          116.5,
          117.139999,
          117.650002,
          119.790001,
          118.809998,
          119.900002,
          119.139999,
          119.610001,
          119.480003,
          120.139999,
          120.620003,
          120.720001,
          121.730003,
          123.099998,
          122.449997,
          121.650002,
          120.360001,
          120.480003,
          119.82,
          119.32,
          118.43,
          118.18,
          118.519997,
          118.919998,
          118.360001,
          118.809998,
          118.900002,
          118.32,
          116.089996,
          116.519997,
          116.470001,
          115.620003,
          116.029999,
          115.82,
          117.290001,
          118.110001,
          118.080002,
          118.239998,
          119.309998,
          118.919998,
          119.879997,
          119.790001,
          120.75,
          120.650002,
          120.400002,
          120.589996,
          119.510002,
          119.860001,
          121.309998,
          122.209999,
          121.919998,
          120.980003,
          121.870003,
          122.489998,
          122.760002,
          122.209999,
          122.669998,
          122.290001,
          124.690002,
          124.419998,
          124.360001,
          125.82,
          127.459999,
          126.809998,
          128.130005,
          126.190002,
          126.559998,
          125.610001,
          126.160004,
          124.360001,
          124.620003,
          123.620003,
          122.68,
          124.529999,
          123.139999,
          121.980003,
          122.209999,
          120.769997,
          120.830002,
          121.169998,
          120.519997,
          122.080002,
          122.400002,
          122.790001,
          122.889999,
          122.970001,
          122.129997,
          121.669998,
          122.389999,
          121.800003,
          121.330002,
          121.349998,
          120.330002,
          121.129997,
          120.669998,
          121.110001,
          121.190002,
          120.620003,
          121.650002,
          121.209999,
          121.629997,
          122.129997,
          121.129997,
          121.309998,
          121.559998,
          121.410004,
          121.309998,
          121.510002,
          122.629997,
          122.32,
          122.830002,
          122.809998,
          122.040001,
          121.099998,
          121.589996,
          121.18,
          120.32,
          120.07,
          118.489998,
          118.480003,
          118.010002,
          118.150002,
          119.169998,
          118.93,
          119.18,
          119.730003,
          119.82,
          120.139999,
          120.309998,
          120.940002,
          121.769997,
          122.230003,
          122.849998,
          123.650002,
          125.150002,
          124.82,
          125.459999,
          125.330002,
          125.309998,
          124.730003,
          125.029999,
          125.440002,
          126.959999,
          127.169998,
          126.139999,
          125.860001,
          126.419998,
          126.650002,
          127.279999,
          128.830002,
          127.970001,
          128.070007,
          127.349998,
          126.800003,
          127.650002,
          128.070007,
          126.389999,
          126.709999,
          125.379997,
          124.790001,
          124.980003,
          124.769997,
          125.370003,
          126.080002,
          128.229996,
          128.380005,
          127.959999,
          126.239998,
          125.660004,
          126.300003,
          126.139999,
          126.449997,
          125.129997,
          125,
          124.720001,
          125.389999,
          125.18,
          126.529999,
          125.720001,
          125.419998,
          125.540001,
          125.540001,
          125.779999,
          125.699997,
          124.900002,
          124.599998,
          124.870003,
          124.309998,
          126.480003,
          125.980003,
          127.610001,
          128.279999,
          127.489998,
          125.730003,
          125.790001,
          127.260002,
          126.300003,
          126.449997,
          125.800003,
          126.82,
          127.120003,
          128.110001,
          126.620003,
          127.629997,
          127.75,
          127.849998,
          127.599998,
          125.620003,
          126.230003,
          125.410004,
          124.970001,
          124.589996,
          123.709999,
          123.650002,
          124.279999,
          124.57,
          124.589996,
          124.330002,
          125.18,
          124.489998,
          122.5438
         ],
         "xaxis": "x",
         "y": [
          15.18,
          15.285,
          15.167,
          15.053,
          15.59,
          15.52,
          16.061001,
          16.077,
          16.280001,
          15.834,
          15.654,
          15.717,
          16.030001,
          15.902,
          15.9,
          16.299999,
          16.298,
          16.549999,
          16.534,
          16.674999,
          16.818001,
          16.618999,
          16.514999,
          16.167,
          16.375,
          16.67,
          17.025999,
          17.4,
          17.033001,
          17.132,
          17.087,
          16.952,
          17.378,
          17.700001,
          17.695999,
          17.916,
          17.99,
          18.6,
          19.132999,
          19.666,
          19.667999,
          20.163,
          19.620001,
          20.621,
          20.075001,
          20.040001,
          19.475,
          19.52,
          19.969999,
          20.406,
          20.421,
          19.98,
          19.379,
          18.250999,
          16.701,
          16.787001,
          17.775,
          18.225,
          18.32,
          17.75,
          16.6,
          17.246,
          17.23,
          17.950001,
          17.507,
          18.014999,
          17.812,
          17.514999,
          17.681999,
          18.153999,
          18.01,
          17.267,
          17.476999,
          17.000999,
          16.552,
          16.84,
          16.382,
          15.994,
          16.573999,
          16.73,
          16.503,
          16.700001,
          16.997,
          16.554001,
          16.365999,
          16.555,
          16.819,
          17.5,
          17.860001,
          17.780001,
          17.256001,
          17.264999,
          16.478001,
          16.642,
          16.587,
          16.641001,
          16.972,
          16.944,
          16.440001,
          16.700001,
          16.35,
          16.950001,
          16.902,
          17.188999,
          17.153,
          16.629999,
          16.492001,
          16.625999,
          17.025,
          17.9,
          18.215,
          18.000999,
          17.6,
          17.664,
          17.950001,
          18.120001,
          18.934999,
          18.700001,
          18.545,
          18.32,
          18.228001,
          17.759001,
          17.190001,
          17.26,
          17.360001,
          17.190001,
          17.360001,
          16.07,
          13.33,
          13.45,
          13.35,
          13.55,
          12.94,
          12.75,
          12.63,
          11.95,
          11.18,
          10.6,
          10.32,
          10.95,
          10.4,
          11.9,
          11.89,
          13.35,
          13.18,
          13.09,
          13.03,
          12.95,
          11.85,
          12.33,
          10.8,
          10.75,
          11.38,
          11.51,
          11.95,
          10.59,
          10.86,
          10.27,
          9.6,
          9.77,
          9.98,
          9.45,
          9.38,
          8.85,
          9.05,
          9.67,
          9.68,
          9.58,
          9.62,
          10.12,
          10.21,
          9.9,
          9.94,
          10.06,
          9.64,
          9.17,
          9.3,
          9.36,
          9.18,
          9.48,
          9.1,
          8.86,
          9.52,
          10.43,
          10.19,
          10.19,
          10.23,
          9.18,
          9.49,
          9.51,
          9.38,
          9.4,
          9.89,
          9.7,
          10.12,
          10.2,
          10.14,
          10.55,
          11.03,
          11.29,
          10.84,
          10.67,
          10.73,
          10.16,
          10.28,
          10.64,
          10.77,
          10.82,
          11.2,
          11.41,
          11.11,
          11.34,
          10.86,
          10.99,
          11.1,
          10.5,
          10.6,
          10.45,
          10.49,
          11.11,
          11.09,
          11.18,
          11.33,
          11.85,
          11.9,
          11.85,
          11.86,
          12.26,
          12.52,
          12.21,
          12.32,
          12.42,
          12.75,
          12.91,
          12.72,
          12.98,
          13.34,
          13.33,
          13.54,
          13.99,
          14.17,
          13.89,
          14.25,
          14.34,
          13.61,
          13.49,
          12.97,
          12.88,
          12.77,
          12.65,
          12.78,
          13.15,
          13.18,
          12.77,
          12.45,
          12.59,
          12.79,
          13.05,
          12.79,
          12.6,
          12.77,
          13.42,
          13.61,
          13.46,
          13.25,
          13.35,
          13.35,
          13.15,
          12.85,
          12.79,
          12.84,
          12.77,
          11.94,
          12.07,
          12.14,
          12.17,
          12.57,
          12.54,
          12.55,
          12.06,
          11.89,
          11.86,
          12.13,
          12.54,
          12.66,
          12.3,
          12.55,
          12.21,
          12.83,
          13.14,
          13.52,
          13.6,
          13.74,
          14.02,
          13.81,
          13.85,
          13.58,
          13.98,
          14.1,
          14.34,
          14.42,
          14.58,
          14.93,
          15.35,
          15.75,
          15.14,
          15.63,
          14.76,
          15.03,
          15.01,
          15.13,
          13.83,
          13.99,
          14.12,
          13.97,
          13.54,
          13.62,
          13.68,
          13.81,
          13.66,
          13.38,
          13.55,
          13.16,
          13.1,
          12.89,
          12.69,
          12.67,
          12.66,
          12.72,
          13.06,
          13.09,
          13.45,
          13.33,
          13.45,
          13.52,
          13.84,
          13.52,
          13.12,
          13.25,
          14.03,
          14.35,
          14.52,
          14.32,
          14.15,
          14.09,
          14.34,
          14.79,
          13.75,
          13.72,
          13.57,
          13.7,
          13.9,
          14.04,
          14.09,
          14.08,
          14.62,
          14.76,
          15.22,
          15.87,
          16.15,
          16.059999,
          16.41,
          16.309999,
          16.780001,
          17.139999,
          16.950001,
          16.540001,
          16.879999,
          16.540001,
          15.99,
          15.91,
          15.89,
          16.379999,
          16.040001,
          16.379999,
          17.08,
          17.25,
          17.52,
          17.48,
          17.48,
          17.559999,
          17.059999,
          17.440001,
          17.200001,
          17.360001,
          17.32,
          16.790001,
          16.34,
          15.86,
          16.41,
          16.07,
          16.16,
          17,
          17.139999,
          17.120001,
          17.09,
          17.290001,
          17.030001,
          17.290001,
          16.92,
          17.15,
          18.01,
          18.129999,
          18.23,
          18.26,
          18.219999,
          18.27,
          18.25,
          18.52,
          17.950001,
          18.15,
          18.780001,
          18.889999,
          18.620001,
          18.15,
          17.82,
          17.299999,
          17.15,
          17.09,
          16.870001,
          17.08,
          17.09,
          17.360001,
          16.790001,
          16.950001,
          16.690001,
          16.639999,
          16.809999,
          17.17,
          17.219999,
          16.809999,
          16.530001,
          16.540001,
          17.23,
          17.51,
          17.860001,
          17.889999,
          18.15,
          18.209999,
          17.91,
          18.27,
          18.309999,
          18.049999,
          18.450001,
          17.57,
          17.07,
          16.780001,
          16.83,
          16.43,
          16.26,
          15.92,
          15.9,
          16.360001,
          16.35,
          16.07,
          15.04,
          14.9,
          14.75,
          15.12,
          14.95,
          15.37,
          15.24,
          15.82,
          15.74,
          15.88,
          15.97,
          15.9,
          15.57,
          15.62,
          15.77,
          16.07,
          16.110001,
          16.559999,
          16.82,
          16.790001,
          17.01,
          16.889999,
          16.92,
          16.66,
          16.809999,
          16.76,
          16.74,
          17.049999,
          17.08,
          17.08,
          16.65,
          16.6,
          16.719999,
          16.290001,
          16.32,
          16.610001,
          17.040001,
          16.950001,
          17.139999,
          17.540001,
          17.75,
          17.610001,
          17.77,
          17.719999,
          17.799999,
          17.84,
          18.07,
          18.07,
          17.379999,
          17.48,
          17.77,
          17.639999,
          17.93,
          17.879999,
          17.75,
          18.139999,
          18.42,
          17.59,
          17.110001,
          17.32,
          18.110001,
          18.950001,
          19.120001,
          18.99,
          18.530001,
          18.57,
          17.870001,
          17.35,
          17.559999,
          17.540001,
          17.74,
          18.120001,
          18.02,
          17.98,
          17.639999,
          17.809999,
          17.889999,
          17.76,
          17.860001,
          17.860001,
          18.190001,
          18.08,
          18.33,
          18.33,
          18.42,
          18.18,
          18.26,
          18.379999,
          18.129999,
          18.209999,
          17.440001,
          17.4,
          17.65,
          17.610001,
          17.620001,
          17.82,
          17.959999,
          17.950001,
          17.27,
          17.33,
          17.309999,
          17.709999,
          17.780001,
          17.299999,
          17.16,
          17.24,
          17.959999,
          18.02,
          17.93,
          17.959999,
          17.959999,
          17.969999,
          17.530001,
          17.690001,
          18,
          18.120001,
          18.02,
          17.92,
          17.610001,
          17.99,
          18.540001,
          18.59,
          18.629999,
          18.93,
          18.959999,
          19.280001,
          19.360001,
          19.5,
          19.32,
          19.540001,
          20.049999,
          20.17,
          20.35,
          20.290001,
          20.59,
          20.709999,
          20.66,
          20.99,
          21.290001,
          21.4,
          21.309999,
          21.51,
          22.34,
          22.690001,
          22.02,
          22.780001,
          22.84,
          23.49,
          24.030001,
          23.959999,
          22.84,
          23.33,
          22.59,
          23.1,
          23.280001,
          23.07,
          23.43,
          24.07,
          24.309999,
          24.25,
          25.629999,
          26.200001,
          27.15,
          26.18,
          26.719999,
          27.110001,
          25.52,
          24.93,
          24.93,
          25,
          26.35,
          26.74,
          27.17,
          26.870001,
          26.940001,
          26.129999,
          26.549999,
          27.440001,
          27.809999,
          27.93,
          28.6,
          29.51,
          28.08,
          27.700001,
          28.030001,
          27.98,
          28.870001,
          28.809999,
          28.08,
          28.280001,
          28.51,
          28.709999,
          28.639999,
          28.57,
          28.610001,
          28.59,
          29.530001,
          29.870001,
          29.76,
          30.18,
          29.98,
          29.08,
          28.610001,
          28.42,
          28.1,
          28.290001,
          28.889999,
          29,
          28,
          27.74,
          28.15,
          28.08,
          26.85,
          26.83,
          26.360001,
          26.23,
          26.889999,
          26.290001,
          27.299999,
          27.389999,
          27.870001,
          27.690001,
          28.290001,
          28.4,
          28.66,
          29.639999,
          29.52,
          29.459999,
          29.209999,
          29.959999,
          30,
          29.959999,
          31.030001,
          31.790001,
          32.259998,
          32.709999,
          31.200001,
          32.560001,
          33.110001,
          33.869999,
          33.84,
          33.419998,
          34.689999,
          35.23,
          35.18,
          35.27,
          34.360001,
          35.029999,
          35.009998,
          33.610001,
          33.369999,
          33.509998,
          34.27,
          35.299999,
          35.540001,
          36.470001,
          36.119999,
          36.389999,
          36.189999,
          36.169998,
          36.529999,
          36.77,
          37.580002,
          38.34,
          38.619999,
          38.73,
          39.209999,
          39.09,
          39.57,
          41.07,
          42.419998,
          43,
          44.119999,
          45.540001,
          45.830002,
          44.029999,
          47,
          47.259998,
          42.830002,
          40.580002,
          38.27,
          33.720001,
          36.98,
          37.52,
          34.389999,
          33.32,
          32.849998,
          33.09,
          34.23,
          34.259998,
          34.27,
          35.77,
          36.919998,
          36.509998,
          37.599998,
          35.75,
          35.290001,
          35.709999,
          36.119999,
          36.029999,
          36.669998,
          33.869999,
          34.669998,
          34.880001,
          34.650002,
          35.09,
          35.509998,
          35.5,
          34.369999,
          32.630001,
          33,
          34.009998,
          33.84,
          34.630001,
          35.099998,
          35.5,
          34.900002,
          35.200001,
          37.23,
          37.41,
          39.470001,
          38.009998,
          39.119999,
          38.310001,
          39.310001,
          39.889999,
          39.169998,
          38.759998,
          38.290001,
          39.82,
          40.549999,
          37.610001,
          37.970001,
          36.32,
          38.439999,
          37.799999,
          38.669998,
          39.029999,
          39.330002,
          39.66,
          42.630001,
          40.630001,
          38.830002,
          40,
          39.720001,
          40.400002,
          40.450001,
          40.52,
          41.049999,
          40.529999,
          41.220001,
          39.139999,
          39.869999,
          39.599998,
          38.790001,
          38.650002,
          38.830002,
          38.560001,
          34.919998,
          29.77,
          31.17,
          28.870001,
          29.959999,
          29.49,
          29.09,
          29.66,
          31.200001,
          31.26,
          31.379999,
          31.77,
          30.940001,
          31.040001,
          31.33,
          30.23,
          29.73,
          30.870001,
          32.43,
          32.5,
          34.099998,
          33.439999,
          32.330002,
          33.25,
          33.619999,
          33.200001,
          34.080002,
          34,
          33.099998,
          33.139999,
          33.740002,
          33.330002,
          33.66,
          32.82,
          30.639999,
          31.4,
          30.76,
          31.889999,
          30.93,
          30.200001,
          31.27,
          31.030001,
          32,
          31.860001,
          31.65,
          31.049999,
          31.93,
          31.610001,
          30.700001,
          31.33,
          30.49,
          29.82,
          28.07,
          28.219999,
          28.85,
          27.959999,
          28.77,
          28.6,
          28.360001,
          28.280001,
          27.870001,
          26.27,
          27.07,
          26.940001,
          28.83,
          28.389999,
          28.51,
          27.91,
          28.129999,
          29.049999,
          29.139999,
          29.309999,
          28.82,
          29.190001,
          29.65,
          29.74,
          31.219999,
          31.389999,
          31.08,
          32.369999,
          32.43,
          32.959999,
          32.529999,
          32.279999,
          32.77,
          33.360001,
          32.689999,
          32.68,
          33.259998,
          33.040001,
          32.900002,
          32.509998,
          32.75,
          32.540001,
          32.450001,
          32.57,
          32.279999,
          33.380001,
          33.439999,
          34.400002,
          34.369999,
          34.360001,
          35.830002,
          33.549999,
          34.439999,
          33.759998,
          33.029999,
          32.009998,
          32.41,
          32.849998,
          33.220001,
          32.630001,
          32.259998,
          31.27,
          31.530001,
          31.59,
          31.98,
          31.15,
          31.209999,
          30.540001,
          31.24,
          31.940001,
          31.59,
          31.15,
          31.35,
          32.049999,
          31.65,
          30.33,
          30.719999,
          30.59,
          30.790001,
          30.65,
          31.42,
          30.559999,
          30.799999,
          30.639999,
          30.799999,
          29.969999,
          29.93,
          29.860001,
          30.18,
          30.110001,
          30.059999,
          29.780001,
          29.290001,
          29.209999,
          28.65,
          28.379999,
          28.25,
          27.42,
          26.860001,
          26.370001,
          27.24,
          27.68,
          27.34,
          27.049999,
          27.440001,
          27.1,
          27.120001,
          26.959999,
          27.459999,
          27.719999,
          28.51,
          27.790001,
          27.790001,
          28.120001,
          28.01,
          27.82,
          27.870001,
          27.639999,
          27.26,
          26.120001,
          26.709999,
          26.299999,
          26.129999,
          25.629999,
          26.73,
          27.49,
          26.879999,
          26.540001,
          26.059999,
          26.25,
          26.35,
          26.49,
          26.469999,
          26.42,
          26.42,
          26.209999,
          26.219999,
          26.530001,
          26.709999,
          27.360001,
          27.120001,
          26.540001,
          26.309999,
          27.110001,
          27.27,
          27.209999,
          27.290001,
          26.92,
          26.959999,
          26.969999,
          27.370001,
          27.950001,
          28.370001,
          28.92,
          29.6,
          29.74,
          29.93,
          29.75,
          29.440001,
          31.360001,
          31.27,
          31.67,
          32.290001,
          32.41,
          32.209999,
          33.610001,
          32.990002,
          33.709999,
          33.57,
          33.580002,
          32.93,
          32.68,
          32.869999,
          33.580002,
          33.650002,
          33.5,
          33.509998,
          33.93,
          32.970001,
          32.830002,
          32.950001,
          32.900002,
          31.66,
          31.93,
          32.119999,
          31.73,
          31.389999,
          30.68,
          30.709999,
          31.120001,
          31.27,
          31.219999,
          29.950001,
          30.17,
          31.01,
          30.83,
          31.379999,
          31.540001,
          31.370001,
          31.4,
          31.639999,
          31.530001,
          31.209999,
          32.049999,
          32.110001,
          32.290001,
          32.98,
          33.02,
          32.93,
          32.619999,
          33.130001,
          32.360001,
          32.52,
          31.82,
          31.93,
          32.029999,
          32.139999,
          31.91,
          32.369999,
          31.530001,
          31.17,
          31.200001,
          30.65,
          30.110001,
          29,
          29,
          28.940001,
          29.01,
          29.24,
          29.1,
          29.370001,
          29.92,
          29.18,
          29.24,
          29.18,
          29.379999,
          29.35,
          29.780001,
          29.48,
          30.040001,
          30.360001,
          30.450001,
          30.67,
          30.809999,
          31.120001,
          31.190001,
          30.65,
          30.209999,
          29.85,
          30.32,
          30.92,
          30.440001,
          30.780001,
          30.690001,
          30.76,
          30.809999,
          30.459999,
          30.43,
          30,
          30.09,
          29.77,
          29.459999,
          28.83,
          28.450001,
          27.59,
          27.73,
          27.83,
          28.07,
          28.41,
          28.01,
          27.540001,
          27.620001,
          27.6,
          27.75,
          28.1,
          27.91,
          28.01,
          28.02,
          28.200001,
          27.940001,
          27.799999,
          27.799999,
          27.950001,
          27.93,
          27.809999,
          28.18,
          27.75,
          27.84,
          27.75,
          27.73,
          27.42,
          27.09,
          26.35,
          26.09,
          25.99,
          26.32,
          27.030001,
          26.68,
          26.700001,
          22.09,
          22.67,
          22.440001,
          22.4,
          22.620001,
          22.18,
          22.42,
          23.49,
          23.540001,
          23.459999,
          22.860001,
          23.02,
          23.18,
          23.1,
          23.120001,
          22.889999,
          22.83,
          22.57,
          21.76,
          21.950001,
          22.280001,
          21.620001,
          21.51,
          21.879999,
          21.530001,
          21.709999,
          21.98,
          21.98,
          21.77,
          21.780001,
          21.93,
          21.16,
          20.91,
          21.02,
          21.040001,
          21.1,
          20.879999,
          20.6,
          18.969999,
          18.969999,
          18.91,
          17.889999,
          17.889999,
          18.93,
          18.68,
          19.02,
          18.42,
          18.57,
          18.48,
          19.49,
          19.280001,
          19.33,
          18.66,
          18.719999,
          19.77,
          19.77,
          19.469999,
          19.5,
          19.139999,
          19.030001,
          19.139999,
          18.969999,
          19.01,
          18.83,
          18.83,
          19.6,
          20.620001,
          20.709999,
          21.09,
          22.15,
          22.34,
          22.190001,
          22.139999,
          22.27,
          23.459999,
          23.59,
          23.43,
          23,
          23.389999,
          22.690001,
          22.379999,
          22.84,
          22.129999,
          22.290001,
          21.059999,
          20.940001,
          20.959999,
          22.309999,
          22.200001,
          20.780001,
          20.889999,
          20.98,
          20.92,
          20.9,
          20.41,
          20.92,
          20.92,
          21.49,
          21.049999,
          20.83,
          20.5,
          20.559999,
          20.5,
          21.049999,
          21.41,
          21.870001,
          21.75,
          21.870001,
          21.68,
          21.690001,
          21.879999,
          21.1,
          21.08,
          20.85,
          20.9,
          21,
          20.83,
          20.690001,
          20.6,
          20,
          19.780001,
          20.049999,
          20,
          19.67,
          19.610001,
          19.139999,
          19.24,
          19.129999,
          19.27,
          19.129999,
          18.959999,
          19.24,
          18.459999,
          18.42,
          19,
          18.690001,
          18.76,
          19.120001,
          19.66,
          19.549999,
          18.809999,
          18.950001,
          19.219999,
          19.139999,
          19.09,
          18.49,
          18.620001,
          18.719999,
          18.76,
          19.02,
          19.27,
          18.85,
          18.709999,
          19.23,
          19.42,
          19.42,
          19.129999,
          18.83,
          18.84,
          19.379999,
          19.68,
          19.42,
          19.4,
          19.35,
          19.51,
          19.17,
          19.030001,
          19.26,
          19.16,
          18.889999,
          18.85,
          19.02,
          18.49,
          18.450001,
          18.610001,
          18.75,
          19.07,
          19.17,
          19.27,
          19.290001,
          19.450001,
          19.43,
          19.74,
          20.65,
          21.129999,
          20.629999,
          21,
          20.969999,
          21.18,
          21.02,
          20.42,
          20.459999,
          20.35,
          20.620001,
          20.370001,
          20.360001,
          20.66,
          20.08,
          20.01,
          20.040001,
          20.469999,
          20.360001,
          20.620001,
          20.33,
          20.01,
          19.790001,
          19.52,
          19.52,
          19.209999,
          19.219999,
          19.02,
          19,
          19.059999,
          19.040001,
          19.059999,
          19.190001,
          19.059999,
          19.129999,
          19.23,
          19.110001,
          19.27,
          19.209999,
          18.879999,
          18.879999,
          18.879999,
          18.67,
          18.709999,
          18.690001,
          18.92,
          18.85,
          18.76,
          18.459999,
          18.35,
          18.84,
          18.799999,
          18.57,
          18.440001,
          18.780001,
          18.77,
          19,
          18.74,
          18.629999,
          18.65,
          18.639999,
          18.73,
          18.360001,
          18.280001,
          18.299999,
          18.02,
          18.1,
          18.059999,
          18.26,
          18.32,
          18.459999,
          18.459999,
          18.76,
          18.85,
          18.940001,
          19.049999,
          19.92,
          20.049999,
          20.08,
          20.190001,
          20.24,
          20.25,
          20.209999,
          20.299999,
          20.290001,
          20.17,
          20.209999,
          20.27,
          20.52,
          20.1,
          19.879999,
          19.91,
          20.290001,
          20.1,
          20.1,
          20.08,
          19.58,
          19.809999,
          19.780001,
          19.780001,
          19.58,
          19.4,
          19.049999,
          19.23,
          19.17,
          19.23,
          19.17,
          19.040001,
          19.1,
          18.870001,
          18.700001,
          18.719999,
          18.690001,
          18.6,
          18.629999,
          18.66,
          18.74,
          18.41,
          18.43,
          18.32,
          18.26,
          18.309999,
          18.24,
          17.959999,
          17.92,
          17.950001,
          17.77,
          17.77,
          17.08,
          17.07,
          16.99,
          16.83,
          16.780001,
          16.35,
          16.48,
          16.41,
          16.6,
          16.48,
          16.68,
          16.620001,
          16.73,
          16.68,
          16.709999,
          16.67,
          16.73,
          16.809999,
          16.459999,
          16.5,
          16.42,
          16.49,
          16.379999,
          15.82,
          15.5,
          15.48,
          15.36,
          14.66,
          14.82,
          15.1,
          14.92,
          15.11,
          15.03,
          14.97,
          15.63,
          15.5,
          15.55,
          15.48,
          15.6,
          15.79,
          15.78,
          15.98,
          15.87,
          14.83,
          15.78,
          15.75,
          15.73,
          15.77,
          15.61,
          15.71,
          16.32,
          16.370001,
          16.33,
          16.299999,
          15.47,
          15.08,
          15.1,
          15.25,
          15.39,
          14.99,
          15.04,
          15.09,
          15.35,
          15.11,
          15.58,
          15.06,
          15.11,
          15.5,
          15.83,
          15.85,
          15.64,
          15.77,
          15.87,
          16.290001,
          16.129999,
          16.15,
          16.950001,
          17.18,
          17.370001,
          17.610001,
          17.51,
          17.129999,
          17.33,
          17.23,
          16.24,
          16.540001,
          16.469999,
          16.549999,
          16.629999,
          16.58,
          16.030001,
          16.32,
          16.190001,
          16.08,
          16.15,
          16.540001,
          15.83,
          15.75,
          15.7,
          15.54,
          15.63,
          15.56,
          15.83,
          15.84,
          15.87,
          15.66,
          15.58,
          15.49,
          15.53,
          15.19,
          15.1,
          15.02,
          14.84,
          14.92,
          14.9,
          14.99,
          14.9,
          15.36,
          15.44,
          16,
          16.299999,
          16.280001,
          16.24,
          16.299999,
          16.219999,
          15.98,
          15.93,
          16.23,
          16.02,
          16.27,
          16.15,
          15.81,
          15.51,
          15.6,
          15.51,
          15.63,
          15.57,
          15.29,
          15.32,
          15.11,
          15.21,
          15.66,
          15.87,
          15.81,
          15.43,
          15.7,
          15.81,
          15.77,
          15.6,
          15.57,
          15.81,
          16.35,
          16.65,
          16.889999,
          16.379999,
          16.370001,
          16.389999,
          16.02,
          15.96,
          15.97,
          16,
          16.07,
          15.83,
          15.48,
          15.32,
          15.29,
          15.32,
          15.33,
          15.4,
          15.32,
          15.45,
          15.46,
          15.49,
          15.14,
          15.19,
          15.17,
          15.03,
          15.03,
          14.9,
          14.95,
          14.99,
          14.43,
          14.46,
          14.76,
          14.81,
          14.7,
          14.43,
          14.35,
          14.05,
          14.14,
          14.14,
          14,
          13.92,
          14.02,
          14.15,
          14.09,
          13.87,
          13.92,
          13.95,
          13.99,
          14.54,
          14.64,
          14.82,
          14.71,
          14.63,
          14.21,
          14.57,
          14.78,
          14.13,
          13.99,
          13.56,
          13.8,
          13.99,
          13.94,
          14.02,
          14.02,
          14.12,
          13.93,
          13.99,
          13.79,
          13.77,
          14.22,
          14.42,
          14.14,
          14.12,
          14.44,
          13.94,
          13.97,
          13.87,
          13.9,
          14.89,
          15.07,
          15.29,
          14.99,
          15.13,
          15.16,
          15.42,
          15.39,
          15.11,
          15.19,
          14.99,
          15.11,
          15.11,
          15.13,
          15.26,
          14.88,
          14.8,
          14.72,
          14.58,
          14.38,
          14.3,
          14.08,
          13.89,
          13.76,
          13.64,
          13.64,
          13.59,
          13.6,
          13.55,
          13.52,
          13.62,
          13.5,
          13.45,
          13.51,
          13.52,
          13.46,
          13.44,
          13.51,
          13.37,
          13.46,
          13.87,
          13.62,
          13.51,
          13.49,
          13.45,
          13.3,
          13.06,
          13.11,
          13.49,
          13.08,
          13.43,
          13.59,
          13.59,
          13.62,
          13.69,
          13.29,
          13.27,
          13.21,
          13.19,
          13.19,
          13.31,
          13.36,
          13.62,
          13.3,
          13.22,
          13.17,
          13.49,
          13.19,
          13.24,
          13.36,
          13.48,
          13.46,
          13.38,
          13.58,
          13.82,
          13.81,
          13.57,
          13.59,
          13.67,
          13.62,
          13.95,
          14.17,
          14.34,
          14.59,
          14.51,
          14.55,
          14.95,
          14.99,
          14.51,
          14.54,
          14.76,
          14.64,
          14.43,
          14.54,
          14.52,
          14.41,
          14.02,
          14.2,
          14.17,
          14.25,
          14.5,
          14.76,
          14.9,
          14.62,
          14.53,
          14.82,
          14.72,
          14.58,
          14.54,
          14.87,
          15.16,
          15.03,
          15.06,
          15.12,
          14.51,
          14.43,
          14.46,
          14.6,
          14.49,
          14.68,
          14.2,
          14.42,
          14.34,
          14.48,
          15.14,
          15.41,
          15.44,
          15.34,
          15.42,
          16.120001,
          16.139999,
          16.209999,
          16.17,
          16.290001,
          16.379999,
          16.77,
          16.639999,
          16.57,
          16.49,
          16.51,
          16.120001,
          16.280001,
          16.559999,
          16.219999,
          16.32,
          16.41,
          16,
          15.67,
          15.59,
          15.42,
          15.5,
          15.53,
          15.19,
          15.17,
          15.22,
          15.68,
          15.6,
          16.209999,
          16.469999,
          16.58,
          16.540001,
          16.690001,
          16.309999,
          16.65,
          16.379999,
          16.42,
          16.49,
          16.870001,
          16.91,
          17.370001,
          17.860001,
          18.98,
          19.1,
          18.709999,
          19.299999,
          19.09,
          19.389999,
          19.25,
          19.1,
          18.92,
          18.42,
          18.879999,
          18.540001,
          18.66,
          19.370001,
          19.209999,
          19.43,
          19.6,
          19.379999,
          19.35,
          18.74,
          18.870001,
          19.16,
          18.959999,
          18.83,
          18.82,
          18.68,
          18.77,
          17.969999,
          17.93,
          17.620001,
          17.629999,
          17.9,
          17.67,
          17.719999,
          17.940001,
          19.049999,
          18.780001,
          18.620001,
          18.17,
          17.93,
          18.02,
          18.040001,
          18.200001,
          18.27,
          18.85,
          18.9,
          18.41,
          18.17,
          18.209999,
          18.110001,
          17.870001,
          16.940001,
          16.85,
          16.440001,
          16.73,
          16.559999,
          16.65,
          16.610001,
          16.57,
          16.719999,
          16.790001,
          16.639999,
          16.700001,
          16.860001,
          16.709999,
          16.73,
          16.969999,
          17.41,
          17.559999,
          17.42,
          17.459999,
          17.290001,
          17.4,
          17.450001,
          17.559999,
          16.469999,
          16,
          16.190001,
          16.09,
          15.84,
          15.73,
          15.72,
          15.8,
          15.52,
          15.63,
          15.77,
          15.78,
          15.66,
          15.66,
          15.83,
          15.88,
          15.85,
          16.23,
          16.139999,
          15.97,
          16.190001,
          16.040001,
          15.93,
          15.18,
          15.27,
          15.17,
          15.24,
          15.12,
          14.98,
          14.91,
          15.13,
          15.2,
          15.32,
          15.11,
          15.44,
          15.58,
          15.76,
          15.64,
          15.7,
          15.91,
          15.87,
          15.91,
          15.94,
          16.280001,
          16.190001,
          16.120001,
          16.190001,
          16.290001,
          16.219999,
          16.1,
          15.93,
          16.219999,
          16.23,
          16.629999,
          16.610001,
          16.559999,
          16.57,
          16.82,
          16.790001,
          16.84,
          16.75,
          17.02,
          16.889999,
          17.01,
          17.040001,
          17.15,
          17.059999,
          17.030001,
          17.110001,
          17.24,
          17.4,
          17.27,
          17.370001,
          17.440001,
          16.799999,
          16.98,
          16.83,
          16.549999,
          16.32,
          16.059999,
          16.15,
          16.07,
          15.99,
          16.43,
          16.4,
          16.469999,
          16.5,
          16.610001,
          16.620001,
          16.67,
          16.809999,
          17.15,
          17.18,
          17.25,
          17.15,
          17.24,
          17.33,
          17.32,
          17.26,
          17,
          17.309999,
          17.459999,
          17.530001,
          17.43,
          17.34,
          17.18,
          17.059999,
          16.98,
          16.68,
          16.57,
          16.370001,
          15.99,
          15.93,
          15.59,
          15.43,
          15.41,
          15.3,
          15.35,
          15.45,
          15.75,
          15.93,
          16,
          15.71,
          16.23,
          16.15,
          16.280001,
          16.23,
          16.469999,
          16.389999,
          16.379999,
          16.629999,
          16.76,
          16.65,
          16.49,
          16.040001,
          15.95,
          15.95,
          15.88,
          15.61,
          15.59,
          15.54,
          15.68,
          15.68,
          15.79,
          15.92,
          15.73,
          15.3,
          15.18,
          15.15,
          14.99,
          15.05,
          14.87,
          15.22,
          15.38,
          15.4,
          15.42,
          15.58,
          15.59,
          15.75,
          15.68,
          15.9,
          15.79,
          15.67,
          15.72,
          15.33,
          15.56,
          15.98,
          16.18,
          16.129999,
          15.74,
          16.15,
          16.120001,
          16.07,
          16.07,
          16.15,
          16.030001,
          16.5,
          16.42,
          16.459999,
          16.65,
          16.91,
          16.870001,
          17.1,
          16.77,
          16.889999,
          16.76,
          16.77,
          16.27,
          16.360001,
          16.190001,
          16.030001,
          16.209999,
          15.91,
          15.83,
          15.92,
          15.67,
          15.71,
          15.69,
          15.69,
          16.02,
          16.15,
          16.25,
          16.26,
          16.25,
          16.09,
          16.059999,
          16.27,
          16.139999,
          16.02,
          16.01,
          15.85,
          15.91,
          15.79,
          16.18,
          16.17,
          15.92,
          16.27,
          16.01,
          16.059999,
          16.07,
          15.95,
          16.09,
          16.08,
          16.030001,
          15.98,
          16.01,
          16.17,
          16.08,
          16.1,
          15.91,
          15.64,
          15.51,
          15.53,
          15.44,
          15.23,
          15.1,
          14.87,
          14.96,
          14.85,
          14.86,
          15.15,
          15.02,
          15.15,
          15.22,
          15.22,
          15.25,
          15.22,
          15.4,
          15.59,
          15.73,
          15.88,
          15.99,
          16.209999,
          16.17,
          16.23,
          16.219999,
          16.15,
          16.030001,
          16.02,
          16.01,
          16.27,
          16.25,
          16.059999,
          15.97,
          16.049999,
          16.040001,
          16.08,
          16.559999,
          16.309999,
          16.41,
          16.209999,
          16.15,
          16.35,
          16.25,
          15.66,
          15.74,
          15.65,
          15.41,
          15.46,
          15.39,
          15.57,
          15.62,
          15.91,
          15.91,
          15.73,
          15.54,
          15.54,
          15.66,
          15.59,
          15.68,
          15.48,
          15.46,
          15.54,
          15.56,
          15.49,
          15.78,
          15.53,
          15.55,
          15.63,
          15.61,
          15.61,
          15.61,
          15.45,
          15.39,
          15.39,
          15.28,
          15.65,
          15.44,
          15.58,
          15.72,
          15.57,
          15.36,
          15.41,
          15.65,
          15.46,
          15.38,
          15.45,
          15.56,
          15.62,
          15.69,
          15.52,
          15.72,
          15.8,
          16.18,
          16.26,
          15.67,
          15.76,
          15.61,
          15.58,
          15.38,
          15.24,
          15.42,
          15.46,
          15.52,
          15.51,
          15.53,
          15.74,
          15.56,
          15.4542
         ],
         "yaxis": "y"
        }
       ],
       "layout": {
        "legend": {
         "tracegroupgap": 0
        },
        "template": {
         "data": {
          "bar": [
           {
            "error_x": {
             "color": "#f2f5fa"
            },
            "error_y": {
             "color": "#f2f5fa"
            },
            "marker": {
             "line": {
              "color": "rgb(17,17,17)",
              "width": 0.5
             },
             "pattern": {
              "fillmode": "overlay",
              "size": 10,
              "solidity": 0.2
             }
            },
            "type": "bar"
           }
          ],
          "barpolar": [
           {
            "marker": {
             "line": {
              "color": "rgb(17,17,17)",
              "width": 0.5
             },
             "pattern": {
              "fillmode": "overlay",
              "size": 10,
              "solidity": 0.2
             }
            },
            "type": "barpolar"
           }
          ],
          "carpet": [
           {
            "aaxis": {
             "endlinecolor": "#A2B1C6",
             "gridcolor": "#506784",
             "linecolor": "#506784",
             "minorgridcolor": "#506784",
             "startlinecolor": "#A2B1C6"
            },
            "baxis": {
             "endlinecolor": "#A2B1C6",
             "gridcolor": "#506784",
             "linecolor": "#506784",
             "minorgridcolor": "#506784",
             "startlinecolor": "#A2B1C6"
            },
            "type": "carpet"
           }
          ],
          "choropleth": [
           {
            "colorbar": {
             "outlinewidth": 0,
             "ticks": ""
            },
            "type": "choropleth"
           }
          ],
          "contour": [
           {
            "colorbar": {
             "outlinewidth": 0,
             "ticks": ""
            },
            "colorscale": [
             [
              0,
              "#0d0887"
             ],
             [
              0.1111111111111111,
              "#46039f"
             ],
             [
              0.2222222222222222,
              "#7201a8"
             ],
             [
              0.3333333333333333,
              "#9c179e"
             ],
             [
              0.4444444444444444,
              "#bd3786"
             ],
             [
              0.5555555555555556,
              "#d8576b"
             ],
             [
              0.6666666666666666,
              "#ed7953"
             ],
             [
              0.7777777777777778,
              "#fb9f3a"
             ],
             [
              0.8888888888888888,
              "#fdca26"
             ],
             [
              1,
              "#f0f921"
             ]
            ],
            "type": "contour"
           }
          ],
          "contourcarpet": [
           {
            "colorbar": {
             "outlinewidth": 0,
             "ticks": ""
            },
            "type": "contourcarpet"
           }
          ],
          "heatmap": [
           {
            "colorbar": {
             "outlinewidth": 0,
             "ticks": ""
            },
            "colorscale": [
             [
              0,
              "#0d0887"
             ],
             [
              0.1111111111111111,
              "#46039f"
             ],
             [
              0.2222222222222222,
              "#7201a8"
             ],
             [
              0.3333333333333333,
              "#9c179e"
             ],
             [
              0.4444444444444444,
              "#bd3786"
             ],
             [
              0.5555555555555556,
              "#d8576b"
             ],
             [
              0.6666666666666666,
              "#ed7953"
             ],
             [
              0.7777777777777778,
              "#fb9f3a"
             ],
             [
              0.8888888888888888,
              "#fdca26"
             ],
             [
              1,
              "#f0f921"
             ]
            ],
            "type": "heatmap"
           }
          ],
          "heatmapgl": [
           {
            "colorbar": {
             "outlinewidth": 0,
             "ticks": ""
            },
            "colorscale": [
             [
              0,
              "#0d0887"
             ],
             [
              0.1111111111111111,
              "#46039f"
             ],
             [
              0.2222222222222222,
              "#7201a8"
             ],
             [
              0.3333333333333333,
              "#9c179e"
             ],
             [
              0.4444444444444444,
              "#bd3786"
             ],
             [
              0.5555555555555556,
              "#d8576b"
             ],
             [
              0.6666666666666666,
              "#ed7953"
             ],
             [
              0.7777777777777778,
              "#fb9f3a"
             ],
             [
              0.8888888888888888,
              "#fdca26"
             ],
             [
              1,
              "#f0f921"
             ]
            ],
            "type": "heatmapgl"
           }
          ],
          "histogram": [
           {
            "marker": {
             "pattern": {
              "fillmode": "overlay",
              "size": 10,
              "solidity": 0.2
             }
            },
            "type": "histogram"
           }
          ],
          "histogram2d": [
           {
            "colorbar": {
             "outlinewidth": 0,
             "ticks": ""
            },
            "colorscale": [
             [
              0,
              "#0d0887"
             ],
             [
              0.1111111111111111,
              "#46039f"
             ],
             [
              0.2222222222222222,
              "#7201a8"
             ],
             [
              0.3333333333333333,
              "#9c179e"
             ],
             [
              0.4444444444444444,
              "#bd3786"
             ],
             [
              0.5555555555555556,
              "#d8576b"
             ],
             [
              0.6666666666666666,
              "#ed7953"
             ],
             [
              0.7777777777777778,
              "#fb9f3a"
             ],
             [
              0.8888888888888888,
              "#fdca26"
             ],
             [
              1,
              "#f0f921"
             ]
            ],
            "type": "histogram2d"
           }
          ],
          "histogram2dcontour": [
           {
            "colorbar": {
             "outlinewidth": 0,
             "ticks": ""
            },
            "colorscale": [
             [
              0,
              "#0d0887"
             ],
             [
              0.1111111111111111,
              "#46039f"
             ],
             [
              0.2222222222222222,
              "#7201a8"
             ],
             [
              0.3333333333333333,
              "#9c179e"
             ],
             [
              0.4444444444444444,
              "#bd3786"
             ],
             [
              0.5555555555555556,
              "#d8576b"
             ],
             [
              0.6666666666666666,
              "#ed7953"
             ],
             [
              0.7777777777777778,
              "#fb9f3a"
             ],
             [
              0.8888888888888888,
              "#fdca26"
             ],
             [
              1,
              "#f0f921"
             ]
            ],
            "type": "histogram2dcontour"
           }
          ],
          "mesh3d": [
           {
            "colorbar": {
             "outlinewidth": 0,
             "ticks": ""
            },
            "type": "mesh3d"
           }
          ],
          "parcoords": [
           {
            "line": {
             "colorbar": {
              "outlinewidth": 0,
              "ticks": ""
             }
            },
            "type": "parcoords"
           }
          ],
          "pie": [
           {
            "automargin": true,
            "type": "pie"
           }
          ],
          "scatter": [
           {
            "marker": {
             "line": {
              "color": "#283442"
             }
            },
            "type": "scatter"
           }
          ],
          "scatter3d": [
           {
            "line": {
             "colorbar": {
              "outlinewidth": 0,
              "ticks": ""
             }
            },
            "marker": {
             "colorbar": {
              "outlinewidth": 0,
              "ticks": ""
             }
            },
            "type": "scatter3d"
           }
          ],
          "scattercarpet": [
           {
            "marker": {
             "colorbar": {
              "outlinewidth": 0,
              "ticks": ""
             }
            },
            "type": "scattercarpet"
           }
          ],
          "scattergeo": [
           {
            "marker": {
             "colorbar": {
              "outlinewidth": 0,
              "ticks": ""
             }
            },
            "type": "scattergeo"
           }
          ],
          "scattergl": [
           {
            "marker": {
             "line": {
              "color": "#283442"
             }
            },
            "type": "scattergl"
           }
          ],
          "scattermapbox": [
           {
            "marker": {
             "colorbar": {
              "outlinewidth": 0,
              "ticks": ""
             }
            },
            "type": "scattermapbox"
           }
          ],
          "scatterpolar": [
           {
            "marker": {
             "colorbar": {
              "outlinewidth": 0,
              "ticks": ""
             }
            },
            "type": "scatterpolar"
           }
          ],
          "scatterpolargl": [
           {
            "marker": {
             "colorbar": {
              "outlinewidth": 0,
              "ticks": ""
             }
            },
            "type": "scatterpolargl"
           }
          ],
          "scatterternary": [
           {
            "marker": {
             "colorbar": {
              "outlinewidth": 0,
              "ticks": ""
             }
            },
            "type": "scatterternary"
           }
          ],
          "surface": [
           {
            "colorbar": {
             "outlinewidth": 0,
             "ticks": ""
            },
            "colorscale": [
             [
              0,
              "#0d0887"
             ],
             [
              0.1111111111111111,
              "#46039f"
             ],
             [
              0.2222222222222222,
              "#7201a8"
             ],
             [
              0.3333333333333333,
              "#9c179e"
             ],
             [
              0.4444444444444444,
              "#bd3786"
             ],
             [
              0.5555555555555556,
              "#d8576b"
             ],
             [
              0.6666666666666666,
              "#ed7953"
             ],
             [
              0.7777777777777778,
              "#fb9f3a"
             ],
             [
              0.8888888888888888,
              "#fdca26"
             ],
             [
              1,
              "#f0f921"
             ]
            ],
            "type": "surface"
           }
          ],
          "table": [
           {
            "cells": {
             "fill": {
              "color": "#506784"
             },
             "line": {
              "color": "rgb(17,17,17)"
             }
            },
            "header": {
             "fill": {
              "color": "#2a3f5f"
             },
             "line": {
              "color": "rgb(17,17,17)"
             }
            },
            "type": "table"
           }
          ]
         },
         "layout": {
          "annotationdefaults": {
           "arrowcolor": "#f2f5fa",
           "arrowhead": 0,
           "arrowwidth": 1
          },
          "autotypenumbers": "strict",
          "coloraxis": {
           "colorbar": {
            "outlinewidth": 0,
            "ticks": ""
           }
          },
          "colorscale": {
           "diverging": [
            [
             0,
             "#8e0152"
            ],
            [
             0.1,
             "#c51b7d"
            ],
            [
             0.2,
             "#de77ae"
            ],
            [
             0.3,
             "#f1b6da"
            ],
            [
             0.4,
             "#fde0ef"
            ],
            [
             0.5,
             "#f7f7f7"
            ],
            [
             0.6,
             "#e6f5d0"
            ],
            [
             0.7,
             "#b8e186"
            ],
            [
             0.8,
             "#7fbc41"
            ],
            [
             0.9,
             "#4d9221"
            ],
            [
             1,
             "#276419"
            ]
           ],
           "sequential": [
            [
             0,
             "#0d0887"
            ],
            [
             0.1111111111111111,
             "#46039f"
            ],
            [
             0.2222222222222222,
             "#7201a8"
            ],
            [
             0.3333333333333333,
             "#9c179e"
            ],
            [
             0.4444444444444444,
             "#bd3786"
            ],
            [
             0.5555555555555556,
             "#d8576b"
            ],
            [
             0.6666666666666666,
             "#ed7953"
            ],
            [
             0.7777777777777778,
             "#fb9f3a"
            ],
            [
             0.8888888888888888,
             "#fdca26"
            ],
            [
             1,
             "#f0f921"
            ]
           ],
           "sequentialminus": [
            [
             0,
             "#0d0887"
            ],
            [
             0.1111111111111111,
             "#46039f"
            ],
            [
             0.2222222222222222,
             "#7201a8"
            ],
            [
             0.3333333333333333,
             "#9c179e"
            ],
            [
             0.4444444444444444,
             "#bd3786"
            ],
            [
             0.5555555555555556,
             "#d8576b"
            ],
            [
             0.6666666666666666,
             "#ed7953"
            ],
            [
             0.7777777777777778,
             "#fb9f3a"
            ],
            [
             0.8888888888888888,
             "#fdca26"
            ],
            [
             1,
             "#f0f921"
            ]
           ]
          },
          "colorway": [
           "#636efa",
           "#EF553B",
           "#00cc96",
           "#ab63fa",
           "#FFA15A",
           "#19d3f3",
           "#FF6692",
           "#B6E880",
           "#FF97FF",
           "#FECB52"
          ],
          "font": {
           "color": "#f2f5fa"
          },
          "geo": {
           "bgcolor": "rgb(17,17,17)",
           "lakecolor": "rgb(17,17,17)",
           "landcolor": "rgb(17,17,17)",
           "showlakes": true,
           "showland": true,
           "subunitcolor": "#506784"
          },
          "hoverlabel": {
           "align": "left"
          },
          "hovermode": "closest",
          "mapbox": {
           "style": "dark"
          },
          "paper_bgcolor": "rgb(17,17,17)",
          "plot_bgcolor": "rgb(17,17,17)",
          "polar": {
           "angularaxis": {
            "gridcolor": "#506784",
            "linecolor": "#506784",
            "ticks": ""
           },
           "bgcolor": "rgb(17,17,17)",
           "radialaxis": {
            "gridcolor": "#506784",
            "linecolor": "#506784",
            "ticks": ""
           }
          },
          "scene": {
           "xaxis": {
            "backgroundcolor": "rgb(17,17,17)",
            "gridcolor": "#506784",
            "gridwidth": 2,
            "linecolor": "#506784",
            "showbackground": true,
            "ticks": "",
            "zerolinecolor": "#C8D4E3"
           },
           "yaxis": {
            "backgroundcolor": "rgb(17,17,17)",
            "gridcolor": "#506784",
            "gridwidth": 2,
            "linecolor": "#506784",
            "showbackground": true,
            "ticks": "",
            "zerolinecolor": "#C8D4E3"
           },
           "zaxis": {
            "backgroundcolor": "rgb(17,17,17)",
            "gridcolor": "#506784",
            "gridwidth": 2,
            "linecolor": "#506784",
            "showbackground": true,
            "ticks": "",
            "zerolinecolor": "#C8D4E3"
           }
          },
          "shapedefaults": {
           "line": {
            "color": "#f2f5fa"
           }
          },
          "sliderdefaults": {
           "bgcolor": "#C8D4E3",
           "bordercolor": "rgb(17,17,17)",
           "borderwidth": 1,
           "tickwidth": 0
          },
          "ternary": {
           "aaxis": {
            "gridcolor": "#506784",
            "linecolor": "#506784",
            "ticks": ""
           },
           "baxis": {
            "gridcolor": "#506784",
            "linecolor": "#506784",
            "ticks": ""
           },
           "bgcolor": "rgb(17,17,17)",
           "caxis": {
            "gridcolor": "#506784",
            "linecolor": "#506784",
            "ticks": ""
           }
          },
          "title": {
           "x": 0.05
          },
          "updatemenudefaults": {
           "bgcolor": "#506784",
           "borderwidth": 0
          },
          "xaxis": {
           "automargin": true,
           "gridcolor": "#283442",
           "linecolor": "#506784",
           "ticks": "",
           "title": {
            "standoff": 15
           },
           "zerolinecolor": "#283442",
           "zerolinewidth": 2
          },
          "yaxis": {
           "automargin": true,
           "gridcolor": "#283442",
           "linecolor": "#506784",
           "ticks": "",
           "title": {
            "standoff": 15
           },
           "zerolinecolor": "#283442",
           "zerolinewidth": 2
          }
         }
        },
        "title": {
         "text": "Strong Positive Correlation Between GLD and SLV (87%)"
        },
        "xaxis": {
         "anchor": "y",
         "domain": [
          0,
          1
         ],
         "title": {
          "text": "GLD"
         }
        },
        "yaxis": {
         "anchor": "x",
         "domain": [
          0,
          1
         ],
         "title": {
          "text": "SLV"
         }
        }
       }
      }
     },
     "metadata": {},
     "output_type": "display_data"
    }
   ],
   "source": [
    "# Highly Correlated\n",
    "px.scatter(x = df['GLD'],\n",
    "           y = df['SLV'],\n",
    "           color_discrete_sequence = ['red'],\n",
    "           template='plotly_dark',\n",
    "           title = \"Strong Positive Correlation Between GLD and SLV (87%)\",\n",
    "           labels = {'x':'GLD','y':'SLV'})"
   ]
  },
  {
   "cell_type": "markdown",
   "metadata": {},
   "source": [
    "## Assign Feature and Target variable"
   ]
  },
  {
   "cell_type": "code",
   "execution_count": 244,
   "metadata": {},
   "outputs": [],
   "source": [
    "X = df.drop(labels=['Year','GLD'] , axis=1)\n",
    "y = df['GLD']"
   ]
  },
  {
   "cell_type": "markdown",
   "metadata": {},
   "source": [
    "## Feature Scaling"
   ]
  },
  {
   "cell_type": "code",
   "execution_count": 245,
   "metadata": {},
   "outputs": [],
   "source": [
    "scaler = MinMaxScaler()\n",
    "X = scaler.fit_transform(X)"
   ]
  },
  {
   "cell_type": "markdown",
   "metadata": {},
   "source": [
    "## Splitting the data into Training and Testing data"
   ]
  },
  {
   "cell_type": "code",
   "execution_count": 246,
   "metadata": {},
   "outputs": [],
   "source": [
    "X_train, X_test, y_train, y_test = train_test_split(X , y , test_size = 0.25 , random_state = 44 , shuffle = True)"
   ]
  },
  {
   "cell_type": "code",
   "execution_count": 247,
   "metadata": {},
   "outputs": [
    {
     "name": "stdout",
     "output_type": "stream",
     "text": [
      "Shape of X_Train (1717, 4)\n",
      "Shape of X_Test (573, 4)\n",
      "Shape of Y_Train (1717,)\n",
      "Shape of Y_Test (573,)\n"
     ]
    }
   ],
   "source": [
    "print(f'Shape of X_Train {X_train.shape}')\n",
    "print(f'Shape of X_Test {X_test.shape}')\n",
    "print(f'Shape of Y_Train {y_train.shape}')\n",
    "print(f'Shape of Y_Test {y_test.shape}')"
   ]
  },
  {
   "cell_type": "markdown",
   "metadata": {},
   "source": [
    "<div style=\"color:white;\n",
    "            display:fill;\n",
    "            border-radius:15px;\n",
    "            background-color:black;\n",
    "            font-size:100%;\n",
    "            font-family:Verdana;\n",
    "            letter-spacing:1px\">\n",
    "    <h1 style='padding: 20px;\n",
    "              color:white;\n",
    "              text-align:center;'>\n",
    "         Modeling\n",
    "    </h1>\n",
    "    </div>"
   ]
  },
  {
   "cell_type": "markdown",
   "metadata": {},
   "source": [
    "## Use Different Models Algorithm"
   ]
  },
  {
   "cell_type": "code",
   "execution_count": 248,
   "metadata": {},
   "outputs": [],
   "source": [
    "def train(model,model_name):\n",
    "    model.fit(X_train,y_train)\n",
    "    model_train_score = model.score(X_train,y_train)\n",
    "    model_test_score = model.score(X_test,y_test)\n",
    "    print(f\"{model_name} model score on Training data: {model_train_score * 100}%\\n{model_name} model score on Testing data: {model_test_score * 100}%\")\n",
    "\n",
    "def r2(model,model_name):\n",
    "    score = r2_score(y_test,model.predict(X_test))\n",
    "    print(f\"R2 Score for {model_name} is {score * 100}%\")"
   ]
  },
  {
   "cell_type": "markdown",
   "metadata": {},
   "source": [
    "## Linear Regression Model"
   ]
  },
  {
   "cell_type": "code",
   "execution_count": 249,
   "metadata": {},
   "outputs": [
    {
     "name": "stdout",
     "output_type": "stream",
     "text": [
      "Linear Regression model score on Training data: 88.12883368668508%\n",
      "Linear Regression model score on Testing data: 88.16193431426868%\n",
      "R2 Score for Linear Regression is 88.16193431426868%\n"
     ]
    }
   ],
   "source": [
    "lr = LinearRegression()\n",
    "train(lr,'Linear Regression')\n",
    "r2(lr,'Linear Regression')"
   ]
  },
  {
   "cell_type": "markdown",
   "metadata": {},
   "source": [
    "## Random Forest Model"
   ]
  },
  {
   "cell_type": "code",
   "execution_count": 250,
   "metadata": {},
   "outputs": [
    {
     "name": "stdout",
     "output_type": "stream",
     "text": [
      "Random Forest model score on Training data: 99.81198155207646%\n",
      "Random Forest model score on Testing data: 98.7179678331627%\n",
      "R2 Score for Random Forest is 98.7179678331627%\n"
     ]
    }
   ],
   "source": [
    "rf_model = RandomForestRegressor(n_estimators = 100 , max_depth = 10)\n",
    "train(rf_model, \"Random Forest\")\n",
    "r2(rf_model, \"Random Forest\")"
   ]
  },
  {
   "cell_type": "markdown",
   "metadata": {},
   "source": [
    "## Bagging Model"
   ]
  },
  {
   "cell_type": "code",
   "execution_count": 251,
   "metadata": {},
   "outputs": [
    {
     "name": "stdout",
     "output_type": "stream",
     "text": [
      "Bagging model score on Training data: 99.74945997936206%\n",
      "Bagging model score on Testing data: 98.60586620649643%\n",
      "R2 Score for Bagging is 98.60586620649643%\n"
     ]
    }
   ],
   "source": [
    "bag = BaggingRegressor(n_estimators= 10)\n",
    "train(bag,'Bagging')\n",
    "r2(bag,'Bagging')"
   ]
  },
  {
   "cell_type": "markdown",
   "metadata": {},
   "source": [
    "## Gradient Boosting Model"
   ]
  },
  {
   "cell_type": "code",
   "execution_count": 252,
   "metadata": {},
   "outputs": [
    {
     "name": "stdout",
     "output_type": "stream",
     "text": [
      "Gradient Boosting model score on Training data: 98.86995012879898%\n",
      "Gradient Boosting model score on Testing data: 97.37125873428258%\n",
      "R2 Score for Gradient Boosting is 97.37125873428258%\n"
     ]
    }
   ],
   "source": [
    "GrBoost = GradientBoostingRegressor()\n",
    "train(GrBoost,'Gradient Boosting')\n",
    "r2(GrBoost,'Gradient Boosting')"
   ]
  },
  {
   "cell_type": "markdown",
   "metadata": {},
   "source": [
    "## KNN"
   ]
  },
  {
   "cell_type": "code",
   "execution_count": 253,
   "metadata": {},
   "outputs": [
    {
     "name": "stdout",
     "output_type": "stream",
     "text": [
      "KNN model score on Training data: 99.36683621159924%\n",
      "KNN model score on Testing data: 98.89544968223849%\n",
      "R2 Score for KNN is 98.89544968223849%\n"
     ]
    }
   ],
   "source": [
    "knn = KNeighborsRegressor()\n",
    "train(knn,'KNN')\n",
    "r2(knn,'KNN')"
   ]
  },
  {
   "cell_type": "markdown",
   "metadata": {},
   "source": [
    "## Decision Tree Regressor"
   ]
  },
  {
   "cell_type": "code",
   "execution_count": 254,
   "metadata": {},
   "outputs": [
    {
     "name": "stdout",
     "output_type": "stream",
     "text": [
      "Decision Tree model score on Training data: 100.0%\n",
      "Decision Tree model score on Testing data: 97.65872670778141%\n",
      "R2 Score for Decision Tree is 97.65872670778141%\n"
     ]
    }
   ],
   "source": [
    "DTR = DecisionTreeRegressor()\n",
    "train(DTR,'Decision Tree')\n",
    "r2(DTR,'Decision Tree')"
   ]
  },
  {
   "cell_type": "markdown",
   "metadata": {},
   "source": [
    "## XGBoost"
   ]
  },
  {
   "cell_type": "code",
   "execution_count": 255,
   "metadata": {},
   "outputs": [
    {
     "name": "stdout",
     "output_type": "stream",
     "text": [
      "XGBoost model score on Training data: 99.97419487748073%\n",
      "XGBoost model score on Testing data: 98.57461942252405%\n",
      "R2 Score for XGBoost is 98.57461942252405%\n"
     ]
    }
   ],
   "source": [
    "xgboost = XGBRegressor()\n",
    "train(xgboost, \"XGBoost\")\n",
    "r2(xgboost, \"XGBoost\")"
   ]
  }
 ],
 "metadata": {
  "kernelspec": {
   "display_name": "base",
   "language": "python",
   "name": "python3"
  },
  "language_info": {
   "codemirror_mode": {
    "name": "ipython",
    "version": 3
   },
   "file_extension": ".py",
   "mimetype": "text/x-python",
   "name": "python",
   "nbconvert_exporter": "python",
   "pygments_lexer": "ipython3",
   "version": "3.11.7"
  }
 },
 "nbformat": 4,
 "nbformat_minor": 2
}
